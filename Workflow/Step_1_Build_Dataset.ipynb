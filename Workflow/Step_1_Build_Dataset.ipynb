{
 "cells": [
  {
   "cell_type": "markdown",
   "id": "1c05e0c3-8918-4e1d-a268-e46c1afb298e",
   "metadata": {},
   "source": [
    "# User Input - Set Data Locations "
   ]
  },
  {
   "cell_type": "code",
   "execution_count": 1,
   "id": "d18edbc1-be55-4523-9523-388ff667db04",
   "metadata": {},
   "outputs": [],
   "source": [
    "## Dropbox directory = working directory\n",
    "wd = \"/Users/meghs/Google Drive/My Drive/Science/model_utilities_data/\"\n",
    "swd = \"/Users/meghs/Dropbox/Tropical_Forests_Data_Discovery/\"\n",
    "\n",
    "## Data and figure folders\n",
    "dd = wd + \"AGB_Data/\"\n",
    "sd = swd + 'Spatial_Data/'"
   ]
  },
  {
   "cell_type": "markdown",
   "id": "9dc750e3-a92e-4ec3-9b8a-5101a703495c",
   "metadata": {},
   "source": [
    "## Import Modules"
   ]
  },
  {
   "cell_type": "code",
   "execution_count": 2,
   "id": "c6aa5da3-d75a-4da1-8f95-a0adb2fc68a3",
   "metadata": {},
   "outputs": [],
   "source": [
    "## General\n",
    "import os\n",
    "from datetime import date\n",
    "\n",
    "## Earthshot Model Utilities\n",
    "import modelUtilities \n",
    "from modelUtilities import GetFeatures as gf\n",
    "from modelUtilities import SetupData\n",
    "\n",
    "## Get todays date \n",
    "today = date.today()\n",
    "year_now = today.strftime(\"%Y\")"
   ]
  },
  {
   "cell_type": "markdown",
   "id": "4c693977-0610-4c98-8f47-689ac69030b4",
   "metadata": {},
   "source": [
    "## Set Location of all Spatial Data"
   ]
  },
  {
   "cell_type": "code",
   "execution_count": null,
   "id": "9aec47f3-ab9d-478d-9366-21ae3bd2fe68",
   "metadata": {},
   "outputs": [],
   "source": [
    "## Files \n",
    "poorter       = dd + 'Poorter_2016_Data.csv'\n",
    "cwd_layer     = sd + 'CWD/CWD.bil/CWD.bil'\n",
    "biomass_layer = sd + \"Forest_AGB.tif\"\n",
    "ecoreg_layer  = sd + \"Terrestrial_Ecoregions/Terrestrial_Ecoregions.shp\"\n",
    "bio04_layer   = sd + \"WorldClim/Bio/wc2.1_2.5m_bio_4.tif\"\n",
    "bio15_layer   = sd + \"WorldClim/Bio/wc2.1_2.5m_bio_15.tif\"\n",
    "ppt_folder    = sd + \"WorldClim/wc2.1_30s_prec/\"\n",
    "tmax_folder   = sd + \"WorldClim/wc2.1_30s_tmax/\" \n",
    "cec_layer     = sd + \"T_CEC_CLAY.nc4\""
   ]
  },
  {
   "cell_type": "markdown",
   "id": "aad371e9-5e52-44c7-9da8-1376dd18660c",
   "metadata": {},
   "source": [
    "## Format Poorter Data"
   ]
  },
  {
   "cell_type": "code",
   "execution_count": null,
   "id": "543305b8-cc0f-44cd-bfa1-0f35d4914173",
   "metadata": {},
   "outputs": [],
   "source": [
    "df = SetupData.Format_Poorter(poorter)\n"
   ]
  },
  {
   "cell_type": "markdown",
   "id": "08ea5e3e-22a4-462d-b0bd-35e04b059b9b",
   "metadata": {},
   "source": [
    "## Get List of unique site/lat/lon information from poorter data to pull points from"
   ]
  },
  {
   "cell_type": "code",
   "execution_count": null,
   "id": "6da6c0c5-4134-4525-984d-3b0db0123d4c",
   "metadata": {},
   "outputs": [],
   "source": [
    "Location_Info = df[['Chronosequence','Latitude','Longitude']]\n",
    "Location_Info = Location_Info.drop_duplicates()\n",
    "Location_Info = Location_Info.reset_index(drop = True)\n"
   ]
  },
  {
   "cell_type": "markdown",
   "id": "c0507da8-9c0c-481f-9acd-4c53604aae0d",
   "metadata": {},
   "source": [
    "# Call Features from spatial data"
   ]
  },
  {
   "cell_type": "markdown",
   "id": "c6db8804-025b-41f3-8f9e-a66979f40e43",
   "metadata": {},
   "source": [
    "## Precipitation"
   ]
  },
  {
   "cell_type": "code",
   "execution_count": null,
   "id": "998e354c-676c-4d08-b3ef-13d102c0abc8",
   "metadata": {},
   "outputs": [],
   "source": [
    "  ppt = gf.Get_AnnualPPT(Location_DF = Location_Info, PPT_Folder = ppt_folder)"
   ]
  },
  {
   "cell_type": "markdown",
   "id": "578e9bca-2a5b-4614-80dc-b14ab4c24b47",
   "metadata": {},
   "source": [
    "## BioClim Variables (function would work for any of them)"
   ]
  },
  {
   "cell_type": "code",
   "execution_count": null,
   "id": "f1b57177-431b-44bc-bbef-2c645354f243",
   "metadata": {},
   "outputs": [],
   "source": [
    "bio04 = gf.Get_BioClim(Location_DF = Location_Info, Bio_Location=bio04_layer, BioName= \"Bio04\")\n",
    "bio15 = gf.Get_BioClim(Location_DF = Location_Info, Bio_Location=bio15_layer, BioName= \"Bio15\")\n",
    "  "
   ]
  },
  {
   "cell_type": "markdown",
   "id": "8e598f8b-31b2-44e1-ad0b-c37e513c97db",
   "metadata": {},
   "source": [
    "## Climatic Water Deficit "
   ]
  },
  {
   "cell_type": "code",
   "execution_count": null,
   "id": "4cd4ea8c-b91a-4597-9a8b-4b1473ca3691",
   "metadata": {},
   "outputs": [],
   "source": [
    "CWD = gf.Get_CWD(Location_DF = Location_Info, CWD_Location=cwd_layer)"
   ]
  },
  {
   "cell_type": "markdown",
   "id": "dc56b498-df01-4f1f-b96a-183e1bb77ce8",
   "metadata": {},
   "source": [
    "## Biome/Ecoregion Information: Currently has error in geopandas sjoin function"
   ]
  },
  {
   "cell_type": "code",
   "execution_count": null,
   "id": "ca719e4a-a8da-48f9-8c67-7553795a7bd5",
   "metadata": {},
   "outputs": [],
   "source": [
    "#biome = gf.Get_Biome(Location_DF = Location_Info, Bio_Location, BioName)"
   ]
  },
  {
   "cell_type": "markdown",
   "id": "a94b40a0-f362-4d05-90c0-cab06c06e070",
   "metadata": {},
   "source": [
    "## Maximum Temperature"
   ]
  },
  {
   "cell_type": "code",
   "execution_count": null,
   "id": "2f79ebec-adae-4058-a1f9-24e6274c9977",
   "metadata": {},
   "outputs": [],
   "source": [
    "tmax = gf.Get_MaxT(Location_DF = Location_Info, MaxT_Folder = tmax_folder)"
   ]
  },
  {
   "cell_type": "markdown",
   "id": "2f98957c-cf7e-415d-8d91-1bfa6e919091",
   "metadata": {},
   "source": [
    "## Cation Exchange Capacity (metric of soil fertility)"
   ]
  },
  {
   "cell_type": "code",
   "execution_count": null,
   "id": "7e716b1f-d4e8-4d01-93f9-dd854b67dee7",
   "metadata": {},
   "outputs": [],
   "source": [
    "cec = gf.Get_SoilCEC(Location_DF = Location_Info, SoilCEC_Location = cec_layer)"
   ]
  },
  {
   "cell_type": "markdown",
   "id": "466ce4a7-a1e1-4733-a706-3902ac5725a0",
   "metadata": {},
   "source": [
    "## Merge Back with original poorter data\n",
    "currently columns are added to the dataset as they are extracted, so whatever is run last will have all the previous data, should probably ammend this on future versions"
   ]
  },
  {
   "cell_type": "code",
   "execution_count": null,
   "id": "e18e4604-e5c8-4358-b2da-82fc8511947b",
   "metadata": {},
   "outputs": [],
   "source": [
    "final_df = df.merge(cec)"
   ]
  },
  {
   "cell_type": "markdown",
   "id": "eaa89c12-7551-44f6-9394-a90065c424f3",
   "metadata": {},
   "source": [
    "# Save newly built out data to CSV"
   ]
  },
  {
   "cell_type": "code",
   "execution_count": null,
   "id": "afc73a2d-1ac6-4592-a292-b589b0dbacc9",
   "metadata": {},
   "outputs": [],
   "source": [
    "out_filename = dd + \"AGB_Data_\" + today.strftime(\"%m.%d.%Y\") + \".csv\"\n",
    "final_df.to_csv(out_filename, index = False)"
   ]
  },
  {
   "cell_type": "markdown",
   "id": "9dd84bce-3683-49f6-b70f-7eeab2b24d10",
   "metadata": {},
   "source": [
    "NB: Currently the data "
   ]
  }
 ],
 "metadata": {
  "kernelspec": {
   "display_name": "Python 3 (ipykernel)",
   "language": "python",
   "name": "python3"
  },
  "language_info": {
   "codemirror_mode": {
    "name": "ipython",
    "version": 3
   },
   "file_extension": ".py",
   "mimetype": "text/x-python",
   "name": "python",
   "nbconvert_exporter": "python",
   "pygments_lexer": "ipython3",
   "version": "3.8.9"
  }
 },
 "nbformat": 4,
 "nbformat_minor": 5
}
