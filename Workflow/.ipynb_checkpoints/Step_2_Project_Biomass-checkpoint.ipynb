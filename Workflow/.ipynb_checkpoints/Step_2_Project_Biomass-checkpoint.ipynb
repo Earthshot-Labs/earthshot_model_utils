{
 "cells": [
  {
   "cell_type": "markdown",
   "id": "ee5af664-8a5f-4b44-a287-85fd8d8bb99f",
   "metadata": {},
   "source": [
    "USER INPUT: Set File Locations"
   ]
  },
  {
   "cell_type": "code",
   "execution_count": 3,
   "id": "fe40108a-65e8-4cc2-a031-1353c18b6bbc",
   "metadata": {},
   "outputs": [],
   "source": [
    "## Dropbox directory = working directory\n",
    "wd = \"/Users/meghs/Google Drive/My Drive/Science/model_utilities_data/\"\n",
    "swd = \"/Users/meghs/Dropbox/Tropical_Forests_Data_Discovery/\"\n",
    "\n",
    "## Data and figure folders\n",
    "dd = wd + \"AGB_Data/\"\n",
    "sd = swd + 'Spatial_Data/'\n",
    "od = wd + 'Code/science/Models/'"
   ]
  },
  {
   "cell_type": "markdown",
   "id": "3058e3f6-af9e-4330-9466-4d700a72ae0f",
   "metadata": {},
   "source": [
    "Files To Be Read In: Note Site here refers to the KMZ polygon of the project site"
   ]
  },
  {
   "cell_type": "code",
   "execution_count": 4,
   "id": "fd4a5b34-eab9-4298-9b49-de52c24f2441",
   "metadata": {},
   "outputs": [],
   "source": [
    "## Files \n",
    "site          = sd + 'Sites/Azuero Reforestation Corridor.kmz'\n",
    "cwd_layer     = sd + 'CWD/CWD.bil/CWD.bil'\n",
    "biomass_layer = sd + \"Forest_AGB.tif\"\n",
    "model_input   = swd + 'Code/science/Models/LM_CWD_Age_Gamma.pickle'\n"
   ]
  },
  {
   "cell_type": "markdown",
   "id": "9540aa83-b460-4b36-8605-64e7ad976c97",
   "metadata": {},
   "source": [
    "Import Modules"
   ]
  },
  {
   "cell_type": "code",
   "execution_count": 8,
   "id": "8677bec3-f438-4880-99ee-21acb7e13914",
   "metadata": {},
   "outputs": [],
   "source": [
    "## General\n",
    "import os\n",
    "from datetime import date\n",
    "\n",
    "## Earthshot Model Utilities\n",
    "import modelUtilities \n",
    "from modelUtilities import Models as md\n",
    "\n",
    "## Plotting \n",
    "import matplotlib.pyplot as plt\n",
    "import matplotlib as mpl\n",
    "import matplotlib.lines as lines\n",
    "\n",
    "## Get todays date \n",
    "today = date.today()\n",
    "year_now = today.strftime(\"%Y\")"
   ]
  },
  {
   "cell_type": "markdown",
   "id": "eacaea36-2ec7-4404-b1a2-c4677c579198",
   "metadata": {},
   "source": [
    "Extract KML from KMZ (Ignore potential warning message about Shapely/PyGEOS incompatibility)"
   ]
  },
  {
   "cell_type": "code",
   "execution_count": 9,
   "id": "72d87c49-1895-4d3a-b9cf-cba08112fb35",
   "metadata": {},
   "outputs": [],
   "source": [
    "site = md.Load_KMZ(kmz_file_location= sd + \"Sites/\", kmz_file_name=\"Azuero Reforestation Corridor.kmz\")\n"
   ]
  },
  {
   "cell_type": "markdown",
   "id": "3d6eccd2-42d0-47aa-b4d6-4569ef8817a8",
   "metadata": {},
   "source": [
    "Average CWD Values across the site polygon"
   ]
  },
  {
   "cell_type": "code",
   "execution_count": 10,
   "id": "d5e33f39-94a5-493e-b0f1-2c04058e4739",
   "metadata": {},
   "outputs": [
    {
     "ename": "TypeError",
     "evalue": "Zonal_Stats_Raster() got an unexpected keyword argument 'NODATA'",
     "output_type": "error",
     "traceback": [
      "\u001b[0;31m---------------------------------------------------------------------------\u001b[0m",
      "\u001b[0;31mTypeError\u001b[0m                                 Traceback (most recent call last)",
      "Input \u001b[0;32mIn [10]\u001b[0m, in \u001b[0;36m<cell line: 1>\u001b[0;34m()\u001b[0m\n\u001b[0;32m----> 1\u001b[0m cwd_value \u001b[38;5;241m=\u001b[39m \u001b[43mmd\u001b[49m\u001b[38;5;241;43m.\u001b[39;49m\u001b[43mZonal_Stats_Raster\u001b[49m\u001b[43m(\u001b[49m\u001b[43mRaster_Layer\u001b[49m\u001b[43m \u001b[49m\u001b[38;5;241;43m=\u001b[39;49m\u001b[43m \u001b[49m\u001b[43mcwd_layer\u001b[49m\u001b[43m,\u001b[49m\u001b[43m \u001b[49m\u001b[43mSite_KML\u001b[49m\u001b[43m \u001b[49m\u001b[38;5;241;43m=\u001b[39;49m\u001b[43m \u001b[49m\u001b[43msite\u001b[49m\u001b[43m,\u001b[49m\u001b[43m \u001b[49m\u001b[43mNODATA\u001b[49m\u001b[43m \u001b[49m\u001b[38;5;241;43m=\u001b[39;49m\u001b[43m \u001b[49m\u001b[38;5;241;43m-\u001b[39;49m\u001b[38;5;241;43m999\u001b[39;49m\u001b[43m)\u001b[49m\n",
      "\u001b[0;31mTypeError\u001b[0m: Zonal_Stats_Raster() got an unexpected keyword argument 'NODATA'"
     ]
    }
   ],
   "source": [
    "cwd_value = md.Zonal_Stats_Raster(Raster_Layer = cwd_layer, Site_KML = site, NODATA = -999)\n"
   ]
  },
  {
   "cell_type": "markdown",
   "id": "a059de60-806d-4c28-b446-604e93c94300",
   "metadata": {},
   "source": [
    "Optional: Get existing amount of Biomass at site (from 2010 map)"
   ]
  },
  {
   "cell_type": "code",
   "execution_count": 11,
   "id": "43d6f691-cf59-414d-a971-ae28353960ab",
   "metadata": {},
   "outputs": [
    {
     "ename": "TypeError",
     "evalue": "Zonal_Stats_Raster() got an unexpected keyword argument 'NODATA'",
     "output_type": "error",
     "traceback": [
      "\u001b[0;31m---------------------------------------------------------------------------\u001b[0m",
      "\u001b[0;31mTypeError\u001b[0m                                 Traceback (most recent call last)",
      "Input \u001b[0;32mIn [11]\u001b[0m, in \u001b[0;36m<cell line: 1>\u001b[0;34m()\u001b[0m\n\u001b[0;32m----> 1\u001b[0m bio_value \u001b[38;5;241m=\u001b[39m \u001b[43mmd\u001b[49m\u001b[38;5;241;43m.\u001b[39;49m\u001b[43mZonal_Stats_Raster\u001b[49m\u001b[43m(\u001b[49m\u001b[43mRaster_Layer\u001b[49m\u001b[43m \u001b[49m\u001b[38;5;241;43m=\u001b[39;49m\u001b[43m \u001b[49m\u001b[43mbiomass_layer\u001b[49m\u001b[43m,\u001b[49m\u001b[43m \u001b[49m\u001b[43mSite_KML\u001b[49m\u001b[43m \u001b[49m\u001b[38;5;241;43m=\u001b[39;49m\u001b[43m \u001b[49m\u001b[43msite\u001b[49m\u001b[43m,\u001b[49m\u001b[43m \u001b[49m\u001b[43mNODATA\u001b[49m\u001b[43m \u001b[49m\u001b[38;5;241;43m=\u001b[39;49m\u001b[43m \u001b[49m\u001b[38;5;241;43m-\u001b[39;49m\u001b[38;5;241;43m3.3999999521443642e+38\u001b[39;49m\u001b[43m)\u001b[49m\n",
      "\u001b[0;31mTypeError\u001b[0m: Zonal_Stats_Raster() got an unexpected keyword argument 'NODATA'"
     ]
    }
   ],
   "source": [
    "bio_value = md.Zonal_Stats_Raster(Raster_Layer = biomass_layer, Site_KML = site, NODATA = -3.3999999521443642e+38)\n"
   ]
  },
  {
   "cell_type": "markdown",
   "id": "e2387ca4-d02b-474a-b5f0-be1b9f43f38c",
   "metadata": {},
   "source": [
    "Run Linear Regression results from: AGB ~ CWD + Log(Age) against newly predict age data and CWD from our polygon"
   ]
  },
  {
   "cell_type": "code",
   "execution_count": 12,
   "id": "96b8852b-57f3-468f-9356-27475dc3cff5",
   "metadata": {},
   "outputs": [
    {
     "ename": "NameError",
     "evalue": "name 'cwd_value' is not defined",
     "output_type": "error",
     "traceback": [
      "\u001b[0;31m---------------------------------------------------------------------------\u001b[0m",
      "\u001b[0;31mNameError\u001b[0m                                 Traceback (most recent call last)",
      "Input \u001b[0;32mIn [12]\u001b[0m, in \u001b[0;36m<cell line: 1>\u001b[0;34m()\u001b[0m\n\u001b[0;32m----> 1\u001b[0m biomass_results \u001b[38;5;241m=\u001b[39m md\u001b[38;5;241m.\u001b[39mRegression_CWD_logAge(Model_Location \u001b[38;5;241m=\u001b[39m model_input, CWD_Value \u001b[38;5;241m=\u001b[39m \u001b[43mcwd_value\u001b[49m, Initial_Biomass \u001b[38;5;241m=\u001b[39m \u001b[38;5;28;01mFalse\u001b[39;00m, Bio_Value \u001b[38;5;241m=\u001b[39m \u001b[38;5;241m0\u001b[39m)\n",
      "\u001b[0;31mNameError\u001b[0m: name 'cwd_value' is not defined"
     ]
    }
   ],
   "source": [
    "biomass_results = md.Regression_CWD_logAge(Model_Location = model_input, CWD_Value = cwd_value, Initial_Biomass = False, Bio_Value = 0)\n"
   ]
  },
  {
   "cell_type": "markdown",
   "id": "fd9e25e5-0b43-4a36-b66d-9344ad77b7fd",
   "metadata": {},
   "source": [
    "Plot Results"
   ]
  },
  {
   "cell_type": "code",
   "execution_count": 13,
   "id": "2b3687f4-8c94-4f5f-9de3-19568f5b6b71",
   "metadata": {},
   "outputs": [
    {
     "ename": "NameError",
     "evalue": "name 'biomass_results' is not defined",
     "output_type": "error",
     "traceback": [
      "\u001b[0;31m---------------------------------------------------------------------------\u001b[0m",
      "\u001b[0;31mNameError\u001b[0m                                 Traceback (most recent call last)",
      "Input \u001b[0;32mIn [13]\u001b[0m, in \u001b[0;36m<cell line: 2>\u001b[0;34m()\u001b[0m\n\u001b[1;32m      1\u001b[0m mpl\u001b[38;5;241m.\u001b[39mrcParams[\u001b[38;5;124m'\u001b[39m\u001b[38;5;124mfigure.dpi\u001b[39m\u001b[38;5;124m'\u001b[39m] \u001b[38;5;241m=\u001b[39m \u001b[38;5;241m200\u001b[39m \u001b[38;5;66;03m## Change resolution\u001b[39;00m\n\u001b[0;32m----> 2\u001b[0m fig \u001b[38;5;241m=\u001b[39m \u001b[43mbiomass_results\u001b[49m\u001b[38;5;241m.\u001b[39mplot\u001b[38;5;241m.\u001b[39mscatter(x\u001b[38;5;241m=\u001b[39m\u001b[38;5;124m'\u001b[39m\u001b[38;5;124mAge\u001b[39m\u001b[38;5;124m'\u001b[39m, y\u001b[38;5;241m=\u001b[39m\u001b[38;5;124m'\u001b[39m\u001b[38;5;124mAGB_Mg_ha\u001b[39m\u001b[38;5;124m'\u001b[39m)\n\u001b[1;32m      3\u001b[0m fig\u001b[38;5;241m.\u001b[39madd_artist(lines\u001b[38;5;241m.\u001b[39mLine2D(biomass_results[\u001b[38;5;124m'\u001b[39m\u001b[38;5;124mAge\u001b[39m\u001b[38;5;124m'\u001b[39m], biomass_results[\u001b[38;5;124m'\u001b[39m\u001b[38;5;124mAGB_Mg_ha\u001b[39m\u001b[38;5;124m'\u001b[39m], color \u001b[38;5;241m=\u001b[39m \u001b[38;5;124m\"\u001b[39m\u001b[38;5;124mgray\u001b[39m\u001b[38;5;124m\"\u001b[39m))\n",
      "\u001b[0;31mNameError\u001b[0m: name 'biomass_results' is not defined"
     ]
    }
   ],
   "source": [
    "mpl.rcParams['figure.dpi'] = 200 ## Change resolution\n",
    "fig = biomass_results.plot.scatter(x='Age', y='AGB_Mg_ha')\n",
    "fig.add_artist(lines.Line2D(biomass_results['Age'], biomass_results['AGB_Mg_ha'], color = \"gray\"))"
   ]
  },
  {
   "cell_type": "code",
   "execution_count": null,
   "id": "b10d5cdb-90d3-4720-a647-20924a9fa9e6",
   "metadata": {},
   "outputs": [],
   "source": []
  }
 ],
 "metadata": {
  "kernelspec": {
   "display_name": "Python 3 (ipykernel)",
   "language": "python",
   "name": "python3"
  },
  "language_info": {
   "codemirror_mode": {
    "name": "ipython",
    "version": 3
   },
   "file_extension": ".py",
   "mimetype": "text/x-python",
   "name": "python",
   "nbconvert_exporter": "python",
   "pygments_lexer": "ipython3",
   "version": "3.8.9"
  }
 },
 "nbformat": 4,
 "nbformat_minor": 5
}
