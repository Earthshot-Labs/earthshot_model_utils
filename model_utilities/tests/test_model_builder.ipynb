{
 "cells": [
  {
   "cell_type": "markdown",
   "id": "045150a2-ac12-49ff-b8ea-1965c0930679",
   "metadata": {
    "tags": []
   },
   "source": [
    "# Imports"
   ]
  },
  {
   "cell_type": "code",
   "execution_count": 1,
   "id": "464e28de-25f9-449a-8e89-ed9c0efcdee3",
   "metadata": {},
   "outputs": [],
   "source": [
    "import sys\n",
    " \n",
    "# setting path\n",
    "sys.path.append('..')"
   ]
  },
  {
   "cell_type": "code",
   "execution_count": 2,
   "id": "56fe9791-61b6-4336-b447-c5968e1c5e05",
   "metadata": {},
   "outputs": [],
   "source": [
    "from model_builder import ModelBuilder\n",
    "import matplotlib.pyplot as plt"
   ]
  },
  {
   "cell_type": "markdown",
   "id": "c29ab76f-ffc0-47e0-9ca7-cbb002ebaea5",
   "metadata": {
    "tags": []
   },
   "source": [
    "# Model"
   ]
  },
  {
   "cell_type": "code",
   "execution_count": 3,
   "id": "2f343ed5-dfc8-49fa-8702-cfe65e31d11c",
   "metadata": {},
   "outputs": [],
   "source": [
    "model_builder = ModelBuilder()"
   ]
  },
  {
   "cell_type": "markdown",
   "id": "e9e2f9c0-605d-431e-99b2-e8243ca7a3af",
   "metadata": {
    "tags": []
   },
   "source": [
    "# Create Dataset"
   ]
  },
  {
   "cell_type": "code",
   "execution_count": 4,
   "id": "61bd644d-998b-4287-bbf9-8146568c2ec4",
   "metadata": {},
   "outputs": [],
   "source": [
    "# response_variable=['Response_Variable_Brazil_Atlantic_Forest_0forest_1deforested']\n",
    "# feature_names=['brazil_roads','elevation','aspect','slope','hillshade','brazil_protected_areas','population_density','forest_age','urbanization',\n",
    "#                'brazil_surrounding_forest','brazil_pasture','brazil_agriculture','south_america_rivers','urban_distance']\n",
    "\n",
    "feature_names = ['elevation', 'slope', 'distRivers', 'distRoads', 'distUrban', 'distPA', \n",
    "            'forest', 'pasture', 'agriculture', 'populationDensity', 'forestAge', 'urbanization']\n",
    "response_variable=['response']\n",
    "\n",
    "\n",
    "gcp_bucket = 'eartshot-science-team'\n",
    "gcp_folder_name = 'deforestation_risk'\n",
    "# samples_folder_name = f'Brazil_Atlantic_Forest_10km2_grids_samples_csv_scale30_1000numPoints'\n",
    "# name_csv_samples_merged_file = 'Brazil_Atlantic_Forest_10km2_grids_samples_csv_scale30_1000numPoints_val_test_set_10km_buffer.csv'\n",
    "# name_csv_samples_merged_file = '/Users/margauxmforstyhe/Desktop/workspace/Earthshot Labs/workspace/Science/science/Global_UNR_model/Mature_Forest_Biomass/temp/Brazil_Atlantic_Forest_10km2_grids_samples_csv_scale30_1000numPoints_val_test_set_10km_buffer.csv'\n",
    "\n",
    "samples_folder_name = f'deforestationRisk_MA_samples'\n",
    "name_csv_samples_merged_file = 'deforestationRisk_MA.csv'"
   ]
  },
  {
   "cell_type": "code",
   "execution_count": null,
   "id": "ce32ca29-a2c6-4399-a956-2740c002f4c3",
   "metadata": {},
   "outputs": [
    {
     "name": "stdout",
     "output_type": "stream",
     "text": [
      "Reading sample csv file: /Users/margauxmforstyhe/Desktop/workspace/Earthshot Labs/workspace/Science/science/Global_UNR_model/Mature_Forest_Biomass/temp/Brazil_Atlantic_Forest_10km2_grids_samples_csv_scale30_1000numPoints_val_test_set_10km_buffer.csv...\n"
     ]
    }
   ],
   "source": [
    "model_builder.create_dataset(response_variable=response_variable, \n",
    "                             samples_csv_local=False,\n",
    "                             feature_names=feature_names, \n",
    "                             gcp_bucket=gcp_bucket, \n",
    "                             gcp_folder_name=gcp_folder_name, \n",
    "                             samples_folder_name= samples_folder_name, \n",
    "                             name_csv_samples_merged_file = name_csv_samples_merged_file, \n",
    "                             use_test_val_buffered_sets = True)"
   ]
  },
  {
   "cell_type": "code",
   "execution_count": null,
   "id": "5fcb300d-6467-435c-b519-2d4b46a3ad58",
   "metadata": {},
   "outputs": [],
   "source": [
    "model_builder.X_train.head()"
   ]
  },
  {
   "cell_type": "code",
   "execution_count": null,
   "id": "3f17ad91-53ba-4320-a1ba-02fe83ebb85a",
   "metadata": {},
   "outputs": [],
   "source": [
    "model_builder.y_train.head()"
   ]
  },
  {
   "cell_type": "code",
   "execution_count": null,
   "id": "411d6276-f646-4e13-bb58-7274c371e9cc",
   "metadata": {},
   "outputs": [],
   "source": [
    "nb_forest_samples = model_builder.y_train[model_builder.y_train[response_variable[0]] == 0][response_variable[0]].count()\n",
    "nb_deforested_samples = model_builder.y_train[model_builder.y_train[response_variable[0]] == 1][response_variable[0]].count()\n",
    "print(f'There are {nb_forest_samples} forest samples and {nb_deforested_samples} deforested samples in training set')\n",
    "\n",
    "nb_forest_samples = model_builder.y_val[model_builder.y_val[response_variable[0]] == 0][response_variable[0]].count()\n",
    "nb_deforested_samples = model_builder.y_val[model_builder.y_val[response_variable[0]] == 1][response_variable[0]].count()\n",
    "print(f'There are {nb_forest_samples} forest samples and {nb_deforested_samples} deforested samples in validation set')\n",
    "\n",
    "nb_forest_samples = model_builder.y_test[model_builder.y_test[response_variable[0]] == 0][response_variable[0]].count()\n",
    "nb_deforested_samples = model_builder.y_test[model_builder.y_test[response_variable[0]] == 1][response_variable[0]].count()\n",
    "print(f'There are {nb_forest_samples} forest samples and {nb_deforested_samples} deforested samples in test set')\n"
   ]
  },
  {
   "cell_type": "code",
   "execution_count": null,
   "id": "73963ca7-84d8-40c5-b52f-bca3b63c6cb1",
   "metadata": {},
   "outputs": [],
   "source": [
    "# Training Predictors samples \n",
    "model_builder.X_train.shape"
   ]
  },
  {
   "cell_type": "code",
   "execution_count": null,
   "id": "895465ea-3028-400a-a895-78b44981999d",
   "metadata": {},
   "outputs": [],
   "source": [
    "# Training Response samples \n",
    "model_builder.y_train.shape"
   ]
  },
  {
   "cell_type": "code",
   "execution_count": null,
   "id": "bc46b4e5-0386-4ac9-aef5-31471ef357d0",
   "metadata": {},
   "outputs": [],
   "source": [
    "# Test Predictors samples \n",
    "model_builder.X_test.shape"
   ]
  },
  {
   "cell_type": "code",
   "execution_count": null,
   "id": "8cddb68f-b2fd-4853-bde6-bce8a74d5872",
   "metadata": {},
   "outputs": [],
   "source": [
    "# Test Response samples \n",
    "model_builder.y_test.shape"
   ]
  },
  {
   "cell_type": "code",
   "execution_count": null,
   "id": "061e450b-952b-4a6a-9965-92415d63873d",
   "metadata": {},
   "outputs": [],
   "source": [
    "model_builder.feature_names"
   ]
  },
  {
   "cell_type": "code",
   "execution_count": null,
   "id": "4f48569e-7498-4b38-bf0c-7d9ca7ff1111",
   "metadata": {},
   "outputs": [],
   "source": [
    "model_builder.response_variable"
   ]
  },
  {
   "cell_type": "markdown",
   "id": "b4ed8c07-28d6-4b50-82a8-ad5ceb073e16",
   "metadata": {},
   "source": [
    "# Hyperparameters tuning"
   ]
  },
  {
   "cell_type": "markdown",
   "id": "67b6f1f1-9533-4540-8af9-1b4b5c01b507",
   "metadata": {},
   "source": [
    "Finding best hyperparameters with GridSearch"
   ]
  },
  {
   "cell_type": "code",
   "execution_count": 9,
   "id": "95555975-0d13-4d91-8356-cffd4b242c7c",
   "metadata": {},
   "outputs": [
    {
     "name": "stdout",
     "output_type": "stream",
     "text": [
      "Fitting 5 folds for each of 60 candidates, totalling 300 fits\n",
      "{'criterion': 'squared_error', 'max_depth': 5, 'max_features': 'sqrt', 'n_estimators': 100}\n"
     ]
    }
   ],
   "source": [
    "# Uses val set \n",
    "best_params = model_builder.grid_search(n_estimators=[100, 200, 500], \n",
    "                                        max_features=['sqrt', 'log2'], \n",
    "                                        max_depth=[4,5,6,7,8], \n",
    "                                        criterion=['squared_error', 'absolute_error'], \n",
    "                                        random_state=42)"
   ]
  },
  {
   "cell_type": "code",
   "execution_count": 10,
   "id": "8001fd9a-0ed8-4ef4-86b7-27300dc76946",
   "metadata": {},
   "outputs": [
    {
     "data": {
      "text/plain": [
       "{'criterion': 'squared_error',\n",
       " 'max_depth': 5,\n",
       " 'max_features': 'sqrt',\n",
       " 'n_estimators': 100}"
      ]
     },
     "execution_count": 10,
     "metadata": {},
     "output_type": "execute_result"
    }
   ],
   "source": [
    "best_params"
   ]
  },
  {
   "cell_type": "markdown",
   "id": "64038099-75a8-4d78-bdd4-d4b9fe5e7503",
   "metadata": {},
   "source": [
    "# Training"
   ]
  },
  {
   "cell_type": "code",
   "execution_count": 16,
   "id": "4ab753a7-989a-4f80-81cf-6ba816217985",
   "metadata": {},
   "outputs": [],
   "source": [
    "model_builder.initialize_model(nb_trees=100, max_depth=5, random_state=42, max_features='sqrt', n_cores=-1, \n",
    "                               oob_score=True, bootstrap=True, criterion='squared_error')"
   ]
  },
  {
   "cell_type": "code",
   "execution_count": 17,
   "id": "937b3c4d-d7cf-4acf-a4a1-4d2d3373d162",
   "metadata": {},
   "outputs": [
    {
     "data": {
      "text/html": [
       "<style>#sk-container-id-1 {color: black;background-color: white;}#sk-container-id-1 pre{padding: 0;}#sk-container-id-1 div.sk-toggleable {background-color: white;}#sk-container-id-1 label.sk-toggleable__label {cursor: pointer;display: block;width: 100%;margin-bottom: 0;padding: 0.3em;box-sizing: border-box;text-align: center;}#sk-container-id-1 label.sk-toggleable__label-arrow:before {content: \"▸\";float: left;margin-right: 0.25em;color: #696969;}#sk-container-id-1 label.sk-toggleable__label-arrow:hover:before {color: black;}#sk-container-id-1 div.sk-estimator:hover label.sk-toggleable__label-arrow:before {color: black;}#sk-container-id-1 div.sk-toggleable__content {max-height: 0;max-width: 0;overflow: hidden;text-align: left;background-color: #f0f8ff;}#sk-container-id-1 div.sk-toggleable__content pre {margin: 0.2em;color: black;border-radius: 0.25em;background-color: #f0f8ff;}#sk-container-id-1 input.sk-toggleable__control:checked~div.sk-toggleable__content {max-height: 200px;max-width: 100%;overflow: auto;}#sk-container-id-1 input.sk-toggleable__control:checked~label.sk-toggleable__label-arrow:before {content: \"▾\";}#sk-container-id-1 div.sk-estimator input.sk-toggleable__control:checked~label.sk-toggleable__label {background-color: #d4ebff;}#sk-container-id-1 div.sk-label input.sk-toggleable__control:checked~label.sk-toggleable__label {background-color: #d4ebff;}#sk-container-id-1 input.sk-hidden--visually {border: 0;clip: rect(1px 1px 1px 1px);clip: rect(1px, 1px, 1px, 1px);height: 1px;margin: -1px;overflow: hidden;padding: 0;position: absolute;width: 1px;}#sk-container-id-1 div.sk-estimator {font-family: monospace;background-color: #f0f8ff;border: 1px dotted black;border-radius: 0.25em;box-sizing: border-box;margin-bottom: 0.5em;}#sk-container-id-1 div.sk-estimator:hover {background-color: #d4ebff;}#sk-container-id-1 div.sk-parallel-item::after {content: \"\";width: 100%;border-bottom: 1px solid gray;flex-grow: 1;}#sk-container-id-1 div.sk-label:hover label.sk-toggleable__label {background-color: #d4ebff;}#sk-container-id-1 div.sk-serial::before {content: \"\";position: absolute;border-left: 1px solid gray;box-sizing: border-box;top: 0;bottom: 0;left: 50%;z-index: 0;}#sk-container-id-1 div.sk-serial {display: flex;flex-direction: column;align-items: center;background-color: white;padding-right: 0.2em;padding-left: 0.2em;position: relative;}#sk-container-id-1 div.sk-item {position: relative;z-index: 1;}#sk-container-id-1 div.sk-parallel {display: flex;align-items: stretch;justify-content: center;background-color: white;position: relative;}#sk-container-id-1 div.sk-item::before, #sk-container-id-1 div.sk-parallel-item::before {content: \"\";position: absolute;border-left: 1px solid gray;box-sizing: border-box;top: 0;bottom: 0;left: 50%;z-index: -1;}#sk-container-id-1 div.sk-parallel-item {display: flex;flex-direction: column;z-index: 1;position: relative;background-color: white;}#sk-container-id-1 div.sk-parallel-item:first-child::after {align-self: flex-end;width: 50%;}#sk-container-id-1 div.sk-parallel-item:last-child::after {align-self: flex-start;width: 50%;}#sk-container-id-1 div.sk-parallel-item:only-child::after {width: 0;}#sk-container-id-1 div.sk-dashed-wrapped {border: 1px dashed gray;margin: 0 0.4em 0.5em 0.4em;box-sizing: border-box;padding-bottom: 0.4em;background-color: white;}#sk-container-id-1 div.sk-label label {font-family: monospace;font-weight: bold;display: inline-block;line-height: 1.2em;}#sk-container-id-1 div.sk-label-container {text-align: center;}#sk-container-id-1 div.sk-container {/* jupyter's `normalize.less` sets `[hidden] { display: none; }` but bootstrap.min.css set `[hidden] { display: none !important; }` so we also need the `!important` here to be able to override the default hidden behavior on the sphinx rendered scikit-learn.org. See: https://github.com/scikit-learn/scikit-learn/issues/21755 */display: inline-block !important;position: relative;}#sk-container-id-1 div.sk-text-repr-fallback {display: none;}</style><div id=\"sk-container-id-1\" class=\"sk-top-container\"><div class=\"sk-text-repr-fallback\"><pre>RandomForestRegressor(max_depth=5, max_features=&#x27;sqrt&#x27;, n_jobs=-1,\n",
       "                      oob_score=True, random_state=42, verbose=1)</pre><b>In a Jupyter environment, please rerun this cell to show the HTML representation or trust the notebook. <br />On GitHub, the HTML representation is unable to render, please try loading this page with nbviewer.org.</b></div><div class=\"sk-container\" hidden><div class=\"sk-item\"><div class=\"sk-estimator sk-toggleable\"><input class=\"sk-toggleable__control sk-hidden--visually\" id=\"sk-estimator-id-1\" type=\"checkbox\" checked><label for=\"sk-estimator-id-1\" class=\"sk-toggleable__label sk-toggleable__label-arrow\">RandomForestRegressor</label><div class=\"sk-toggleable__content\"><pre>RandomForestRegressor(max_depth=5, max_features=&#x27;sqrt&#x27;, n_jobs=-1,\n",
       "                      oob_score=True, random_state=42, verbose=1)</pre></div></div></div></div></div>"
      ],
      "text/plain": [
       "RandomForestRegressor(max_depth=5, max_features='sqrt', n_jobs=-1,\n",
       "                      oob_score=True, random_state=42, verbose=1)"
      ]
     },
     "execution_count": 17,
     "metadata": {},
     "output_type": "execute_result"
    }
   ],
   "source": [
    "model_builder.model"
   ]
  },
  {
   "cell_type": "code",
   "execution_count": 18,
   "id": "d8cff219-54ec-440d-a8db-aa30c9994664",
   "metadata": {},
   "outputs": [
    {
     "name": "stderr",
     "output_type": "stream",
     "text": [
      "[Parallel(n_jobs=-1)]: Using backend ThreadingBackend with 12 concurrent workers.\n",
      "[Parallel(n_jobs=-1)]: Done  26 tasks      | elapsed:    1.7s\n",
      "[Parallel(n_jobs=-1)]: Done 100 out of 100 | elapsed:    6.5s finished\n"
     ]
    }
   ],
   "source": [
    "model_builder.train()"
   ]
  },
  {
   "cell_type": "markdown",
   "id": "f6a926e4-ab00-4d47-92ff-199fa980598b",
   "metadata": {},
   "source": [
    "# Evaluation"
   ]
  },
  {
   "cell_type": "code",
   "execution_count": 19,
   "id": "1088713b-10fc-4359-a59c-0427c57346dd",
   "metadata": {
    "scrolled": true,
    "tags": []
   },
   "outputs": [],
   "source": [
    "# # On validation set\n",
    "# y_pred_val, mae_val, mse_val, rmse_val, oob_score_val, r2_val, feature_imp_val = model_builder.evaluate(X_test=model_builder.X_val,\n",
    "#                                                                     y_test=model_builder.y_val,\n",
    "#                                                                     save_figures=False, saving_base_output_name='testing_val_set')"
   ]
  },
  {
   "cell_type": "code",
   "execution_count": 20,
   "id": "105bb2d2-8b69-450a-85a4-e9c1f9ca66be",
   "metadata": {
    "scrolled": true,
    "tags": []
   },
   "outputs": [
    {
     "name": "stdout",
     "output_type": "stream",
     "text": [
      "\n",
      "Evaluation...\n",
      "\n",
      "\n",
      "\n",
      "Mean Absolute Error (MAE): 0.06394903097497152\n",
      "Mean Squared Error (MSE): 0.0067169183397205266\n",
      "Root Mean Squared Error (RMSE): 0.08195680776921785\n",
      "OOB prediction of accuracy is: 95.50891340548573%\n",
      "\n",
      "R2: 0.9578675595314827\n"
     ]
    },
    {
     "name": "stderr",
     "output_type": "stream",
     "text": [
      "[Parallel(n_jobs=12)]: Using backend ThreadingBackend with 12 concurrent workers.\n",
      "[Parallel(n_jobs=12)]: Done  26 tasks      | elapsed:    0.0s\n",
      "[Parallel(n_jobs=12)]: Done 100 out of 100 | elapsed:    0.1s finished\n"
     ]
    },
    {
     "data": {
      "image/png": "[encoded data removed]",
      "text/plain": [
       "<Figure size 500x500 with 1 Axes>"
      ]
     },
     "metadata": {},
     "output_type": "display_data"
    },
    {
     "data": {
      "image/png": "[encoded data removed]",
      "text/plain": [
       "<Figure size 500x500 with 1 Axes>"
      ]
     },
     "metadata": {},
     "output_type": "display_data"
    }
   ],
   "source": [
    "# On test set\n",
    "y_pred_test, mae_test, mse_test, rmse_test, oob_score_test, r2_test, feature_imp_test = model_builder.evaluate(X_test=model_builder.X_test,\n",
    "                                                                    y_test=model_builder.y_test,\n",
    "                                                                    save_figures=False, saving_base_output_name='testing_test_set')"
   ]
  },
  {
   "cell_type": "code",
   "execution_count": 21,
   "id": "1878799f-760b-48e5-8e24-d650cfedb398",
   "metadata": {},
   "outputs": [
    {
     "data": {
      "image/png": "[encoded data removed]",
      "text/plain": [
       "<Figure size 640x480 with 1 Axes>"
      ]
     },
     "metadata": {},
     "output_type": "display_data"
    }
   ],
   "source": [
    "predictor = 'pasture'\n",
    "plt.scatter(model_builder.X_test[predictor].values, model_builder.y_test, color = 'green')\n",
    "plt.scatter(model_builder.X_test[predictor].values, y_pred_test, color = 'blue')\n",
    "plt.title('Random Forest Regression')\n",
    "plt.xlabel(predictor)\n",
    "plt.ylabel('Deforestation risk')\n",
    "plt.show()"
   ]
  },
  {
   "cell_type": "markdown",
   "id": "3dffac4a-7fe1-45b4-85b0-c150db62b66f",
   "metadata": {},
   "source": [
    "# Inference on tiles"
   ]
  },
  {
   "cell_type": "code",
   "execution_count": null,
   "id": "a05e4fa1-0e95-42d4-b722-28e694aafe94",
   "metadata": {
    "scrolled": true,
    "tags": []
   },
   "outputs": [
    {
     "name": "stdout",
     "output_type": "stream",
     "text": [
      "There are 58 inference tiles\n",
      "\n",
      "Starting image: /Users/margauxmforstyhe/Desktop/Brazil_Deforestation_Risk_inference_2degrees_grid_scale30_with_spawn_as_base_raster/inference_tiles_scale30_52.tif\n",
      "Image opened\n",
      "tile shape: (7422, 6857, 12)\n",
      "Reshaped from (7422, 6857, 12) to (50892654, 12)\n",
      "(50892654, 12)\n"
     ]
    },
    {
     "name": "stderr",
     "output_type": "stream",
     "text": [
      "[Parallel(n_jobs=12)]: Using backend ThreadingBackend with 12 concurrent workers.\n",
      "[Parallel(n_jobs=12)]: Done  26 tasks      | elapsed:   30.2s\n",
      "[Parallel(n_jobs=12)]: Done 100 out of 100 | elapsed:  1.6min finished\n"
     ]
    },
    {
     "name": "stdout",
     "output_type": "stream",
     "text": [
      "Class prediction was successful without slicing!\n",
      "No slicing was necessary!\n",
      "Reshaped back to (7422, 6857)\n",
      "[ 0 13 14 15 16 17 18 19 20 21 22 23 24 25 26 27 28 29 30 31 32 33 34 35\n",
      " 36 37 38 39 40 41 42 43 44 45 46 47 48 49 50 51 52 53 54 55 56 57 58 59\n",
      " 60 61 62 63 64 65 66 67 68 69 70 71 72 73 74 75 76 77 78 79 80 86 91 93]\n",
      "(7422, 6857)\n",
      "Image saved to: TEST_RF_outputs_temp/RF_output_2022-11-17-10_29_49_0.tif\n",
      "\n",
      "\n",
      "\n",
      "\n",
      "Starting image: /Users/margauxmforstyhe/Desktop/Brazil_Deforestation_Risk_inference_2degrees_grid_scale30_with_spawn_as_base_raster/inference_tiles_scale30_46.tif\n",
      "Image opened\n",
      "tile shape: (2665, 3127, 12)\n",
      "Reshaped from (2665, 3127, 12) to (8333455, 12)\n",
      "(8333455, 12)\n"
     ]
    },
    {
     "name": "stderr",
     "output_type": "stream",
     "text": [
      "[Parallel(n_jobs=12)]: Using backend ThreadingBackend with 12 concurrent workers.\n",
      "[Parallel(n_jobs=12)]: Done  26 tasks      | elapsed:    1.2s\n",
      "[Parallel(n_jobs=12)]: Done 100 out of 100 | elapsed:    4.0s finished\n"
     ]
    },
    {
     "name": "stdout",
     "output_type": "stream",
     "text": [
      "Class prediction was successful without slicing!\n",
      "No slicing was necessary!\n",
      "Reshaped back to (2665, 3127)\n",
      "[ 0 15 16 17 18 19 20 21 22 23 24 25 26 27 28 29 30 31 32 33 34 35 36 37\n",
      " 38 39 40 41 42 43 44 45 46 47 48 49]\n",
      "(2665, 3127)\n",
      "Image saved to: TEST_RF_outputs_temp/RF_output_2022-11-17-10_29_58_1.tif\n",
      "\n",
      "\n",
      "\n",
      "\n",
      "Starting image: /Users/margauxmforstyhe/Desktop/Brazil_Deforestation_Risk_inference_2degrees_grid_scale30_with_spawn_as_base_raster/inference_tiles_scale30_8.tif\n",
      "Image opened\n",
      "tile shape: (7422, 7422, 12)\n",
      "Reshaped from (7422, 7422, 12) to (55086084, 12)\n",
      "(55086084, 12)\n"
     ]
    },
    {
     "name": "stderr",
     "output_type": "stream",
     "text": [
      "[Parallel(n_jobs=12)]: Using backend ThreadingBackend with 12 concurrent workers.\n",
      "[Parallel(n_jobs=12)]: Done  26 tasks      | elapsed:   21.9s\n",
      "[Parallel(n_jobs=12)]: Done 100 out of 100 | elapsed:  1.6min finished\n"
     ]
    },
    {
     "name": "stdout",
     "output_type": "stream",
     "text": [
      "Class prediction was successful without slicing!\n",
      "No slicing was necessary!\n",
      "Reshaped back to (7422, 7422)\n",
      "[ 0 18 19 20 21 22 23 24 25 26 27 28 29 30 31 32 33 34 35 36 37 38 39 40\n",
      " 41 42 43 44 45 46 47 48 49 50 51 52 53 54 55 56 57 58 59 60 61 62 63 64\n",
      " 65 66]\n",
      "(7422, 7422)\n",
      "Image saved to: TEST_RF_outputs_temp/RF_output_2022-11-17-10_33_05_2.tif\n",
      "\n",
      "\n",
      "\n",
      "\n",
      "Starting image: /Users/margauxmforstyhe/Desktop/Brazil_Deforestation_Risk_inference_2degrees_grid_scale30_with_spawn_as_base_raster/inference_tiles_scale30_9.tif\n",
      "Image opened\n",
      "tile shape: (7422, 7422, 12)\n",
      "Reshaped from (7422, 7422, 12) to (55086084, 12)\n",
      "(55086084, 12)\n"
     ]
    },
    {
     "name": "stderr",
     "output_type": "stream",
     "text": [
      "[Parallel(n_jobs=12)]: Using backend ThreadingBackend with 12 concurrent workers.\n",
      "[Parallel(n_jobs=12)]: Done  26 tasks      | elapsed:   29.6s\n",
      "[Parallel(n_jobs=12)]: Done 100 out of 100 | elapsed:  1.5min finished\n"
     ]
    },
    {
     "name": "stdout",
     "output_type": "stream",
     "text": [
      "Class prediction was successful without slicing!\n",
      "No slicing was necessary!\n",
      "Reshaped back to (7422, 7422)\n",
      "[ 0 14 15 16 17 18 19 20 21 22 23 24 25 26 27 28 29 30 31 32 33 34 35 36\n",
      " 37 38 39 40 41 42 43 44 45 46 47 48 49 50 51 52 53 54 55 56 57 58 59 60\n",
      " 61 62 63 64 65 66 67 68]\n",
      "(7422, 7422)\n",
      "Image saved to: TEST_RF_outputs_temp/RF_output_2022-11-17-10_36_23_3.tif\n",
      "\n",
      "\n",
      "\n",
      "\n",
      "Starting image: /Users/margauxmforstyhe/Desktop/Brazil_Deforestation_Risk_inference_2degrees_grid_scale30_with_spawn_as_base_raster/inference_tiles_scale30_47.tif\n",
      "Image opened\n",
      "tile shape: (7422, 7422, 12)\n",
      "Reshaped from (7422, 7422, 12) to (55086084, 12)\n",
      "(55086084, 12)\n"
     ]
    },
    {
     "name": "stderr",
     "output_type": "stream",
     "text": [
      "[Parallel(n_jobs=12)]: Using backend ThreadingBackend with 12 concurrent workers.\n",
      "[Parallel(n_jobs=12)]: Done  26 tasks      | elapsed:   32.5s\n",
      "[Parallel(n_jobs=12)]: Done 100 out of 100 | elapsed:  1.6min finished\n"
     ]
    },
    {
     "name": "stdout",
     "output_type": "stream",
     "text": [
      "Class prediction was successful without slicing!\n",
      "No slicing was necessary!\n",
      "Reshaped back to (7422, 7422)\n",
      "[ 0  9 10 11 12 13 14 15 16 17 18 19 20 21 22 23 24 25 26 27 28 29 30 31\n",
      " 32 33 34 35 36 37 38 39 40 41 42 43 44 45 46 47 48 49 50 51 52 53 54 55\n",
      " 56 57 58 59 60 61 62 63 64 65 66 67 68 69 70 72 73 78 81]\n",
      "(7422, 7422)\n",
      "Image saved to: TEST_RF_outputs_temp/RF_output_2022-11-17-10_40_03_4.tif\n",
      "\n",
      "\n",
      "\n",
      "\n",
      "Starting image: /Users/margauxmforstyhe/Desktop/Brazil_Deforestation_Risk_inference_2degrees_grid_scale30_with_spawn_as_base_raster/inference_tiles_scale30_53.tif\n",
      "Image opened\n",
      "tile shape: (7422, 7423, 12)\n",
      "Reshaped from (7422, 7423, 12) to (55093506, 12)\n",
      "(55093506, 12)\n"
     ]
    },
    {
     "name": "stderr",
     "output_type": "stream",
     "text": [
      "[Parallel(n_jobs=12)]: Using backend ThreadingBackend with 12 concurrent workers.\n",
      "[Parallel(n_jobs=12)]: Done  26 tasks      | elapsed:   34.1s\n",
      "[Parallel(n_jobs=12)]: Done 100 out of 100 | elapsed:  1.7min finished\n"
     ]
    },
    {
     "name": "stdout",
     "output_type": "stream",
     "text": [
      "Class prediction was successful without slicing!\n",
      "No slicing was necessary!\n",
      "Reshaped back to (7422, 7423)\n",
      "[ 0 13 14 15 16 17 18 19 20 21 22 23 24 25 26 27 28 29 30 31 32 33 34 35\n",
      " 36 37 38 39 40 41 42 43 44 45 46 47 48 49 50 51 52 53 54 55 56 57 58 59\n",
      " 60 61 62 63 64 65 66 67 68 69 70 71 72 73 74 75 76 77 78 79 80 81]\n",
      "(7422, 7423)\n",
      "Image saved to: TEST_RF_outputs_temp/RF_output_2022-11-17-10_44_01_5.tif\n",
      "\n",
      "\n",
      "\n",
      "\n",
      "Starting image: /Users/margauxmforstyhe/Desktop/Brazil_Deforestation_Risk_inference_2degrees_grid_scale30_with_spawn_as_base_raster/inference_tiles_scale30_45.tif\n",
      "Image opened\n",
      "tile shape: (4900, 7422, 12)\n",
      "Reshaped from (4900, 7422, 12) to (36367800, 12)\n",
      "(36367800, 12)\n"
     ]
    },
    {
     "name": "stderr",
     "output_type": "stream",
     "text": [
      "[Parallel(n_jobs=12)]: Using backend ThreadingBackend with 12 concurrent workers.\n",
      "[Parallel(n_jobs=12)]: Done  26 tasks      | elapsed:   14.4s\n",
      "[Parallel(n_jobs=12)]: Done 100 out of 100 | elapsed:   27.0s finished\n"
     ]
    },
    {
     "name": "stdout",
     "output_type": "stream",
     "text": [
      "Class prediction was successful without slicing!\n",
      "No slicing was necessary!\n",
      "Reshaped back to (4900, 7422)\n",
      "[ 0  9 10 11 12 13 14 15 16 17 18 19 20 21 22 23 24 25 26 27 28 29 30 31\n",
      " 32 33 34 35 36 37 38 39 40 41 42 43 44 46 47 48]\n",
      "(4900, 7422)\n",
      "Image saved to: TEST_RF_outputs_temp/RF_output_2022-11-17-10_45_40_6.tif\n",
      "\n",
      "\n",
      "\n",
      "\n",
      "Starting image: /Users/margauxmforstyhe/Desktop/Brazil_Deforestation_Risk_inference_2degrees_grid_scale30_with_spawn_as_base_raster/inference_tiles_scale30_51.tif\n",
      "Image opened\n",
      "tile shape: (4242, 4779, 12)\n",
      "Reshaped from (4242, 4779, 12) to (20272518, 12)\n",
      "(20272518, 12)\n"
     ]
    },
    {
     "name": "stderr",
     "output_type": "stream",
     "text": [
      "[Parallel(n_jobs=12)]: Using backend ThreadingBackend with 12 concurrent workers.\n",
      "[Parallel(n_jobs=12)]: Done  26 tasks      | elapsed:    4.0s\n",
      "[Parallel(n_jobs=12)]: Done 100 out of 100 | elapsed:   10.7s finished\n"
     ]
    },
    {
     "name": "stdout",
     "output_type": "stream",
     "text": [
      "Class prediction was successful without slicing!\n",
      "No slicing was necessary!\n",
      "Reshaped back to (4242, 4779)\n",
      "[ 0 19 20 21 22 23 24 25 26 27 28 29 30 31 32 33 34 35 36 37 38 39 40 41\n",
      " 42 43 44 45 46 47 48 49 50 51 52 53 54 55 56 57 58 59 60 61 62 63 65]\n",
      "(4242, 4779)\n",
      "Image saved to: TEST_RF_outputs_temp/RF_output_2022-11-17-10_46_34_7.tif\n",
      "\n",
      "\n",
      "\n",
      "\n",
      "Starting image: /Users/margauxmforstyhe/Desktop/Brazil_Deforestation_Risk_inference_2degrees_grid_scale30_with_spawn_as_base_raster/inference_tiles_scale30_50.tif\n",
      "Image opened\n",
      "tile shape: (1534, 511, 12)\n",
      "Reshaped from (1534, 511, 12) to (783874, 12)\n",
      "(783874, 12)\n"
     ]
    },
    {
     "name": "stderr",
     "output_type": "stream",
     "text": [
      "[Parallel(n_jobs=12)]: Using backend ThreadingBackend with 12 concurrent workers.\n",
      "[Parallel(n_jobs=12)]: Done  26 tasks      | elapsed:    0.1s\n",
      "[Parallel(n_jobs=12)]: Done 100 out of 100 | elapsed:    0.4s finished\n"
     ]
    },
    {
     "name": "stdout",
     "output_type": "stream",
     "text": [
      "Class prediction was successful without slicing!\n",
      "No slicing was necessary!\n",
      "Reshaped back to (1534, 511)\n",
      "[0]\n",
      "(1534, 511)\n",
      "Image saved to: TEST_RF_outputs_temp/RF_output_2022-11-17-10_46_35_8.tif\n",
      "\n",
      "\n",
      "\n",
      "\n",
      "Starting image: /Users/margauxmforstyhe/Desktop/Brazil_Deforestation_Risk_inference_2degrees_grid_scale30_with_spawn_as_base_raster/inference_tiles_scale30_44.tif\n",
      "Image opened\n",
      "tile shape: (7423, 7422, 12)\n",
      "Reshaped from (7423, 7422, 12) to (55093506, 12)\n",
      "(55093506, 12)\n"
     ]
    },
    {
     "name": "stderr",
     "output_type": "stream",
     "text": [
      "[Parallel(n_jobs=12)]: Using backend ThreadingBackend with 12 concurrent workers.\n",
      "[Parallel(n_jobs=12)]: Done  26 tasks      | elapsed:   30.3s\n",
      "[Parallel(n_jobs=12)]: Done 100 out of 100 | elapsed:  1.6min finished\n"
     ]
    },
    {
     "name": "stdout",
     "output_type": "stream",
     "text": [
      "Class prediction was successful without slicing!\n",
      "No slicing was necessary!\n",
      "Reshaped back to (7423, 7422)\n",
      "[  0   9  10  11  12  13  14  15  16  17  18  19  20  21  22  23  24  25\n",
      "  26  27  28  29  30  31  32  33  34  35  36  37  38  39  40  41  42  43\n",
      "  44  45  46  47  48  49  50  51  52  53  54  55  56  57  58  59  60  61\n",
      "  62  63  64  65  66  67  68  69  70  71  72  73  74  75  76  77  78  79\n",
      "  80  81  82  83  84  85  86  87  88  89  90  93  97  99 101]\n",
      "(7423, 7422)\n",
      "Image saved to: TEST_RF_outputs_temp/RF_output_2022-11-17-10_49_44_9.tif\n",
      "\n",
      "\n",
      "\n",
      "\n",
      "Starting image: /Users/margauxmforstyhe/Desktop/Brazil_Deforestation_Risk_inference_2degrees_grid_scale30_with_spawn_as_base_raster/inference_tiles_scale30_40.tif\n",
      "Image opened\n"
     ]
    }
   ],
   "source": [
    "model_builder.inference(mask_band='forest_age', \n",
    "                        tiles_folder_name='Brazil_Deforestation_Risk_inference_2degrees_grid_scale30_with_spawn_as_base_raster', \n",
    "                        tiles_in_GCP=False,   # Running locally\n",
    "                        RF_output_folder_temp='TEST_RF_outputs_temp',\n",
    "                        path_to_tiles_local='/Users/margauxmforstyhe/Desktop/Brazil_Deforestation_Risk_inference_2degrees_grid_scale30_with_spawn_as_base_raster'\n",
    "                       )\n"
   ]
  }
 ],
 "metadata": {
  "kernelspec": {
   "display_name": "Python 3 (ipykernel)",
   "language": "python",
   "name": "python3"
  },
  "language_info": {
   "codemirror_mode": {
    "name": "ipython",
    "version": 3
   },
   "file_extension": ".py",
   "mimetype": "text/x-python",
   "name": "python",
   "nbconvert_exporter": "python",
   "pygments_lexer": "ipython3",
   "version": "3.10.6"
  }
 },
 "nbformat": 4,
 "nbformat_minor": 5
}
