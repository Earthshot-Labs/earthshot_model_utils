{
 "cells": [
  {
   "cell_type": "markdown",
   "id": "045150a2-ac12-49ff-b8ea-1965c0930679",
   "metadata": {
    "tags": []
   },
   "source": [
    "# Imports"
   ]
  },
  {
   "cell_type": "code",
   "execution_count": 1,
   "id": "464e28de-25f9-449a-8e89-ed9c0efcdee3",
   "metadata": {},
   "outputs": [],
   "source": [
    "import sys\n",
    " \n",
    "# setting path\n",
    "sys.path.append('..')"
   ]
  },
  {
   "cell_type": "code",
   "execution_count": 2,
   "id": "56fe9791-61b6-4336-b447-c5968e1c5e05",
   "metadata": {},
   "outputs": [
    {
     "name": "stderr",
     "output_type": "stream",
     "text": [
      "2022-12-01 11:34:50.668220: I tensorflow/core/platform/cpu_feature_guard.cc:193] This TensorFlow binary is optimized with oneAPI Deep Neural Network Library (oneDNN) to use the following CPU instructions in performance-critical operations:  AVX2 FMA\n",
      "To enable them in other operations, rebuild TensorFlow with the appropriate compiler flags.\n"
     ]
    },
    {
     "name": "stdout",
     "output_type": "stream",
     "text": [
      "/Users/margauxmforstyhe/Desktop/workspace/Earthshot Labs/workspace/Science/model_utilities/model_utilities\n"
     ]
    }
   ],
   "source": [
    "from model_builder import ModelBuilder\n",
    "import matplotlib.pyplot as plt"
   ]
  },
  {
   "cell_type": "markdown",
   "id": "c29ab76f-ffc0-47e0-9ca7-cbb002ebaea5",
   "metadata": {
    "tags": []
   },
   "source": [
    "# Model"
   ]
  },
  {
   "cell_type": "markdown",
   "id": "e04c3aee-484c-4345-9907-1101aa96ad55",
   "metadata": {},
   "source": [
    "Initialize the model builder"
   ]
  },
  {
   "cell_type": "code",
   "execution_count": 3,
   "id": "2f343ed5-dfc8-49fa-8702-cfe65e31d11c",
   "metadata": {},
   "outputs": [],
   "source": [
    "model_builder = ModelBuilder()"
   ]
  },
  {
   "cell_type": "markdown",
   "id": "e9e2f9c0-605d-431e-99b2-e8243ca7a3af",
   "metadata": {
    "tags": []
   },
   "source": [
    "# Create Dataset"
   ]
  },
  {
   "cell_type": "markdown",
   "id": "39ff36b1-226c-4e5b-828f-b4b25d2a5a81",
   "metadata": {},
   "source": [
    "We want to predict the deforestation risk using predictors such as terrain information, proximity to roads/pasture/agriculture/urbanization, population density, etc. \n",
    "Create the dataset for the training from the csv files that contains all the samples "
   ]
  },
  {
   "cell_type": "code",
   "execution_count": 4,
   "id": "61bd644d-998b-4287-bbf9-8146568c2ec4",
   "metadata": {},
   "outputs": [],
   "source": [
    "# Response variable is the deforestation risk value\n",
    "response_variable=['deforestation_risk_Acre']\n",
    "\n",
    "# Predictors names that we want to use for the training\n",
    "feature_names = ['brazil_roads',\n",
    "                 'elevation',\n",
    "                 'slope',\n",
    "                 'brazil_protected_areas',\n",
    "                 'population_density',\n",
    "                 'brazil_surrounding_forest',\n",
    "                 'brazil_pasture',\n",
    "                 'brazil_agriculture',\n",
    "                 'south_america_rivers',\n",
    "                 'urban_distance']\n",
    "# feature_names = ['brazil_roads',\n",
    "#                  'brazil_protected_areas',\n",
    "#                  'population_density',\n",
    "#                  'brazil_surrounding_forest',\n",
    "#                  'brazil_pasture',\n",
    "#                  'urban_distance']\n",
    "\n",
    "gcp_bucket = 'eartshot-science-team'\n",
    "gcp_folder_name = 'deforestation_risk'\n",
    "samples_folder_name = f'Brazil_Acre_100km2_grids_samples_csv_scale30_1000numPoints'\n",
    "name_csv_samples_merged_file = '/Users/margauxmforstyhe/Desktop/deforestation_risk/Brazil_Acre_100km2_grids_samples_csv_scale30_1000numPoints/Brazil_Acre_100km2_grids_samples_csv_scale30_1000numPoints_val_test_set_5km_buffer.csv'\n"
   ]
  },
  {
   "cell_type": "markdown",
   "id": "425bb62f-0673-4158-acff-8a2001d7deee",
   "metadata": {},
   "source": [
    "Create the dataset with train, test and val splits"
   ]
  },
  {
   "cell_type": "code",
   "execution_count": 5,
   "id": "ce32ca29-a2c6-4399-a956-2740c002f4c3",
   "metadata": {},
   "outputs": [
    {
     "name": "stdout",
     "output_type": "stream",
     "text": [
      "Reading sample csv file: /Users/margauxmforstyhe/Desktop/deforestation_risk/Brazil_Acre_100km2_grids_samples_csv_scale30_1000numPoints/Brazil_Acre_100km2_grids_samples_csv_scale30_1000numPoints_val_test_set_5km_buffer.csv...\n",
      "We have 297322 samples\n",
      "Training samples: 237857\n",
      "Test samples: 59465\n",
      "Validation samples: 0\n"
     ]
    }
   ],
   "source": [
    "model_builder.train_val_test_split(response_variable=response_variable, \n",
    "                             samples_csv_local=True,\n",
    "                             feature_names=feature_names, \n",
    "                             gcp_bucket=gcp_bucket, \n",
    "                             gcp_folder_name=gcp_folder_name, \n",
    "                             samples_folder_name= samples_folder_name, \n",
    "                             name_csv_samples_merged_file = name_csv_samples_merged_file, \n",
    "                             use_test_val_buffered_sets = False,\n",
    "                             test_size=0.20,\n",
    "                             # name_test_buffer_column='test_set_5km_buffer', \n",
    "                             # name_val_buffer_column='val_set_5km_buffer', \n",
    "                             # name_test_no_buffer_column='test_set_no_buffer', \n",
    "                             # name_val_no_buffer_column='val_set_no_buffer'\n",
    "                            )"
   ]
  },
  {
   "cell_type": "markdown",
   "id": "c274c9a5-4d8c-44f8-b74c-6d9d7ff46926",
   "metadata": {},
   "source": [
    "Let's take a look at our training predictors:"
   ]
  },
  {
   "cell_type": "code",
   "execution_count": 6,
   "id": "5fcb300d-6467-435c-b519-2d4b46a3ad58",
   "metadata": {},
   "outputs": [
    {
     "data": {
      "text/html": [
       "<div>\n",
       "<style scoped>\n",
       "    .dataframe tbody tr th:only-of-type {\n",
       "        vertical-align: middle;\n",
       "    }\n",
       "\n",
       "    .dataframe tbody tr th {\n",
       "        vertical-align: top;\n",
       "    }\n",
       "\n",
       "    .dataframe thead th {\n",
       "        text-align: right;\n",
       "    }\n",
       "</style>\n",
       "<table border=\"1\" class=\"dataframe\">\n",
       "  <thead>\n",
       "    <tr style=\"text-align: right;\">\n",
       "      <th></th>\n",
       "      <th>brazil_roads</th>\n",
       "      <th>elevation</th>\n",
       "      <th>slope</th>\n",
       "      <th>brazil_protected_areas</th>\n",
       "      <th>population_density</th>\n",
       "      <th>brazil_surrounding_forest</th>\n",
       "      <th>brazil_pasture</th>\n",
       "      <th>brazil_agriculture</th>\n",
       "      <th>south_america_rivers</th>\n",
       "      <th>urban_distance</th>\n",
       "    </tr>\n",
       "  </thead>\n",
       "  <tbody>\n",
       "    <tr>\n",
       "      <th>74058</th>\n",
       "      <td>23818.293582</td>\n",
       "      <td>173</td>\n",
       "      <td>0</td>\n",
       "      <td>177674.320284</td>\n",
       "      <td>0.423144</td>\n",
       "      <td>918</td>\n",
       "      <td>40</td>\n",
       "      <td>0</td>\n",
       "      <td>1292.089820</td>\n",
       "      <td>20517</td>\n",
       "    </tr>\n",
       "    <tr>\n",
       "      <th>106018</th>\n",
       "      <td>15513.510126</td>\n",
       "      <td>190</td>\n",
       "      <td>1</td>\n",
       "      <td>29363.389572</td>\n",
       "      <td>1.860605</td>\n",
       "      <td>961</td>\n",
       "      <td>0</td>\n",
       "      <td>0</td>\n",
       "      <td>1051.277662</td>\n",
       "      <td>16865</td>\n",
       "    </tr>\n",
       "    <tr>\n",
       "      <th>19902</th>\n",
       "      <td>10640.357294</td>\n",
       "      <td>223</td>\n",
       "      <td>8</td>\n",
       "      <td>110540.556156</td>\n",
       "      <td>2.102675</td>\n",
       "      <td>532</td>\n",
       "      <td>429</td>\n",
       "      <td>0</td>\n",
       "      <td>1018.560161</td>\n",
       "      <td>11899</td>\n",
       "    </tr>\n",
       "    <tr>\n",
       "      <th>175334</th>\n",
       "      <td>224774.298513</td>\n",
       "      <td>368</td>\n",
       "      <td>9</td>\n",
       "      <td>130510.381483</td>\n",
       "      <td>0.036595</td>\n",
       "      <td>961</td>\n",
       "      <td>0</td>\n",
       "      <td>0</td>\n",
       "      <td>858.104976</td>\n",
       "      <td>141130</td>\n",
       "    </tr>\n",
       "    <tr>\n",
       "      <th>188892</th>\n",
       "      <td>8515.704376</td>\n",
       "      <td>260</td>\n",
       "      <td>1</td>\n",
       "      <td>109.085874</td>\n",
       "      <td>6.680561</td>\n",
       "      <td>961</td>\n",
       "      <td>0</td>\n",
       "      <td>0</td>\n",
       "      <td>900.741474</td>\n",
       "      <td>25273</td>\n",
       "    </tr>\n",
       "  </tbody>\n",
       "</table>\n",
       "</div>"
      ],
      "text/plain": [
       "         brazil_roads  elevation  slope  brazil_protected_areas  \\\n",
       "74058    23818.293582        173      0           177674.320284   \n",
       "106018   15513.510126        190      1            29363.389572   \n",
       "19902    10640.357294        223      8           110540.556156   \n",
       "175334  224774.298513        368      9           130510.381483   \n",
       "188892    8515.704376        260      1              109.085874   \n",
       "\n",
       "        population_density  brazil_surrounding_forest  brazil_pasture  \\\n",
       "74058             0.423144                        918              40   \n",
       "106018            1.860605                        961               0   \n",
       "19902             2.102675                        532             429   \n",
       "175334            0.036595                        961               0   \n",
       "188892            6.680561                        961               0   \n",
       "\n",
       "        brazil_agriculture  south_america_rivers  urban_distance  \n",
       "74058                    0           1292.089820           20517  \n",
       "106018                   0           1051.277662           16865  \n",
       "19902                    0           1018.560161           11899  \n",
       "175334                   0            858.104976          141130  \n",
       "188892                   0            900.741474           25273  "
      ]
     },
     "execution_count": 6,
     "metadata": {},
     "output_type": "execute_result"
    }
   ],
   "source": [
    "model_builder.X_train.head()"
   ]
  },
  {
   "cell_type": "markdown",
   "id": "ba4a4efb-b915-4b9b-b219-6af1360ed76d",
   "metadata": {},
   "source": [
    "Now our training targets:"
   ]
  },
  {
   "cell_type": "code",
   "execution_count": 7,
   "id": "3f17ad91-53ba-4320-a1ba-02fe83ebb85a",
   "metadata": {},
   "outputs": [
    {
     "data": {
      "text/html": [
       "<div>\n",
       "<style scoped>\n",
       "    .dataframe tbody tr th:only-of-type {\n",
       "        vertical-align: middle;\n",
       "    }\n",
       "\n",
       "    .dataframe tbody tr th {\n",
       "        vertical-align: top;\n",
       "    }\n",
       "\n",
       "    .dataframe thead th {\n",
       "        text-align: right;\n",
       "    }\n",
       "</style>\n",
       "<table border=\"1\" class=\"dataframe\">\n",
       "  <thead>\n",
       "    <tr style=\"text-align: right;\">\n",
       "      <th></th>\n",
       "      <th>deforestation_risk_Acre</th>\n",
       "    </tr>\n",
       "  </thead>\n",
       "  <tbody>\n",
       "    <tr>\n",
       "      <th>74058</th>\n",
       "      <td>0</td>\n",
       "    </tr>\n",
       "    <tr>\n",
       "      <th>106018</th>\n",
       "      <td>0</td>\n",
       "    </tr>\n",
       "  </tbody>\n",
       "</table>\n",
       "</div>"
      ],
      "text/plain": [
       "        deforestation_risk_Acre\n",
       "74058                         0\n",
       "106018                        0"
      ]
     },
     "execution_count": 7,
     "metadata": {},
     "output_type": "execute_result"
    }
   ],
   "source": [
    "model_builder.y_train.head(2)"
   ]
  },
  {
   "cell_type": "code",
   "execution_count": 8,
   "id": "411d6276-f646-4e13-bb58-7274c371e9cc",
   "metadata": {},
   "outputs": [
    {
     "name": "stdout",
     "output_type": "stream",
     "text": [
      "There are 204451 forest samples and 33406 deforested samples in training set\n",
      "There are 51199 forest samples and 8266 deforested samples in test set\n"
     ]
    }
   ],
   "source": [
    "nb_forest_samples = model_builder.y_train[model_builder.y_train[response_variable[0]] == 0][response_variable[0]].count()\n",
    "nb_deforested_samples = model_builder.y_train[model_builder.y_train[response_variable[0]] == 1][response_variable[0]].count()\n",
    "print(f'There are {nb_forest_samples} forest samples and {nb_deforested_samples} deforested samples in training set')\n",
    "\n",
    "nb_forest_samples_test = model_builder.y_test[model_builder.y_test[response_variable[0]] == 0][response_variable[0]].count()\n",
    "nb_deforested_samples_test = model_builder.y_test[model_builder.y_test[response_variable[0]] == 1][response_variable[0]].count()\n",
    "print(f'There are {nb_forest_samples_test} forest samples and {nb_deforested_samples_test} deforested samples in test set')\n"
   ]
  },
  {
   "cell_type": "code",
   "execution_count": 9,
   "id": "061e450b-952b-4a6a-9965-92415d63873d",
   "metadata": {},
   "outputs": [
    {
     "data": {
      "text/plain": [
       "['brazil_roads',\n",
       " 'elevation',\n",
       " 'slope',\n",
       " 'brazil_protected_areas',\n",
       " 'population_density',\n",
       " 'brazil_surrounding_forest',\n",
       " 'brazil_pasture',\n",
       " 'brazil_agriculture',\n",
       " 'south_america_rivers',\n",
       " 'urban_distance']"
      ]
     },
     "execution_count": 9,
     "metadata": {},
     "output_type": "execute_result"
    }
   ],
   "source": [
    "model_builder.feature_names"
   ]
  },
  {
   "cell_type": "code",
   "execution_count": 10,
   "id": "4f48569e-7498-4b38-bf0c-7d9ca7ff1111",
   "metadata": {},
   "outputs": [
    {
     "data": {
      "text/plain": [
       "['deforestation_risk_Acre']"
      ]
     },
     "execution_count": 10,
     "metadata": {},
     "output_type": "execute_result"
    }
   ],
   "source": [
    "model_builder.response_variable"
   ]
  },
  {
   "cell_type": "markdown",
   "id": "64038099-75a8-4d78-bdd4-d4b9fe5e7503",
   "metadata": {
    "tags": []
   },
   "source": [
    "# Training"
   ]
  },
  {
   "cell_type": "code",
   "execution_count": 11,
   "id": "ab79fc50-17e8-4b83-878d-6684cb0511d1",
   "metadata": {},
   "outputs": [],
   "source": [
    "model_builder.initialize_model(model_type='RandomForestClassifier', \n",
    "                               nb_trees=100, max_depth=4, random_state=42, \n",
    "                               criterion='gini',\n",
    "                               min_samples_split=2, min_samples_leaf=1, \n",
    "                               max_leaf_nodes=None, min_impurity_decrease=0.0, \n",
    "                               max_features='sqrt', \n",
    "                               n_cores=-1, \n",
    "                               oob_score=True, bootstrap=True,\n",
    "                              warm_start=False, class_weight=None, ccp_alpha=0.0, max_samples=None)"
   ]
  },
  {
   "cell_type": "code",
   "execution_count": 12,
   "id": "937b3c4d-d7cf-4acf-a4a1-4d2d3373d162",
   "metadata": {},
   "outputs": [
    {
     "data": {
      "text/html": [
       "<style>#sk-container-id-1 {color: black;background-color: white;}#sk-container-id-1 pre{padding: 0;}#sk-container-id-1 div.sk-toggleable {background-color: white;}#sk-container-id-1 label.sk-toggleable__label {cursor: pointer;display: block;width: 100%;margin-bottom: 0;padding: 0.3em;box-sizing: border-box;text-align: center;}#sk-container-id-1 label.sk-toggleable__label-arrow:before {content: \"▸\";float: left;margin-right: 0.25em;color: #696969;}#sk-container-id-1 label.sk-toggleable__label-arrow:hover:before {color: black;}#sk-container-id-1 div.sk-estimator:hover label.sk-toggleable__label-arrow:before {color: black;}#sk-container-id-1 div.sk-toggleable__content {max-height: 0;max-width: 0;overflow: hidden;text-align: left;background-color: #f0f8ff;}#sk-container-id-1 div.sk-toggleable__content pre {margin: 0.2em;color: black;border-radius: 0.25em;background-color: #f0f8ff;}#sk-container-id-1 input.sk-toggleable__control:checked~div.sk-toggleable__content {max-height: 200px;max-width: 100%;overflow: auto;}#sk-container-id-1 input.sk-toggleable__control:checked~label.sk-toggleable__label-arrow:before {content: \"▾\";}#sk-container-id-1 div.sk-estimator input.sk-toggleable__control:checked~label.sk-toggleable__label {background-color: #d4ebff;}#sk-container-id-1 div.sk-label input.sk-toggleable__control:checked~label.sk-toggleable__label {background-color: #d4ebff;}#sk-container-id-1 input.sk-hidden--visually {border: 0;clip: rect(1px 1px 1px 1px);clip: rect(1px, 1px, 1px, 1px);height: 1px;margin: -1px;overflow: hidden;padding: 0;position: absolute;width: 1px;}#sk-container-id-1 div.sk-estimator {font-family: monospace;background-color: #f0f8ff;border: 1px dotted black;border-radius: 0.25em;box-sizing: border-box;margin-bottom: 0.5em;}#sk-container-id-1 div.sk-estimator:hover {background-color: #d4ebff;}#sk-container-id-1 div.sk-parallel-item::after {content: \"\";width: 100%;border-bottom: 1px solid gray;flex-grow: 1;}#sk-container-id-1 div.sk-label:hover label.sk-toggleable__label {background-color: #d4ebff;}#sk-container-id-1 div.sk-serial::before {content: \"\";position: absolute;border-left: 1px solid gray;box-sizing: border-box;top: 0;bottom: 0;left: 50%;z-index: 0;}#sk-container-id-1 div.sk-serial {display: flex;flex-direction: column;align-items: center;background-color: white;padding-right: 0.2em;padding-left: 0.2em;position: relative;}#sk-container-id-1 div.sk-item {position: relative;z-index: 1;}#sk-container-id-1 div.sk-parallel {display: flex;align-items: stretch;justify-content: center;background-color: white;position: relative;}#sk-container-id-1 div.sk-item::before, #sk-container-id-1 div.sk-parallel-item::before {content: \"\";position: absolute;border-left: 1px solid gray;box-sizing: border-box;top: 0;bottom: 0;left: 50%;z-index: -1;}#sk-container-id-1 div.sk-parallel-item {display: flex;flex-direction: column;z-index: 1;position: relative;background-color: white;}#sk-container-id-1 div.sk-parallel-item:first-child::after {align-self: flex-end;width: 50%;}#sk-container-id-1 div.sk-parallel-item:last-child::after {align-self: flex-start;width: 50%;}#sk-container-id-1 div.sk-parallel-item:only-child::after {width: 0;}#sk-container-id-1 div.sk-dashed-wrapped {border: 1px dashed gray;margin: 0 0.4em 0.5em 0.4em;box-sizing: border-box;padding-bottom: 0.4em;background-color: white;}#sk-container-id-1 div.sk-label label {font-family: monospace;font-weight: bold;display: inline-block;line-height: 1.2em;}#sk-container-id-1 div.sk-label-container {text-align: center;}#sk-container-id-1 div.sk-container {/* jupyter's `normalize.less` sets `[hidden] { display: none; }` but bootstrap.min.css set `[hidden] { display: none !important; }` so we also need the `!important` here to be able to override the default hidden behavior on the sphinx rendered scikit-learn.org. See: https://github.com/scikit-learn/scikit-learn/issues/21755 */display: inline-block !important;position: relative;}#sk-container-id-1 div.sk-text-repr-fallback {display: none;}</style><div id=\"sk-container-id-1\" class=\"sk-top-container\"><div class=\"sk-text-repr-fallback\"><pre>RandomForestClassifier(max_depth=4, n_jobs=-1, oob_score=True, random_state=42,\n",
       "                       verbose=1)</pre><b>In a Jupyter environment, please rerun this cell to show the HTML representation or trust the notebook. <br />On GitHub, the HTML representation is unable to render, please try loading this page with nbviewer.org.</b></div><div class=\"sk-container\" hidden><div class=\"sk-item\"><div class=\"sk-estimator sk-toggleable\"><input class=\"sk-toggleable__control sk-hidden--visually\" id=\"sk-estimator-id-1\" type=\"checkbox\" checked><label for=\"sk-estimator-id-1\" class=\"sk-toggleable__label sk-toggleable__label-arrow\">RandomForestClassifier</label><div class=\"sk-toggleable__content\"><pre>RandomForestClassifier(max_depth=4, n_jobs=-1, oob_score=True, random_state=42,\n",
       "                       verbose=1)</pre></div></div></div></div></div>"
      ],
      "text/plain": [
       "RandomForestClassifier(max_depth=4, n_jobs=-1, oob_score=True, random_state=42,\n",
       "                       verbose=1)"
      ]
     },
     "execution_count": 12,
     "metadata": {},
     "output_type": "execute_result"
    }
   ],
   "source": [
    "model_builder.model"
   ]
  },
  {
   "cell_type": "code",
   "execution_count": 13,
   "id": "d8cff219-54ec-440d-a8db-aa30c9994664",
   "metadata": {},
   "outputs": [
    {
     "name": "stderr",
     "output_type": "stream",
     "text": [
      "/Users/margauxmforstyhe/Desktop/workspace/Earthshot Labs/workspace/Science/model_utilities/model_utilities/tests/../model_builder.py:305: DataConversionWarning: A column-vector y was passed when a 1d array was expected. Please change the shape of y to (n_samples,), for example using ravel().\n",
      "  self.model = self.model.fit(self.X_train, self.y_train.values)\n",
      "[Parallel(n_jobs=-1)]: Using backend ThreadingBackend with 12 concurrent workers.\n",
      "[Parallel(n_jobs=-1)]: Done  26 tasks      | elapsed:    1.1s\n",
      "[Parallel(n_jobs=-1)]: Done 100 out of 100 | elapsed:    4.0s finished\n"
     ]
    }
   ],
   "source": [
    "model_builder.train()"
   ]
  },
  {
   "cell_type": "markdown",
   "id": "f6a926e4-ab00-4d47-92ff-199fa980598b",
   "metadata": {
    "tags": []
   },
   "source": [
    "# Evaluation"
   ]
  },
  {
   "cell_type": "code",
   "execution_count": 14,
   "id": "105bb2d2-8b69-450a-85a4-e9c1f9ca66be",
   "metadata": {
    "tags": []
   },
   "outputs": [
    {
     "name": "stdout",
     "output_type": "stream",
     "text": [
      "\n",
      "Evaluation...\n",
      "\n",
      "\n",
      "\n",
      "Mean Absolute Error (MAE): 0.12400571764903724\n",
      "Mean Squared Error (MSE): 0.12400571764903724\n",
      "Root Mean Squared Error (RMSE): 0.3521444556556829\n",
      "R2: -0.03611432213138421\n",
      "OOB prediction of accuracy is: 87.50173423527582%\n",
      "\n"
     ]
    },
    {
     "name": "stderr",
     "output_type": "stream",
     "text": [
      "[Parallel(n_jobs=12)]: Using backend ThreadingBackend with 12 concurrent workers.\n",
      "[Parallel(n_jobs=12)]: Done  26 tasks      | elapsed:    0.0s\n",
      "[Parallel(n_jobs=12)]: Done 100 out of 100 | elapsed:    0.1s finished\n",
      "[Parallel(n_jobs=12)]: Using backend ThreadingBackend with 12 concurrent workers.\n",
      "[Parallel(n_jobs=12)]: Done  26 tasks      | elapsed:    0.0s\n",
      "[Parallel(n_jobs=12)]: Done 100 out of 100 | elapsed:    0.1s finished\n"
     ]
    },
    {
     "name": "stdout",
     "output_type": "stream",
     "text": [
      "R2 with predictions probabilities: 0.2226803195601318\n",
      "ROC-AUC score of the model:   0.8406343927305056\n",
      "Accuracy of the model: 0.8759942823509628\n",
      "\n",
      "Classification report: \n",
      "              precision    recall  f1-score   support\n",
      "\n",
      "           0       0.88      0.99      0.93     51199\n",
      "           1       0.69      0.19      0.30      8266\n",
      "\n",
      "    accuracy                           0.88     59465\n",
      "   macro avg       0.79      0.59      0.62     59465\n",
      "weighted avg       0.86      0.88      0.84     59465\n",
      "\n",
      "\n",
      "Confusion matrix: \n",
      "[[50487   712]\n",
      " [ 6662  1604]]\n",
      "\n"
     ]
    },
    {
     "data": {
      "image/png": "[encoded data removed]",
      "text/plain": [
       "<Figure size 500x500 with 1 Axes>"
      ]
     },
     "metadata": {},
     "output_type": "display_data"
    },
    {
     "data": {
      "image/png": "[encoded data removed]",
      "text/plain": [
       "<Figure size 500x500 with 1 Axes>"
      ]
     },
     "metadata": {},
     "output_type": "display_data"
    }
   ],
   "source": [
    "# On test set\n",
    "y_pred_test, mae_test, mse_test, rmse_test, oob_score_test, r2_test, feature_imp_test = model_builder.evaluate(X_test=model_builder.X_test,\n",
    "                                                                    y_test=model_builder.y_test,\n",
    "                                                                    save_figures=False, saving_base_output_name='testing_test_set',\n",
    "                                                                    feature_importance=True)"
   ]
  },
  {
   "cell_type": "markdown",
   "id": "3dffac4a-7fe1-45b4-85b0-c150db62b66f",
   "metadata": {
    "tags": []
   },
   "source": [
    "# Inference on tiles"
   ]
  },
  {
   "cell_type": "code",
   "execution_count": 27,
   "id": "a05e4fa1-0e95-42d4-b722-28e694aafe94",
   "metadata": {
    "scrolled": true,
    "tags": []
   },
   "outputs": [
    {
     "name": "stdout",
     "output_type": "stream",
     "text": [
      "There are 31 inference tiles\n",
      "\n",
      "Starting image: /Users/margauxmforstyhe/Desktop/deforestation_risk/Brazil_Acre_Deforestation_Risk_inference_100km2_grid_scale30/inference_tiles_scale30_8.tif\n",
      "Image opened\n",
      "tile shape: (3291, 3334, 10)\n",
      "Reshaped from (3291, 3334, 10) to (10972194, 10)\n",
      "(10972194, 10)\n"
     ]
    },
    {
     "name": "stderr",
     "output_type": "stream",
     "text": [
      "/usr/local/lib/python3.10/site-packages/sklearn/base.py:450: UserWarning: X does not have valid feature names, but RandomForestClassifier was fitted with feature names\n",
      "  warnings.warn(\n",
      "[Parallel(n_jobs=12)]: Using backend ThreadingBackend with 12 concurrent workers.\n",
      "[Parallel(n_jobs=12)]: Done  26 tasks      | elapsed:   10.7s\n",
      "[Parallel(n_jobs=12)]: Done 100 out of 100 | elapsed:   23.7s finished\n"
     ]
    },
    {
     "name": "stdout",
     "output_type": "stream",
     "text": [
      "Class prediction was successful without slicing!\n",
      "No slicing was necessary!\n",
      "Reshaped back to (3291, 3334)\n",
      "[  0   1   2   3   4   5   6   7   8   9  10  11  12  13  14  15  16  17\n",
      "  18  19  20  21  22  23  24  25  26  27  28  29  30  31  32  33  34 120\n",
      " 121 122 124 125 126 127 128 129 130 131 132 133 134 135 136 137 138 139\n",
      " 140 141 142 143 144 145 146 147 148 149 150 151 152 153 154 155 156 157\n",
      " 158 159 160 161 162 163 164 165 166 167 168 169 170 171 172 173 174 175\n",
      " 176 177 178 179 180 181 182 183 184 185 186 187 188 189 190 191 192 193\n",
      " 194 195 196 197 198 199 200 201 202 203 204 205 206 207 208 209 210 211\n",
      " 212 213 214 215 216 217 218 219 220 221 222 223 224 225 226 227 228 229\n",
      " 230 231 232 233 234 235 236 237 238 239 240 241 242 243 244 245 246 247\n",
      " 248 249 250 251 252 253 254 255]\n",
      "(3291, 3334)\n",
      "Image saved to: TEST_RF_outputs_temp_Acre_classifier_prob/RF_output_2022-11-23-16_17_01_0.tif\n",
      "\n",
      "\n",
      "\n",
      "\n",
      "Starting image: /Users/margauxmforstyhe/Desktop/deforestation_risk/Brazil_Acre_Deforestation_Risk_inference_100km2_grid_scale30/inference_tiles_scale30_9.tif\n",
      "Image opened\n",
      "tile shape: (3291, 3334, 10)\n",
      "Reshaped from (3291, 3334, 10) to (10972194, 10)\n",
      "(10972194, 10)\n"
     ]
    },
    {
     "name": "stderr",
     "output_type": "stream",
     "text": [
      "/usr/local/lib/python3.10/site-packages/sklearn/base.py:450: UserWarning: X does not have valid feature names, but RandomForestClassifier was fitted with feature names\n",
      "  warnings.warn(\n",
      "[Parallel(n_jobs=12)]: Using backend ThreadingBackend with 12 concurrent workers.\n",
      "[Parallel(n_jobs=12)]: Done  26 tasks      | elapsed:   13.6s\n",
      "[Parallel(n_jobs=12)]: Done 100 out of 100 | elapsed:   22.8s finished\n"
     ]
    },
    {
     "name": "stdout",
     "output_type": "stream",
     "text": [
      "Class prediction was successful without slicing!\n",
      "No slicing was necessary!\n",
      "Reshaped back to (3291, 3334)\n",
      "[  0   1   2   3   4   5   6   7   8   9  10  11  12  13  14  15  16  17\n",
      "  18  19  20  21  22  23  24  25  26  27  28  29  30  31  32  33  34  35\n",
      "  36  37  38  39  40  41  42  43  44  45  46  47  48  49  50  51  52  53\n",
      "  54  55  56  57  58  59  60  61  62  63  64  65  66  67  68  69  70  71\n",
      "  72  73  74  75  76  77  78  79  80  81  82  83  84  85  86  87  88  89\n",
      "  90  91  92  93  94  95  96  97  99 100 101 102 103 104 105 106 108 112\n",
      " 181 182 183 184 185 186 187 188 189 190 191 192 193 194 195 196 197 198\n",
      " 199 200 201 202 203 204 205 206 207 208 209 210 211 212 213 214 215 216\n",
      " 217 218 219 220 221 222 223 224 225 226 227 228 229 230 231 232 233 234\n",
      " 235 236 237 238 239 240 241 242 243 244 245 246 247 248 249 250 251 252\n",
      " 253 254 255]\n",
      "(3291, 3334)\n",
      "Image saved to: TEST_RF_outputs_temp_Acre_classifier_prob/RF_output_2022-11-23-16_17_44_1.tif\n",
      "\n",
      "\n",
      "\n",
      "\n",
      "Starting image: /Users/margauxmforstyhe/Desktop/deforestation_risk/Brazil_Acre_Deforestation_Risk_inference_100km2_grid_scale30/inference_tiles_scale30_19.tif\n",
      "Image opened\n",
      "tile shape: (3281, 3334, 10)\n",
      "Reshaped from (3281, 3334, 10) to (10938854, 10)\n",
      "(10938854, 10)\n"
     ]
    },
    {
     "name": "stderr",
     "output_type": "stream",
     "text": [
      "/usr/local/lib/python3.10/site-packages/sklearn/base.py:450: UserWarning: X does not have valid feature names, but RandomForestClassifier was fitted with feature names\n",
      "  warnings.warn(\n",
      "[Parallel(n_jobs=12)]: Using backend ThreadingBackend with 12 concurrent workers.\n",
      "[Parallel(n_jobs=12)]: Done  26 tasks      | elapsed:   11.1s\n",
      "[Parallel(n_jobs=12)]: Done 100 out of 100 | elapsed:   21.4s finished\n"
     ]
    },
    {
     "name": "stdout",
     "output_type": "stream",
     "text": [
      "Class prediction was successful without slicing!\n",
      "No slicing was necessary!\n",
      "Reshaped back to (3281, 3334)\n",
      "[  0   1   2   3   4   5   6   7   8   9  10  11  12  13  14  15  16  17\n",
      "  18  19  20  21  22  23  24  25  26  27  28  29  30  31  32  33  34  35\n",
      "  36  37  38  39  40  41  43 124 126 127 128 129 130 131 132 133 134 135\n",
      " 136 137 138 139 140 141 142 143 144 145 146 147 148 149 150 151 152 153\n",
      " 154 155 156 157 158 159 160 161 162 163 164 165 166 167 168 169 170 171\n",
      " 172 173 174 175 176 177 178 179 180 181 182 183 184 185 186 187 188 189\n",
      " 190 191 192 193 194 195 196 197 198 199 200 201 202 203 204 205 206 207\n",
      " 208 209 210 211 212 213 214 215 216 217 218 219 220 221 222 223 224 225\n",
      " 226 227 228 229 230 231 232 233 234 235 236 237 238 239 240 241 242 243\n",
      " 244 245 246 247 248 249 250 251 252 253 254 255]\n",
      "(3281, 3334)\n",
      "Image saved to: TEST_RF_outputs_temp_Acre_classifier_prob/RF_output_2022-11-23-16_18_21_2.tif\n",
      "\n",
      "\n",
      "\n",
      "\n",
      "Starting image: /Users/margauxmforstyhe/Desktop/deforestation_risk/Brazil_Acre_Deforestation_Risk_inference_100km2_grid_scale30/inference_tiles_scale30_25.tif\n",
      "Image opened\n",
      "tile shape: (834, 670, 10)\n",
      "Reshaped from (834, 670, 10) to (558780, 10)\n",
      "(558780, 10)\n"
     ]
    },
    {
     "name": "stderr",
     "output_type": "stream",
     "text": [
      "/usr/local/lib/python3.10/site-packages/sklearn/base.py:450: UserWarning: X does not have valid feature names, but RandomForestClassifier was fitted with feature names\n",
      "  warnings.warn(\n",
      "[Parallel(n_jobs=12)]: Using backend ThreadingBackend with 12 concurrent workers.\n",
      "[Parallel(n_jobs=12)]: Done  26 tasks      | elapsed:    0.3s\n",
      "[Parallel(n_jobs=12)]: Done 100 out of 100 | elapsed:    0.8s finished\n"
     ]
    },
    {
     "name": "stdout",
     "output_type": "stream",
     "text": [
      "Class prediction was successful without slicing!\n",
      "No slicing was necessary!\n",
      "Reshaped back to (834, 670)\n",
      "[  0 110 111 112 113 114 115 116 117 118 119 120 121 122 123 124 125 126\n",
      " 127 128 129 130 131 132 133 134 135 136 137 138 139 140 141 142 143 144\n",
      " 145 146 147 148 149 150 151 152 153 154 155 156 157 158 159 160 161 162\n",
      " 163 164 165 166 167 168 169 170 171 172 173 174 175 176 177 178 179 180\n",
      " 181 182 183 184 185 186 187 188 189 190 191 192 193 194 195 196 197 198\n",
      " 199 200 201 202 203 204 205 206 207 208 209 210 211 212 213 214 215 216]\n",
      "(834, 670)\n",
      "Image saved to: TEST_RF_outputs_temp_Acre_classifier_prob/RF_output_2022-11-23-16_18_23_3.tif\n",
      "\n",
      "\n",
      "\n",
      "\n",
      "Starting image: /Users/margauxmforstyhe/Desktop/deforestation_risk/Brazil_Acre_Deforestation_Risk_inference_100km2_grid_scale30/inference_tiles_scale30_24.tif\n",
      "Image opened\n",
      "tile shape: (827, 3331, 10)\n",
      "Reshaped from (827, 3331, 10) to (2754737, 10)\n",
      "(2754737, 10)\n"
     ]
    },
    {
     "name": "stderr",
     "output_type": "stream",
     "text": [
      "/usr/local/lib/python3.10/site-packages/sklearn/base.py:450: UserWarning: X does not have valid feature names, but RandomForestClassifier was fitted with feature names\n",
      "  warnings.warn(\n",
      "[Parallel(n_jobs=12)]: Using backend ThreadingBackend with 12 concurrent workers.\n",
      "[Parallel(n_jobs=12)]: Done  26 tasks      | elapsed:    3.1s\n",
      "[Parallel(n_jobs=12)]: Done 100 out of 100 | elapsed:    6.5s finished\n"
     ]
    },
    {
     "name": "stdout",
     "output_type": "stream",
     "text": [
      "Class prediction was successful without slicing!\n",
      "No slicing was necessary!\n",
      "Reshaped back to (827, 3331)\n",
      "[  0   1   2   3   4   5   6   7   8   9  10  11  12  13  14  15  16  17\n",
      "  18  19  20  21  22  23  24  25  26  27  28  29  30  31  32  33  34  35\n",
      "  36  37  38  39  40  41  42  43  44  45  46  47  48  49  50  51  52  53\n",
      "  54  55  56  57  58  59  60  61  62  63  64  65  66  67  68  69  70  71\n",
      "  72  73  74  75  76  77  78  79  80  81  82  83  84  85  86  87  88  89\n",
      "  90  91  92  93  94  95  96  97  98  99 100 101 102 103 104 105 106 107\n",
      " 108 109 110 111 112 113 114 115 116 117 118 119 120 121 122 123 124 125\n",
      " 126 127 128 129 130 131 132 133 134 135 136 137 138 139 140 141 142 143\n",
      " 144 145 146 147 148 149 150 151 152 153 154 155 156 157 158 159 160 161\n",
      " 162 163 164 165 166 167 168 169 170 171 172 173 174 175 176 177 178 179\n",
      " 180 181 182 183 184 185 186 187 188 189 190 191 192 193 194 195 196 197\n",
      " 198 199 200 201 202 203 204 206 246 248 250 251 252 253 254 255]\n",
      "(827, 3331)\n",
      "Image saved to: TEST_RF_outputs_temp_Acre_classifier_prob/RF_output_2022-11-23-16_18_33_4.tif\n",
      "\n",
      "\n",
      "\n",
      "\n",
      "Starting image: /Users/margauxmforstyhe/Desktop/deforestation_risk/Brazil_Acre_Deforestation_Risk_inference_100km2_grid_scale30/inference_tiles_scale30_30.tif\n",
      "Image opened\n",
      "tile shape: (118, 37, 10)\n",
      "Reshaped from (118, 37, 10) to (4366, 10)\n",
      "(4366, 10)\n"
     ]
    },
    {
     "name": "stderr",
     "output_type": "stream",
     "text": [
      "/usr/local/lib/python3.10/site-packages/sklearn/base.py:450: UserWarning: X does not have valid feature names, but RandomForestClassifier was fitted with feature names\n",
      "  warnings.warn(\n",
      "[Parallel(n_jobs=12)]: Using backend ThreadingBackend with 12 concurrent workers.\n",
      "[Parallel(n_jobs=12)]: Done  26 tasks      | elapsed:    0.1s\n",
      "[Parallel(n_jobs=12)]: Done 100 out of 100 | elapsed:    0.2s finished\n"
     ]
    },
    {
     "name": "stdout",
     "output_type": "stream",
     "text": [
      "Class prediction was successful without slicing!\n",
      "No slicing was necessary!\n",
      "Reshaped back to (118, 37)\n",
      "[  0 156 157 158 159 160 161 162 163 164 166 167 172 174 178 180 181 182\n",
      " 183 184 185 186 187 188 189 190 191 192 193 194 195 196 197 198 199 200\n",
      " 203]\n",
      "(118, 37)\n",
      "Image saved to: TEST_RF_outputs_temp_Acre_classifier_prob/RF_output_2022-11-23-16_18_33_5.tif\n",
      "\n",
      "\n",
      "\n",
      "\n",
      "Starting image: /Users/margauxmforstyhe/Desktop/deforestation_risk/Brazil_Acre_Deforestation_Risk_inference_100km2_grid_scale30/inference_tiles_scale30_18.tif\n",
      "Image opened\n",
      "tile shape: (2354, 3335, 10)\n",
      "Reshaped from (2354, 3335, 10) to (7850590, 10)\n",
      "(7850590, 10)\n"
     ]
    },
    {
     "name": "stderr",
     "output_type": "stream",
     "text": [
      "/usr/local/lib/python3.10/site-packages/sklearn/base.py:450: UserWarning: X does not have valid feature names, but RandomForestClassifier was fitted with feature names\n",
      "  warnings.warn(\n",
      "[Parallel(n_jobs=12)]: Using backend ThreadingBackend with 12 concurrent workers.\n",
      "[Parallel(n_jobs=12)]: Done  26 tasks      | elapsed:    4.3s\n",
      "[Parallel(n_jobs=12)]: Done 100 out of 100 | elapsed:   12.0s finished\n"
     ]
    },
    {
     "name": "stdout",
     "output_type": "stream",
     "text": [
      "Class prediction was successful without slicing!\n",
      "No slicing was necessary!\n",
      "Reshaped back to (2354, 3335)\n",
      "[  0   1   2   3   4   5   6   7   8   9  10  11  12  13  14  15  16  17\n",
      "  18  19  20  21  22  23  24  25  26  28 148 163 164 165 166 167 168 169\n",
      " 170 171 172 173 174 175 176 177 178 179 180 181 182 183 184 185 186 187\n",
      " 188 189 190 191 192 193 194 195 196 197 198 199 200 201 202 203 204 205\n",
      " 206 207 208 209 210 211 212 213 214 215 216 217 218 219 220 221 222 223\n",
      " 224 225 226 227 228 229 230 231 232 233 234 235 236 237 238 239 240 241\n",
      " 242 243 244 245 246 247 248 249 250 251 252 253 254 255]\n",
      "(2354, 3335)\n",
      "Image saved to: TEST_RF_outputs_temp_Acre_classifier_prob/RF_output_2022-11-23-16_18_54_6.tif\n",
      "\n",
      "\n",
      "\n",
      "\n",
      "Starting image: /Users/margauxmforstyhe/Desktop/deforestation_risk/Brazil_Acre_Deforestation_Risk_inference_100km2_grid_scale30/inference_tiles_scale30_26.tif\n",
      "Image opened\n",
      "tile shape: (1713, 3334, 10)\n",
      "Reshaped from (1713, 3334, 10) to (5711142, 10)\n",
      "(5711142, 10)\n"
     ]
    },
    {
     "name": "stderr",
     "output_type": "stream",
     "text": [
      "/usr/local/lib/python3.10/site-packages/sklearn/base.py:450: UserWarning: X does not have valid feature names, but RandomForestClassifier was fitted with feature names\n",
      "  warnings.warn(\n",
      "[Parallel(n_jobs=12)]: Using backend ThreadingBackend with 12 concurrent workers.\n",
      "[Parallel(n_jobs=12)]: Done  26 tasks      | elapsed:    6.8s\n",
      "[Parallel(n_jobs=12)]: Done 100 out of 100 | elapsed:   14.5s finished\n"
     ]
    },
    {
     "name": "stdout",
     "output_type": "stream",
     "text": [
      "Class prediction was successful without slicing!\n",
      "No slicing was necessary!\n",
      "Reshaped back to (1713, 3334)\n",
      "[  0   1   2   3   4   5   6   7   8   9  10  11  12  13  14  15  16  17\n",
      "  18  19  20  21  22  23  24  25  26  27  28  29  30  31  32  33  34  35\n",
      "  36  37  38  39  40  41  42  43  44  45  46  47  48  49  50  51  52  53\n",
      "  54 146 147 148 149 150 151 152 153 154 155 156 157 158 159 160 161 162\n",
      " 163 164 165 166 167 168 169 170 171 172 173 174 175 176 177 178 179 180\n",
      " 181 182 183 184 185 186 187 188 189 190 191 192 193 194 195 196 197 198\n",
      " 199 200 201 202 203 204 205 206 207 208 209 210 211 212 213 214 215 216\n",
      " 217 218 219 220 221 222 223 224 225 226 227 228 229 230 231 232 233 234\n",
      " 235 236 237 238 239 240 241 242 243 244 245 246 247 248 249 250 251 252\n",
      " 253 254 255]\n",
      "(1713, 3334)\n",
      "Image saved to: TEST_RF_outputs_temp_Acre_classifier_prob/RF_output_2022-11-23-16_19_13_7.tif\n",
      "\n",
      "\n",
      "\n",
      "\n",
      "Starting image: /Users/margauxmforstyhe/Desktop/deforestation_risk/Brazil_Acre_Deforestation_Risk_inference_100km2_grid_scale30/inference_tiles_scale30_27.tif\n",
      "Image opened\n",
      "tile shape: (1520, 3335, 10)\n",
      "Reshaped from (1520, 3335, 10) to (5069200, 10)\n",
      "(5069200, 10)\n"
     ]
    },
    {
     "name": "stderr",
     "output_type": "stream",
     "text": [
      "/usr/local/lib/python3.10/site-packages/sklearn/base.py:450: UserWarning: X does not have valid feature names, but RandomForestClassifier was fitted with feature names\n",
      "  warnings.warn(\n",
      "[Parallel(n_jobs=12)]: Using backend ThreadingBackend with 12 concurrent workers.\n",
      "[Parallel(n_jobs=12)]: Done  26 tasks      | elapsed:    2.8s\n",
      "[Parallel(n_jobs=12)]: Done 100 out of 100 | elapsed:    7.4s finished\n"
     ]
    },
    {
     "name": "stdout",
     "output_type": "stream",
     "text": [
      "Class prediction was successful without slicing!\n",
      "No slicing was necessary!\n",
      "Reshaped back to (1520, 3335)\n",
      "[  0   1   2   3   4   5   6   7   8   9  10  11  12  13  14  15  16  17\n",
      "  18  19  20  21  22  23  24  25  26  27  28  29  30  31  32  33  34  35\n",
      "  36  37  38  39  40  41  42  43  44  45  46  47  48  49  50  51  52  53\n",
      "  54  55  56  57  58  59  60  61  62  63  64  65  66  67  68  69  70  71\n",
      "  72  73  74  75  76  77  78  79  80  81  82  83  84  85  86  87  88  89\n",
      "  90  91  92  93  94  95  96  97  98  99 100 101 102 103 104 105 106 107\n",
      " 108 109 110 111 112 113 114 115 116 117 118 119 120 121 122 123 124 125\n",
      " 126 127 128 129 130 131 132 133 134 135 137 225 226 227 228 229 230 231\n",
      " 232 233 234 235 236 237 238 239 240 241 242 243 244 245 246 247 248 249\n",
      " 250 251 252 253 254 255]\n",
      "(1520, 3335)\n",
      "Image saved to: TEST_RF_outputs_temp_Acre_classifier_prob/RF_output_2022-11-23-16_19_26_8.tif\n",
      "\n",
      "\n",
      "\n",
      "\n",
      "Starting image: /Users/margauxmforstyhe/Desktop/deforestation_risk/Brazil_Acre_Deforestation_Risk_inference_100km2_grid_scale30/inference_tiles_scale30_23.tif\n",
      "Image opened\n",
      "tile shape: (3281, 3334, 10)\n",
      "Reshaped from (3281, 3334, 10) to (10938854, 10)\n",
      "(10938854, 10)\n"
     ]
    },
    {
     "name": "stderr",
     "output_type": "stream",
     "text": [
      "/usr/local/lib/python3.10/site-packages/sklearn/base.py:450: UserWarning: X does not have valid feature names, but RandomForestClassifier was fitted with feature names\n",
      "  warnings.warn(\n",
      "[Parallel(n_jobs=12)]: Using backend ThreadingBackend with 12 concurrent workers.\n",
      "[Parallel(n_jobs=12)]: Done  26 tasks      | elapsed:    9.4s\n",
      "[Parallel(n_jobs=12)]: Done 100 out of 100 | elapsed:   20.0s finished\n"
     ]
    },
    {
     "name": "stdout",
     "output_type": "stream",
     "text": [
      "Class prediction was successful without slicing!\n",
      "No slicing was necessary!\n",
      "Reshaped back to (3281, 3334)\n",
      "[  0   1   2   3   4   5   6   7   8   9  10  11  12  13  14  15  16  17\n",
      "  18  19  20  21  22  23  24  25  26  27  28  29  30  31  32  33  34  35\n",
      "  36  37  38  39  40  41  42  43  44  45  46  47  48  49  50  51  52  53\n",
      "  54  55  56  57  58  59  60  61  62  63  64  65  66  67  68  69  70  71\n",
      "  72  73  74  75  76  77  78  79  80  81  82  83  84  85  86  87  88  89\n",
      "  90  91  92  93  94  95  96  97  98  99 100 101 102 103 104 105 106 107\n",
      " 108 109 110 111 112 113 114 115 116 117 118 119 120 212 215 216 217 218\n",
      " 219 220 221 222 223 224 225 226 227 228 229 230 231 232 233 234 235 236\n",
      " 237 238 239 240 241 242 243 244 245 246 247 248 249 250 251 252 253 254\n",
      " 255]\n",
      "(3281, 3334)\n",
      "Image saved to: TEST_RF_outputs_temp_Acre_classifier_prob/RF_output_2022-11-23-16_19_59_9.tif\n",
      "\n",
      "\n",
      "\n",
      "\n",
      "Starting image: /Users/margauxmforstyhe/Desktop/deforestation_risk/Brazil_Acre_Deforestation_Risk_inference_100km2_grid_scale30/inference_tiles_scale30_22.tif\n",
      "Image opened\n",
      "tile shape: (3281, 3334, 10)\n",
      "Reshaped from (3281, 3334, 10) to (10938854, 10)\n",
      "(10938854, 10)\n"
     ]
    },
    {
     "name": "stderr",
     "output_type": "stream",
     "text": [
      "/usr/local/lib/python3.10/site-packages/sklearn/base.py:450: UserWarning: X does not have valid feature names, but RandomForestClassifier was fitted with feature names\n",
      "  warnings.warn(\n",
      "[Parallel(n_jobs=12)]: Using backend ThreadingBackend with 12 concurrent workers.\n",
      "[Parallel(n_jobs=12)]: Done  26 tasks      | elapsed:   10.4s\n",
      "[Parallel(n_jobs=12)]: Done 100 out of 100 | elapsed:   23.5s finished\n"
     ]
    },
    {
     "name": "stdout",
     "output_type": "stream",
     "text": [
      "Class prediction was successful without slicing!\n",
      "No slicing was necessary!\n",
      "Reshaped back to (3281, 3334)\n",
      "[  0   1   2   3   4   5   6   7   8   9  10  11  12  13  14  15  16  17\n",
      "  18  19  20  21  22  23  24  25  26  27  28  29  30  31  32  33  34  35\n",
      "  36  37  38  39  40  41  42  43  44  45  46  47  48  49  50  51  52  53\n",
      "  54  55  56  57  58  59  60  61  62  63  64  65  66  67  68  69  70  71\n",
      "  72  73  74  75  76  77  78  79  80  81  82  83  84 154 155 156 157 158\n",
      " 159 160 161 162 163 164 165 166 167 168 169 170 171 172 173 174 175 176\n",
      " 177 178 179 180 181 182 183 184 185 186 187 188 189 190 191 192 193 194\n",
      " 195 196 197 198 199 200 201 202 203 204 205 206 207 208 209 210 211 212\n",
      " 213 214 215 216 217 218 219 220 221 222 223 224 225 226 227 228 229 230\n",
      " 231 232 233 234 235 236 237 238 239 240 241 242 243 244 245 246 247 248\n",
      " 249 250 251 252 253 254 255]\n",
      "(3281, 3334)\n",
      "Image saved to: TEST_RF_outputs_temp_Acre_classifier_prob/RF_output_2022-11-23-16_20_37_10.tif\n",
      "\n",
      "\n",
      "\n",
      "\n",
      "Starting image: /Users/margauxmforstyhe/Desktop/deforestation_risk/Brazil_Acre_Deforestation_Risk_inference_100km2_grid_scale30/inference_tiles_scale30_20.tif\n",
      "Image opened\n",
      "tile shape: (3281, 3335, 10)\n",
      "Reshaped from (3281, 3335, 10) to (10942135, 10)\n",
      "(10942135, 10)\n"
     ]
    },
    {
     "name": "stderr",
     "output_type": "stream",
     "text": [
      "/usr/local/lib/python3.10/site-packages/sklearn/base.py:450: UserWarning: X does not have valid feature names, but RandomForestClassifier was fitted with feature names\n",
      "  warnings.warn(\n",
      "[Parallel(n_jobs=12)]: Using backend ThreadingBackend with 12 concurrent workers.\n",
      "[Parallel(n_jobs=12)]: Done  26 tasks      | elapsed:   12.6s\n",
      "[Parallel(n_jobs=12)]: Done 100 out of 100 | elapsed:   29.7s finished\n"
     ]
    },
    {
     "name": "stdout",
     "output_type": "stream",
     "text": [
      "Class prediction was successful without slicing!\n",
      "No slicing was necessary!\n",
      "Reshaped back to (3281, 3335)\n",
      "[  0 114 115 116 117 118 119 120 121 122 123 124 125 126 127 128 129 130\n",
      " 131 132 133 134 135 136 137 138 139 140 141 142 143 144 145 146 147 148\n",
      " 149 150 151 152 153 154 155 156 157 158 159 160 161 162 163 164 165 166\n",
      " 167 168 169 170 171 172 173 174 175 176 177 178 179 180 181 182 183 184\n",
      " 185 186 187 188 189 190 191 192 193 194 195 196 197 198 199 200 201 202\n",
      " 203 204 205 206 207 208 209 210 211 212 213 214 215 216 217 218 219 220\n",
      " 221 222 223 224 225 226 227 228 229 230 231 232 233 234 235 236 237 238\n",
      " 239 240 241 242 243 244 245 246 247 248 249]\n",
      "(3281, 3335)\n",
      "Image saved to: TEST_RF_outputs_temp_Acre_classifier_prob/RF_output_2022-11-23-16_21_20_11.tif\n",
      "\n",
      "\n",
      "\n",
      "\n",
      "Starting image: /Users/margauxmforstyhe/Desktop/deforestation_risk/Brazil_Acre_Deforestation_Risk_inference_100km2_grid_scale30/inference_tiles_scale30_21.tif\n",
      "Image opened\n",
      "tile shape: (3281, 3335, 10)\n",
      "Reshaped from (3281, 3335, 10) to (10942135, 10)\n",
      "(10942135, 10)\n"
     ]
    },
    {
     "name": "stderr",
     "output_type": "stream",
     "text": [
      "/usr/local/lib/python3.10/site-packages/sklearn/base.py:450: UserWarning: X does not have valid feature names, but RandomForestClassifier was fitted with feature names\n",
      "  warnings.warn(\n",
      "[Parallel(n_jobs=12)]: Using backend ThreadingBackend with 12 concurrent workers.\n",
      "[Parallel(n_jobs=12)]: Done  26 tasks      | elapsed:   19.0s\n",
      "[Parallel(n_jobs=12)]: Done 100 out of 100 | elapsed:   29.5s finished\n"
     ]
    },
    {
     "name": "stdout",
     "output_type": "stream",
     "text": [
      "Class prediction was successful without slicing!\n",
      "No slicing was necessary!\n",
      "Reshaped back to (3281, 3335)\n",
      "[  0   1   2   3   4   5   6   7   8   9  10  11  12  13  14  15  16  17\n",
      "  18  19  20  21  22  23  24  25  26  27  28  29  30  31  32  33  34  35\n",
      "  36  37  38  39  40  41  42  43  44  45  46  47  48  49  50  51  52  53\n",
      "  54  55  56  57  58  59  60  61  62  63  64  65  66  67  68  69  70  71\n",
      "  72  73  74  75  76  77  78  79  80  81  82  83  84  85  86  87  88  89\n",
      "  90  91  92  93  94  95  96  97  98  99 100 101 102 103 104 105 106 107\n",
      " 109 111 112 184 185 186 187 188 189 190 191 192 193 194 195 196 197 198\n",
      " 199 200 201 202 203 204 205 206 207 208 209 210 211 212 213 214 215 216\n",
      " 217 218 219 220 221 222 223 224 225 226 227 228 229 230 231 232 233 234\n",
      " 235 236 237 238 239 240 241 242 243 244 245 246 247 248 249 250 251 252\n",
      " 253 254 255]\n",
      "(3281, 3335)\n",
      "Image saved to: TEST_RF_outputs_temp_Acre_classifier_prob/RF_output_2022-11-23-16_22_05_12.tif\n",
      "\n",
      "\n",
      "\n",
      "\n",
      "Starting image: /Users/margauxmforstyhe/Desktop/deforestation_risk/Brazil_Acre_Deforestation_Risk_inference_100km2_grid_scale30/inference_tiles_scale30_10.tif\n",
      "Image opened\n",
      "tile shape: (3291, 3335, 10)\n",
      "Reshaped from (3291, 3335, 10) to (10975485, 10)\n",
      "(10975485, 10)\n"
     ]
    },
    {
     "name": "stderr",
     "output_type": "stream",
     "text": [
      "/usr/local/lib/python3.10/site-packages/sklearn/base.py:450: UserWarning: X does not have valid feature names, but RandomForestClassifier was fitted with feature names\n",
      "  warnings.warn(\n",
      "[Parallel(n_jobs=12)]: Using backend ThreadingBackend with 12 concurrent workers.\n",
      "[Parallel(n_jobs=12)]: Done  26 tasks      | elapsed:    4.3s\n",
      "[Parallel(n_jobs=12)]: Done 100 out of 100 | elapsed:   13.7s finished\n"
     ]
    },
    {
     "name": "stdout",
     "output_type": "stream",
     "text": [
      "Class prediction was successful without slicing!\n",
      "No slicing was necessary!\n",
      "Reshaped back to (3291, 3335)\n",
      "[  0   1   2   3   4   5   6   7   8   9  10  11  12  13  14  15  16  17\n",
      "  18  19  20  21  22  23  24  25  26  27  28  29  30  31  32  33  34  35\n",
      "  36  37  38  39  40  41  42  43  44  45  46  47  48  49  50  51  52  53\n",
      "  54  55  56  57  58 150 151 152 153 154 155 156 157 158 159 160 161 162\n",
      " 163 164 165 166 167 168 169 170 171 172 173 174 175 176 177 178 179 180\n",
      " 181 182 183 184 185 186 187 188 189 190 191 192 193 194 195 196 197 198\n",
      " 199 200 201 202 203 204 205 206 207 208 209 210 211 212 213 214 215 216\n",
      " 217 218 219 220 221 222 223 224 225 226 227 228 229 230 231 232 233 234\n",
      " 235 236 237 238 239 240 241 242 243 244 245 246 247 248 249 250 251 252\n",
      " 253 254 255]\n",
      "(3291, 3335)\n",
      "Image saved to: TEST_RF_outputs_temp_Acre_classifier_prob/RF_output_2022-11-23-16_22_25_13.tif\n",
      "\n",
      "\n",
      "\n",
      "\n",
      "Starting image: /Users/margauxmforstyhe/Desktop/deforestation_risk/Brazil_Acre_Deforestation_Risk_inference_100km2_grid_scale30/inference_tiles_scale30_11.tif\n",
      "Image opened\n",
      "tile shape: (3289, 3335, 10)\n",
      "Reshaped from (3289, 3335, 10) to (10968815, 10)\n",
      "(10968815, 10)\n"
     ]
    },
    {
     "name": "stderr",
     "output_type": "stream",
     "text": [
      "/usr/local/lib/python3.10/site-packages/sklearn/base.py:450: UserWarning: X does not have valid feature names, but RandomForestClassifier was fitted with feature names\n",
      "  warnings.warn(\n",
      "[Parallel(n_jobs=12)]: Using backend ThreadingBackend with 12 concurrent workers.\n",
      "[Parallel(n_jobs=12)]: Done  26 tasks      | elapsed:    4.0s\n",
      "[Parallel(n_jobs=12)]: Done 100 out of 100 | elapsed:   11.6s finished\n"
     ]
    },
    {
     "name": "stdout",
     "output_type": "stream",
     "text": [
      "Class prediction was successful without slicing!\n",
      "No slicing was necessary!\n",
      "Reshaped back to (3289, 3335)\n",
      "[  0   1   2   3   4   5   6   7   8   9  10  11  12  13  14  15  16  17\n",
      "  18  19  20  21  22  23  24  25  26  27  28  29  30  31  32  33  34  35\n",
      "  36  37  38  39  40  41  42  43  44  45  46  47  48  49  50  51  52  53\n",
      "  54  55  56  57  58  59  60  61  62  63  64  65  66  67  68  69  70  71\n",
      "  72  73  74  75  76  77  78  79  80  81  82  83  84  85  86  87  88  89\n",
      "  90  91  92  93  94  95  96  97  98  99 100 101 102 103 104 105 106 107\n",
      " 108 109 110 111 112 113 114 115 116 117 118 119 120 121 122 123 124 125\n",
      " 126 127 128 129 130 131 132 133 134 135 136 137 138 139 140 141 142 143\n",
      " 144 145 146 147 148 149 150 151 152 153 154 155 156 157 158 159 160 161\n",
      " 162 163 164 165 166 167 168 169 170 171 172 173 174 175 176 177 178 179\n",
      " 180 181 182 183 184 185 186 187 188 189 191 192 193 194 196 199 206 207\n",
      " 208 209 210 211 212 213 214 215 216 217 218 219 220 221 222 223 224 225\n",
      " 226 227 228 229 230 231 232 233 234 235 236 237 238 239 240 241 242 243\n",
      " 244 245 246 247 248 249 250 251 252 253 254 255]\n",
      "(3289, 3335)\n",
      "Image saved to: TEST_RF_outputs_temp_Acre_classifier_prob/RF_output_2022-11-23-16_22_42_14.tif\n",
      "\n",
      "\n",
      "\n",
      "\n",
      "Starting image: /Users/margauxmforstyhe/Desktop/deforestation_risk/Brazil_Acre_Deforestation_Risk_inference_100km2_grid_scale30/inference_tiles_scale30_13.tif\n",
      "Image opened\n",
      "tile shape: (557, 445, 10)\n",
      "Reshaped from (557, 445, 10) to (247865, 10)\n",
      "(247865, 10)\n"
     ]
    },
    {
     "name": "stderr",
     "output_type": "stream",
     "text": [
      "/usr/local/lib/python3.10/site-packages/sklearn/base.py:450: UserWarning: X does not have valid feature names, but RandomForestClassifier was fitted with feature names\n",
      "  warnings.warn(\n",
      "[Parallel(n_jobs=12)]: Using backend ThreadingBackend with 12 concurrent workers.\n",
      "[Parallel(n_jobs=12)]: Done  26 tasks      | elapsed:    0.1s\n",
      "[Parallel(n_jobs=12)]: Done 100 out of 100 | elapsed:    0.4s finished\n"
     ]
    },
    {
     "name": "stdout",
     "output_type": "stream",
     "text": [
      "Class prediction was successful without slicing!\n",
      "No slicing was necessary!\n",
      "Reshaped back to (557, 445)\n",
      "[ 0  9 10 11 12 13 14 15 16 17 18 19 20 21 22 23 24 25 26 27 28 29 30 31\n",
      " 32 33 34 35 36 37 38 39 40 41 42 43 44 45 46 47 48 49 50 51 52 53 54 55\n",
      " 56 57 58 59 60 61 62 63 64 65 66 67 68 69 70 71 72 73 74 75 76 77 78 79\n",
      " 80]\n",
      "(557, 445)\n",
      "Image saved to: TEST_RF_outputs_temp_Acre_classifier_prob/RF_output_2022-11-23-16_22_43_15.tif\n",
      "\n",
      "\n",
      "\n",
      "\n",
      "Starting image: /Users/margauxmforstyhe/Desktop/deforestation_risk/Brazil_Acre_Deforestation_Risk_inference_100km2_grid_scale30/inference_tiles_scale30_12.tif\n",
      "Image opened\n",
      "tile shape: (3291, 3334, 10)\n",
      "Reshaped from (3291, 3334, 10) to (10972194, 10)\n",
      "(10972194, 10)\n"
     ]
    },
    {
     "name": "stderr",
     "output_type": "stream",
     "text": [
      "/usr/local/lib/python3.10/site-packages/sklearn/base.py:450: UserWarning: X does not have valid feature names, but RandomForestClassifier was fitted with feature names\n",
      "  warnings.warn(\n",
      "[Parallel(n_jobs=12)]: Using backend ThreadingBackend with 12 concurrent workers.\n",
      "[Parallel(n_jobs=12)]: Done  26 tasks      | elapsed:    8.0s\n",
      "[Parallel(n_jobs=12)]: Done 100 out of 100 | elapsed:   20.7s finished\n"
     ]
    },
    {
     "name": "stdout",
     "output_type": "stream",
     "text": [
      "Class prediction was successful without slicing!\n",
      "No slicing was necessary!\n",
      "Reshaped back to (3291, 3334)\n",
      "[  0   1   2   3   4   5   6   7   8   9  10  11  12  13  14  15  16  17\n",
      "  18  19  20  21  22  23  24  25  26  27  28  29  30  31  32  33  34  35\n",
      "  36  37  38  39  40  41  42  43  44  45  46  47  48  49  50  51  52  53\n",
      "  54  55  56  57  58  59  60  61  62  63  64  65  66  67  68  69  70  71\n",
      "  72  73  74  75  76  77  78  79  80  81  82  83  84  85  86  87  88  89\n",
      "  90  91  92  93  94  95  96  97  98  99 100 101 102 103 104 105 106 107\n",
      " 108 109 110 111 112 113 114 115 116 117 118 119 120 121 122 123 124 125\n",
      " 126 127 128 129 130 131 132 133 134 135 136 137 138 139 140 141 142 143\n",
      " 144 145 146 147 148 149 150 151 152 153 154 155 156 157 158 159 160 161\n",
      " 162 163 164 165 166 167 168 169 170 171 172 173 174 175 176 177 178 179\n",
      " 180 181 182 183 184 185 186 187 188 189 190 191 192 193 194 195 196 197\n",
      " 198 199 200 202 203 204 205 206 213 215 216 217 218 219 220 221 222 223\n",
      " 224 225 226 227 228 229 230 231 232 233 234 235 236 237 238 239 240 241\n",
      " 242 243 244 245 246 247 248 249 250 251 252 253 254 255]\n",
      "(3291, 3334)\n",
      "Image saved to: TEST_RF_outputs_temp_Acre_classifier_prob/RF_output_2022-11-23-16_23_18_16.tif\n",
      "\n",
      "\n",
      "\n",
      "\n",
      "Starting image: /Users/margauxmforstyhe/Desktop/deforestation_risk/Brazil_Acre_Deforestation_Risk_inference_100km2_grid_scale30/inference_tiles_scale30_16.tif\n",
      "Image opened\n",
      "tile shape: (1502, 3334, 10)\n",
      "Reshaped from (1502, 3334, 10) to (5007668, 10)\n",
      "(5007668, 10)\n"
     ]
    },
    {
     "name": "stderr",
     "output_type": "stream",
     "text": [
      "/usr/local/lib/python3.10/site-packages/sklearn/base.py:450: UserWarning: X does not have valid feature names, but RandomForestClassifier was fitted with feature names\n",
      "  warnings.warn(\n",
      "[Parallel(n_jobs=12)]: Using backend ThreadingBackend with 12 concurrent workers.\n",
      "[Parallel(n_jobs=12)]: Done  26 tasks      | elapsed:    3.7s\n",
      "[Parallel(n_jobs=12)]: Done 100 out of 100 | elapsed:    9.2s finished\n"
     ]
    },
    {
     "name": "stdout",
     "output_type": "stream",
     "text": [
      "Class prediction was successful without slicing!\n",
      "No slicing was necessary!\n",
      "Reshaped back to (1502, 3334)\n",
      "[  0   1   2   3   4   5   6   7   8   9  10  11  12  13  14  15  16  17\n",
      "  18  19  20  21  22  23  24  25  26  27  28  29  30  31  32  33  34  35\n",
      "  36  37  38  39  40  41  42  43  44  45  46  47  48  49  50  51  53  56\n",
      "  57 170 171 172 173 174 175 176 177 178 179 180 181 182 183 184 185 186\n",
      " 187 188 189 190 191 192 193 194 195 196 197 198 199 200 201 202 203 204\n",
      " 205 206 207 208 209 210 211 212 213 214 215 216 217 218 219 220 221 222\n",
      " 223 224 225 226 227 228 229 230 231 232 233 234 235 236 237 238 239 240\n",
      " 241 242 243 244 245 246 247 248 249 250 251 252 253 254 255]\n",
      "(1502, 3334)\n",
      "Image saved to: TEST_RF_outputs_temp_Acre_classifier_prob/RF_output_2022-11-23-16_23_33_17.tif\n",
      "\n",
      "\n",
      "\n",
      "\n",
      "Starting image: /Users/margauxmforstyhe/Desktop/deforestation_risk/Brazil_Acre_Deforestation_Risk_inference_100km2_grid_scale30/inference_tiles_scale30_17.tif\n",
      "Image opened\n",
      "tile shape: (3305, 3334, 10)\n",
      "Reshaped from (3305, 3334, 10) to (11018870, 10)\n",
      "(11018870, 10)\n"
     ]
    },
    {
     "name": "stderr",
     "output_type": "stream",
     "text": [
      "/usr/local/lib/python3.10/site-packages/sklearn/base.py:450: UserWarning: X does not have valid feature names, but RandomForestClassifier was fitted with feature names\n",
      "  warnings.warn(\n",
      "[Parallel(n_jobs=12)]: Using backend ThreadingBackend with 12 concurrent workers.\n",
      "[Parallel(n_jobs=12)]: Done  26 tasks      | elapsed:   10.5s\n",
      "[Parallel(n_jobs=12)]: Done 100 out of 100 | elapsed:   31.9s finished\n"
     ]
    },
    {
     "name": "stdout",
     "output_type": "stream",
     "text": [
      "Class prediction was successful without slicing!\n",
      "No slicing was necessary!\n",
      "Reshaped back to (3305, 3334)\n",
      "[  0   1   2   3   4   5   6   7   8   9  10  11  12  13  14  15  16  17\n",
      "  18  19  20  21  22  23  24  25  26  27  28  29  30  31  32  33  34  35\n",
      "  36  37  38  39  40  41  42  43  44  45  46  47  48  49  50  51  52  53\n",
      "  54  55  56  57  58  59  60  61  62  63  64  65  66  67  68  69  70  71\n",
      "  72  73  74  75  76  77  78  79  80  81  82  83  84  85  86  87  88  89\n",
      "  90  91  92  93  94  95  96  97  98  99 100 101 102 103 104 105 106 107\n",
      " 108 109 110 111 112 113 114 115 116 117 118 119 120 121 122 123 124 125\n",
      " 126 127 128 129 130 131 132 133 134 135 136 137 138 139 140 141 142 143\n",
      " 144 145 146 147 148 149 150 151 152 153 154 155 156 157 158 159 160 161\n",
      " 162 163 164 165 166 167 168 169 170 171 172 173 174 175 176 177 178 179\n",
      " 180 181 182 183 184 185 186 187 188 189 190 191 192 193 194 195 196 197\n",
      " 198 199 200 201 202 203 204 205 206 207 208 209 210 211 212 213 214 215\n",
      " 216 217 218 219 220 221 222 223 224 225 226 227 228 229 230 231 232 233\n",
      " 234 235 236 237 238 239 240 241 242 243 244 245 246 247 248 249 250 251\n",
      " 252 253 254 255]\n",
      "(3305, 3334)\n",
      "Image saved to: TEST_RF_outputs_temp_Acre_classifier_prob/RF_output_2022-11-23-16_24_17_18.tif\n",
      "\n",
      "\n",
      "\n",
      "\n",
      "Starting image: /Users/margauxmforstyhe/Desktop/deforestation_risk/Brazil_Acre_Deforestation_Risk_inference_100km2_grid_scale30/inference_tiles_scale30_15.tif\n",
      "Image opened\n",
      "tile shape: (729, 1955, 10)\n",
      "Reshaped from (729, 1955, 10) to (1425195, 10)\n",
      "(1425195, 10)\n"
     ]
    },
    {
     "name": "stderr",
     "output_type": "stream",
     "text": [
      "/usr/local/lib/python3.10/site-packages/sklearn/base.py:450: UserWarning: X does not have valid feature names, but RandomForestClassifier was fitted with feature names\n",
      "  warnings.warn(\n",
      "[Parallel(n_jobs=12)]: Using backend ThreadingBackend with 12 concurrent workers.\n",
      "[Parallel(n_jobs=12)]: Done  26 tasks      | elapsed:    0.7s\n",
      "[Parallel(n_jobs=12)]: Done 100 out of 100 | elapsed:    2.0s finished\n"
     ]
    },
    {
     "name": "stdout",
     "output_type": "stream",
     "text": [
      "Class prediction was successful without slicing!\n",
      "No slicing was necessary!\n",
      "Reshaped back to (729, 1955)\n",
      "[  0 138 139 140 141 142 143 144 145 146 147 148 149 150 151 152 153 154\n",
      " 155 156 157 158 159 160 161 162 163 164 165 166 167 168 169 170 171 172\n",
      " 173 174 175 176 177 178 179 180 181 182 183 184 185 186 187 188 189 190\n",
      " 191 192 193 194 195 196 197 198 199 200 201 202 203 204 205 206 207 208\n",
      " 209 210 211 212 213 214 215 216 217 218 219 220 221 222 223 224 225 226\n",
      " 227 228 229 230 231 232 233 234 235 236 237 238 239 240 241 242 243 244]\n",
      "(729, 1955)\n",
      "Image saved to: TEST_RF_outputs_temp_Acre_classifier_prob/RF_output_2022-11-23-16_24_20_19.tif\n",
      "\n",
      "\n",
      "\n",
      "\n",
      "Starting image: /Users/margauxmforstyhe/Desktop/deforestation_risk/Brazil_Acre_Deforestation_Risk_inference_100km2_grid_scale30/inference_tiles_scale30_29.tif\n",
      "Image opened\n",
      "tile shape: (1434, 831, 10)\n",
      "Reshaped from (1434, 831, 10) to (1191654, 10)\n",
      "(1191654, 10)\n"
     ]
    },
    {
     "name": "stderr",
     "output_type": "stream",
     "text": [
      "/usr/local/lib/python3.10/site-packages/sklearn/base.py:450: UserWarning: X does not have valid feature names, but RandomForestClassifier was fitted with feature names\n",
      "  warnings.warn(\n",
      "[Parallel(n_jobs=12)]: Using backend ThreadingBackend with 12 concurrent workers.\n",
      "[Parallel(n_jobs=12)]: Done  26 tasks      | elapsed:    0.6s\n",
      "[Parallel(n_jobs=12)]: Done 100 out of 100 | elapsed:    1.7s finished\n"
     ]
    },
    {
     "name": "stdout",
     "output_type": "stream",
     "text": [
      "Class prediction was successful without slicing!\n",
      "No slicing was necessary!\n",
      "Reshaped back to (1434, 831)\n",
      "[  0   1   2   3   4   5   6   7   8   9  10  11  12  13  14  15  16  17\n",
      "  18  19  20  21  22  23  24  25  26  27  28  29  30  31  32  33  34  35\n",
      "  36  37  38  39  40  41  42  43  44  45  46  47  48  49  50  51  52  53\n",
      "  54  55  56  57  58  59  60  61  62  63  64  65  66  67  68  69  70  71\n",
      "  72  73  74  75  76  77  78  79  80  81  82  83  84  85  86  87  88  89\n",
      "  90  91  92  93  94  95  96  97  98  99 100 101 102 103 104 105 106 107\n",
      " 108 109 110 111 112 113 114 115 116 117 118 119 120 121 122 123 124 125\n",
      " 126 127 128 129 130 131 132 133 134 135 136 137 138 139 140 141 142 143\n",
      " 144 145 146 147 148 149 150 151 152 153 154 155 156 157 158 159 160 161\n",
      " 162 163 164 165 166 167 168 169 170 171 172 251 253 254 255]\n",
      "(1434, 831)\n",
      "Image saved to: TEST_RF_outputs_temp_Acre_classifier_prob/RF_output_2022-11-23-16_24_22_20.tif\n",
      "\n",
      "\n",
      "\n",
      "\n",
      "Starting image: /Users/margauxmforstyhe/Desktop/deforestation_risk/Brazil_Acre_Deforestation_Risk_inference_100km2_grid_scale30/inference_tiles_scale30_28.tif\n",
      "Image opened\n",
      "tile shape: (1798, 3334, 10)\n",
      "Reshaped from (1798, 3334, 10) to (5994532, 10)\n",
      "(5994532, 10)\n"
     ]
    },
    {
     "name": "stderr",
     "output_type": "stream",
     "text": [
      "/usr/local/lib/python3.10/site-packages/sklearn/base.py:450: UserWarning: X does not have valid feature names, but RandomForestClassifier was fitted with feature names\n",
      "  warnings.warn(\n",
      "[Parallel(n_jobs=12)]: Using backend ThreadingBackend with 12 concurrent workers.\n",
      "[Parallel(n_jobs=12)]: Done  26 tasks      | elapsed:    3.6s\n",
      "[Parallel(n_jobs=12)]: Done 100 out of 100 | elapsed:   10.8s finished\n"
     ]
    },
    {
     "name": "stdout",
     "output_type": "stream",
     "text": [
      "Class prediction was successful without slicing!\n",
      "No slicing was necessary!\n",
      "Reshaped back to (1798, 3334)\n",
      "[  0   1   2   3   4   5   6   7   8   9  10  11  12  13  14  15  16  17\n",
      "  18  19  20  21  22  23  24  25  26  27  28  29  30  31  32  33  34  35\n",
      "  36  37  38  39  40  41  42  43  44  45  46  47  48  49  50  51  52  53\n",
      "  54  55  56  57  58  59  60  61  62  63  64  65  66  67  68  69  70  71\n",
      "  72  73  74  75  76  77  78  79  80  81  82  83  84  85  86  87  88  89\n",
      "  90  91  92 176 177 178 179 180 181 182 183 184 185 186 187 188 189 190\n",
      " 191 192 193 194 195 196 197 198 199 200 201 202 203 204 205 206 207 208\n",
      " 209 210 211 212 213 214 215 216 217 218 219 220 221 222 223 224 225 226\n",
      " 227 228 229 230 231 232 233 234 235 236 237 238 239 240 241 242 243 244\n",
      " 245 246 247 248 249 250 251 252 253 254 255]\n",
      "(1798, 3334)\n",
      "Image saved to: TEST_RF_outputs_temp_Acre_classifier_prob/RF_output_2022-11-23-16_24_39_21.tif\n",
      "\n",
      "\n",
      "\n",
      "\n",
      "Starting image: /Users/margauxmforstyhe/Desktop/deforestation_risk/Brazil_Acre_Deforestation_Risk_inference_100km2_grid_scale30/inference_tiles_scale30_14.tif\n",
      "Image opened\n",
      "tile shape: (1114, 3334, 10)\n",
      "Reshaped from (1114, 3334, 10) to (3714076, 10)\n",
      "(3714076, 10)\n"
     ]
    },
    {
     "name": "stderr",
     "output_type": "stream",
     "text": [
      "/usr/local/lib/python3.10/site-packages/sklearn/base.py:450: UserWarning: X does not have valid feature names, but RandomForestClassifier was fitted with feature names\n",
      "  warnings.warn(\n",
      "[Parallel(n_jobs=12)]: Using backend ThreadingBackend with 12 concurrent workers.\n",
      "[Parallel(n_jobs=12)]: Done  26 tasks      | elapsed:    1.8s\n",
      "[Parallel(n_jobs=12)]: Done 100 out of 100 | elapsed:    5.5s finished\n"
     ]
    },
    {
     "name": "stdout",
     "output_type": "stream",
     "text": [
      "Class prediction was successful without slicing!\n",
      "No slicing was necessary!\n",
      "Reshaped back to (1114, 3334)\n",
      "[  0   1   2   3   4   5   6   7   8   9  10  11  12  13  14  15  16  17\n",
      "  18  19  20  21  22  23  24  25  26  27  28  29  30  31  32  33  34  35\n",
      "  36  37  38  39  40  41  42  43  44  45  46  47  48  49  50  51  52  53\n",
      "  54  55  56  58  61  62  63  65 151 152 153 154 155 156 157 158 159 160\n",
      " 161 162 163 164 165 166 167 168 169 170 171 172 173 174 175 176 177 178\n",
      " 179 180 181 182 183 184 185 186 187 188 189 190 191 192 193 194 195 196\n",
      " 197 198 199 200 201 202 203 204 205 206 207 208 209 210 211 212 213 214\n",
      " 215 216 217 218 219 220 221 222 223 224 225 226 227 228 229 230 231 232\n",
      " 233 234 235 236 237 238 239 240 241 242 243 244 245 246 247 248 249 250\n",
      " 251 252 253 254 255]\n",
      "(1114, 3334)\n",
      "Image saved to: TEST_RF_outputs_temp_Acre_classifier_prob/RF_output_2022-11-23-16_24_49_22.tif\n",
      "\n",
      "\n",
      "\n",
      "\n",
      "Starting image: /Users/margauxmforstyhe/Desktop/deforestation_risk/Brazil_Acre_Deforestation_Risk_inference_100km2_grid_scale30/inference_tiles_scale30_1.tif\n",
      "Image opened\n",
      "tile shape: (3298, 3334, 10)\n",
      "Reshaped from (3298, 3334, 10) to (10995532, 10)\n",
      "(10995532, 10)\n"
     ]
    },
    {
     "name": "stderr",
     "output_type": "stream",
     "text": [
      "/usr/local/lib/python3.10/site-packages/sklearn/base.py:450: UserWarning: X does not have valid feature names, but RandomForestClassifier was fitted with feature names\n",
      "  warnings.warn(\n",
      "[Parallel(n_jobs=12)]: Using backend ThreadingBackend with 12 concurrent workers.\n",
      "[Parallel(n_jobs=12)]: Done  26 tasks      | elapsed:   17.9s\n",
      "[Parallel(n_jobs=12)]: Done 100 out of 100 | elapsed:   27.9s finished\n"
     ]
    },
    {
     "name": "stdout",
     "output_type": "stream",
     "text": [
      "Class prediction was successful without slicing!\n",
      "No slicing was necessary!\n",
      "Reshaped back to (3298, 3334)\n",
      "[  0   1   2   3   4   5   6   7   8   9  10  11  12  13  14  15  16  17\n",
      "  18  19  20  21  22  23  24  25  26  27  28  29  30  31  32  33  34  35\n",
      "  36  37  38  39  40  41  42  43  44  45  46  47  48  49  50  51  52  53\n",
      "  54  55  56  57  58  59  60  61  62  63  64  65  66  67  68  69  70  71\n",
      "  72  73  74  75  76  77  78  79  80  81  82  83  84  85  86  87  88  89\n",
      "  90  91  92  93  94  95  96  97  98  99 100 101 102 103 104 105 106 107\n",
      " 108 109 110 111 112 113 114 115 117 151 152 153 154 155 156 157 158 159\n",
      " 160 161 162 163 164 165 166 167 168 169 170 171 172 173 174 175 176 177\n",
      " 178 179 180 181 182 183 184 185 186 187 188 189 190 191 192 193 194 195\n",
      " 196 197 198 199 200 201 202 203 204 205 206 207 208 209 210 211 212 213\n",
      " 214 215 216 217 218 219 220 221 222 223 224 225 226 227 228 229 230 231\n",
      " 232 233 234 235 236 237 238 239 240 241 242 243 244 245 246 247 248 249\n",
      " 250 251 252 253 254 255]\n",
      "(3298, 3334)\n",
      "Image saved to: TEST_RF_outputs_temp_Acre_classifier_prob/RF_output_2022-11-23-16_25_28_23.tif\n",
      "\n",
      "\n",
      "\n",
      "\n",
      "Starting image: /Users/margauxmforstyhe/Desktop/deforestation_risk/Brazil_Acre_Deforestation_Risk_inference_100km2_grid_scale30/inference_tiles_scale30_0.tif\n",
      "Image opened\n",
      "tile shape: (2120, 2475, 10)\n",
      "Reshaped from (2120, 2475, 10) to (5247000, 10)\n",
      "(5247000, 10)\n"
     ]
    },
    {
     "name": "stderr",
     "output_type": "stream",
     "text": [
      "/usr/local/lib/python3.10/site-packages/sklearn/base.py:450: UserWarning: X does not have valid feature names, but RandomForestClassifier was fitted with feature names\n",
      "  warnings.warn(\n",
      "[Parallel(n_jobs=12)]: Using backend ThreadingBackend with 12 concurrent workers.\n",
      "[Parallel(n_jobs=12)]: Done  26 tasks      | elapsed:    2.3s\n",
      "[Parallel(n_jobs=12)]: Done 100 out of 100 | elapsed:    9.0s finished\n"
     ]
    },
    {
     "name": "stdout",
     "output_type": "stream",
     "text": [
      "Class prediction was successful without slicing!\n",
      "No slicing was necessary!\n",
      "Reshaped back to (2120, 2475)\n",
      "[  0   1   2   3   4   5   6   7   8   9  10  11  12  13  14  15  16  17\n",
      "  18  19  20  21  22  23  24  25  26  27  28  29  30  31 133 135 136 137\n",
      " 138 139 140 141 142 143 144 145 146 147 148 149 150 151 152 153 154 155\n",
      " 156 157 158 159 160 161 162 163 164 165 166 167 168 169 170 171 172 173\n",
      " 174 175 176 177 178 179 180 181 182 183 184 185 186 187 188 189 190 191\n",
      " 192 193 194 195 196 197 198 199 200 201 202 203 204 205 206 207 208 209\n",
      " 210 211 212 213 214 215 216 217 218 219 220 221 222 223 224 225 226 227\n",
      " 228 229 230 231 232 233 234 235 236 237 238 239 240 241 242 243 244 245\n",
      " 246 247 248 249 250 251 252 253 254 255]\n",
      "(2120, 2475)\n",
      "Image saved to: TEST_RF_outputs_temp_Acre_classifier_prob/RF_output_2022-11-23-16_25_42_24.tif\n",
      "\n",
      "\n",
      "\n",
      "\n",
      "Starting image: /Users/margauxmforstyhe/Desktop/deforestation_risk/Brazil_Acre_Deforestation_Risk_inference_100km2_grid_scale30/inference_tiles_scale30_2.tif\n",
      "Image opened\n",
      "tile shape: (3298, 3335, 10)\n",
      "Reshaped from (3298, 3335, 10) to (10998830, 10)\n",
      "(10998830, 10)\n"
     ]
    },
    {
     "name": "stderr",
     "output_type": "stream",
     "text": [
      "/usr/local/lib/python3.10/site-packages/sklearn/base.py:450: UserWarning: X does not have valid feature names, but RandomForestClassifier was fitted with feature names\n",
      "  warnings.warn(\n",
      "[Parallel(n_jobs=12)]: Using backend ThreadingBackend with 12 concurrent workers.\n",
      "[Parallel(n_jobs=12)]: Done  26 tasks      | elapsed:    9.1s\n",
      "[Parallel(n_jobs=12)]: Done 100 out of 100 | elapsed:   21.0s finished\n"
     ]
    },
    {
     "name": "stdout",
     "output_type": "stream",
     "text": [
      "Class prediction was successful without slicing!\n",
      "No slicing was necessary!\n",
      "Reshaped back to (3298, 3335)\n",
      "[  0   1   2   3   4   5   6   7   8   9  10  11  12  13  14  15  16  17\n",
      "  18  19  20  21  22  23  24  25  26 145 146 147 148 149 150 151 152 153\n",
      " 154 155 156 157 158 159 160 161 162 163 164 165 166 167 168 169 170 171\n",
      " 172 173 174 175 176 177 178 179 180 181 182 183 184 185 186 187 188 189\n",
      " 190 191 192 193 194 195 196 197 198 199 200 201 202 203 204 205 206 207\n",
      " 208 209 210 211 212 213 214 215 216 217 218 219 220 221 222 223 224 225\n",
      " 226 227 228 229 230 231 232 233 234 235 236 237 238 239 240 241 242 243\n",
      " 244 245 246 247 248 249 250 251 252 253 254 255]\n",
      "(3298, 3335)\n",
      "Image saved to: TEST_RF_outputs_temp_Acre_classifier_prob/RF_output_2022-11-23-16_26_18_25.tif\n",
      "\n",
      "\n",
      "\n",
      "\n",
      "Starting image: /Users/margauxmforstyhe/Desktop/deforestation_risk/Brazil_Acre_Deforestation_Risk_inference_100km2_grid_scale30/inference_tiles_scale30_3.tif\n",
      "Image opened\n",
      "tile shape: (3298, 3334, 10)\n",
      "Reshaped from (3298, 3334, 10) to (10995532, 10)\n",
      "(10995532, 10)\n"
     ]
    },
    {
     "name": "stderr",
     "output_type": "stream",
     "text": [
      "/usr/local/lib/python3.10/site-packages/sklearn/base.py:450: UserWarning: X does not have valid feature names, but RandomForestClassifier was fitted with feature names\n",
      "  warnings.warn(\n",
      "[Parallel(n_jobs=12)]: Using backend ThreadingBackend with 12 concurrent workers.\n",
      "[Parallel(n_jobs=12)]: Done  26 tasks      | elapsed:    9.0s\n",
      "[Parallel(n_jobs=12)]: Done 100 out of 100 | elapsed:   18.8s finished\n"
     ]
    },
    {
     "name": "stdout",
     "output_type": "stream",
     "text": [
      "Class prediction was successful without slicing!\n",
      "No slicing was necessary!\n",
      "Reshaped back to (3298, 3334)\n",
      "[  0   1   2   3   4   5   6   7   8   9  10  11  12  13  14  15  16  17\n",
      "  18  19  20  21  22  23  24  25  26  27  28  29  30  31  32  33  34  35\n",
      "  36  37  38  39  40  41  42  43  44  45  46  47  48  49  50  51  52  53\n",
      "  54  55  56  57  58  59  60  61  62  63  64  65  66  67  68  69  70  71\n",
      "  72  73  74  75  76  77  78  79  80  81  82  83  84  85  86  87  88  89\n",
      "  90  91  92  93  94  95  96  97  98  99 100 101 102 103 104 105 106 107\n",
      " 108 109 110 111 112 113 114 115 116 117 118 119 120 121 122 123 124 125\n",
      " 126 127 128 129 130 131 132 133 134 135 136 137 138 139 140 141 142 185\n",
      " 186 187 188 189 190 191 192 193 194 195 196 197 198 199 200 201 202 203\n",
      " 204 205 206 207 208 209 210 211 212 213 214 215 216 217 218 219 220 221\n",
      " 222 223 224 225 226 227 228 229 230 231 232 233 234 235 236 237 238 239\n",
      " 240 241 242 243 244 245 246 247 248 249 250 251 252 253 254 255]\n",
      "(3298, 3334)\n",
      "Image saved to: TEST_RF_outputs_temp_Acre_classifier_prob/RF_output_2022-11-23-16_26_51_26.tif\n",
      "\n",
      "\n",
      "\n",
      "\n",
      "Starting image: /Users/margauxmforstyhe/Desktop/deforestation_risk/Brazil_Acre_Deforestation_Risk_inference_100km2_grid_scale30/inference_tiles_scale30_7.tif\n",
      "Image opened\n",
      "tile shape: (1116, 2966, 10)\n",
      "Reshaped from (1116, 2966, 10) to (3310056, 10)\n",
      "(3310056, 10)\n"
     ]
    },
    {
     "name": "stderr",
     "output_type": "stream",
     "text": [
      "/usr/local/lib/python3.10/site-packages/sklearn/base.py:450: UserWarning: X does not have valid feature names, but RandomForestClassifier was fitted with feature names\n",
      "  warnings.warn(\n",
      "[Parallel(n_jobs=12)]: Using backend ThreadingBackend with 12 concurrent workers.\n",
      "[Parallel(n_jobs=12)]: Done  26 tasks      | elapsed:    1.6s\n",
      "[Parallel(n_jobs=12)]: Done 100 out of 100 | elapsed:    6.7s finished\n"
     ]
    },
    {
     "name": "stdout",
     "output_type": "stream",
     "text": [
      "Class prediction was successful without slicing!\n",
      "No slicing was necessary!\n",
      "Reshaped back to (1116, 2966)\n",
      "[  0 112 114 115 116 117 118 119 120 121 122 123 124 125 126 127 128 129\n",
      " 130 131 132 133 134 135 136 137 138 139 140 141 142 143 144 145 146 147\n",
      " 148 149 150 151 152 153 154 155 156 157 158 159 160 161 162 163 164 165\n",
      " 166 167 168 169 170 171 172 173 174 175 176 177 178 179 180 181 182 183\n",
      " 184 185 186 187 188 189 190 191 192 193 194 195 196 197 198 199 200 201\n",
      " 202 203 204 205 206 207 208 209 210 211 212 213 214 215 216 217 218 219\n",
      " 220 221 222 223 224 225 226 227 228 229 230 231 232 233 234]\n",
      "(1116, 2966)\n",
      "Image saved to: TEST_RF_outputs_temp_Acre_classifier_prob/RF_output_2022-11-23-16_27_00_27.tif\n",
      "\n",
      "\n",
      "\n",
      "\n",
      "Starting image: /Users/margauxmforstyhe/Desktop/deforestation_risk/Brazil_Acre_Deforestation_Risk_inference_100km2_grid_scale30/inference_tiles_scale30_6.tif\n",
      "Image opened\n",
      "tile shape: (2624, 3334, 10)\n",
      "Reshaped from (2624, 3334, 10) to (8748416, 10)\n",
      "(8748416, 10)\n"
     ]
    },
    {
     "name": "stderr",
     "output_type": "stream",
     "text": [
      "/usr/local/lib/python3.10/site-packages/sklearn/base.py:450: UserWarning: X does not have valid feature names, but RandomForestClassifier was fitted with feature names\n",
      "  warnings.warn(\n",
      "[Parallel(n_jobs=12)]: Using backend ThreadingBackend with 12 concurrent workers.\n",
      "[Parallel(n_jobs=12)]: Done  26 tasks      | elapsed:    6.7s\n",
      "[Parallel(n_jobs=12)]: Done 100 out of 100 | elapsed:   16.5s finished\n"
     ]
    },
    {
     "name": "stdout",
     "output_type": "stream",
     "text": [
      "Class prediction was successful without slicing!\n",
      "No slicing was necessary!\n",
      "Reshaped back to (2624, 3334)\n",
      "[  0   1   2   3   4   5   6   7   8   9  10  11  12  13 131 132 133 134\n",
      " 135 136 137 138 139 140 141 142 143 144 145 146 147 148 149 150 151 152\n",
      " 153 154 155 156 157 158 159 160 161 162 163 164 165 166 167 168 169 170\n",
      " 171 172 173 174 175 176 177 178 179 180 181 182 183 184 185 186 187 188\n",
      " 189 190 191 192 193 194 195 196 197 198 199 200 201 202 203 204 205 206\n",
      " 207 208 209 210 211 212 213 214 215 216 217 218 219 220 221 222 223 224\n",
      " 225 226 227 228 229 230 231 232 233 234 235 236 237 238 239 240 241 242\n",
      " 243 244 245 246 247 248 249 250 251 252 253 254 255]\n",
      "(2624, 3334)\n",
      "Image saved to: TEST_RF_outputs_temp_Acre_classifier_prob/RF_output_2022-11-23-16_27_29_28.tif\n",
      "\n",
      "\n",
      "\n",
      "\n",
      "Starting image: /Users/margauxmforstyhe/Desktop/deforestation_risk/Brazil_Acre_Deforestation_Risk_inference_100km2_grid_scale30/inference_tiles_scale30_4.tif\n",
      "Image opened\n",
      "tile shape: (3102, 2180, 10)\n",
      "Reshaped from (3102, 2180, 10) to (6762360, 10)\n",
      "(6762360, 10)\n"
     ]
    },
    {
     "name": "stderr",
     "output_type": "stream",
     "text": [
      "/usr/local/lib/python3.10/site-packages/sklearn/base.py:450: UserWarning: X does not have valid feature names, but RandomForestClassifier was fitted with feature names\n",
      "  warnings.warn(\n",
      "[Parallel(n_jobs=12)]: Using backend ThreadingBackend with 12 concurrent workers.\n",
      "[Parallel(n_jobs=12)]: Done  26 tasks      | elapsed:    3.4s\n",
      "[Parallel(n_jobs=12)]: Done 100 out of 100 | elapsed:    8.4s finished\n"
     ]
    },
    {
     "name": "stdout",
     "output_type": "stream",
     "text": [
      "Class prediction was successful without slicing!\n",
      "No slicing was necessary!\n",
      "Reshaped back to (3102, 2180)\n",
      "[  0   1   2   3   4   5   6   7   8   9  10  11  12  13  14  15  16  17\n",
      "  18  19  20  21  22  23  24  25  26  27  28  29  30  31  32  33  34  35\n",
      "  36  37  38  39  40  41  42  43  44  45  46  47  48  49  50  51  52  53\n",
      "  54  55  56  57  58  59  60  61  62  63  64  65  66  67  68  69  70  71\n",
      "  72  73  74  75  76  77  78  79  80  81  82  83  84  85  86  87  88  89\n",
      "  90  91  92  93  94  95  96  97  98  99 100 101 102 103 104 105 106 107\n",
      " 108 109 110 111 112 113 114 115 116 117 118 119 120 121 122 123 124 125\n",
      " 126 127 128 129 130 131 132 133 134 135 136 137 138 139 140 141 142 143\n",
      " 144 145 146 147 148 149 150 151 152 153 154 155 156 157 158 159 160 161\n",
      " 162 163 164 165 166 167 168 169 170 171 172 173 174 175 176 177 178 179\n",
      " 180 181 182 183 184 185 186 187 188 189 190 191 192 193 194 195 196 197\n",
      " 198 199 200 201 202 203 204 205 206 207 208 209 210 211 212 213 214 215\n",
      " 216 217 218 219 220 221 222 223 224 225 226 227 228 229 230 231 232 233\n",
      " 234 235 236 237 238 239 240 241 242 243 244 245 246 247 248 249 250 251\n",
      " 252 253 254 255]\n",
      "(3102, 2180)\n",
      "Image saved to: TEST_RF_outputs_temp_Acre_classifier_prob/RF_output_2022-11-23-16_27_41_29.tif\n",
      "\n",
      "\n",
      "\n",
      "\n",
      "Starting image: /Users/margauxmforstyhe/Desktop/deforestation_risk/Brazil_Acre_Deforestation_Risk_inference_100km2_grid_scale30/inference_tiles_scale30_5.tif\n",
      "Image opened\n",
      "tile shape: (3298, 3335, 10)\n",
      "Reshaped from (3298, 3335, 10) to (10998830, 10)\n",
      "(10998830, 10)\n"
     ]
    },
    {
     "name": "stderr",
     "output_type": "stream",
     "text": [
      "/usr/local/lib/python3.10/site-packages/sklearn/base.py:450: UserWarning: X does not have valid feature names, but RandomForestClassifier was fitted with feature names\n",
      "  warnings.warn(\n",
      "[Parallel(n_jobs=12)]: Using backend ThreadingBackend with 12 concurrent workers.\n",
      "[Parallel(n_jobs=12)]: Done  26 tasks      | elapsed:    4.7s\n",
      "[Parallel(n_jobs=12)]: Done 100 out of 100 | elapsed:   14.5s finished\n"
     ]
    },
    {
     "name": "stdout",
     "output_type": "stream",
     "text": [
      "Class prediction was successful without slicing!\n",
      "No slicing was necessary!\n",
      "Reshaped back to (3298, 3335)\n",
      "[  0   1   2   3   4   5   6   7   8   9  10  11  12  13  14  15  16  17\n",
      "  18  19  20  21  22  23  24  25  26  27  28  29  30  31  32  33  34  35\n",
      "  36  37  38  39  40  41  42  43  44  45  46  47  48  49  50  51  52  53\n",
      "  54  55  56  57  58  59  60  61  62  63  64  65  66  67  68  69  70  71\n",
      "  72  73  74  75  76  77  78  79  80  81  82  83  84  85 176 177 179 180\n",
      " 181 182 183 184 185 186 187 188 189 190 191 192 193 194 195 196 197 198\n",
      " 199 200 201 202 203 204 205 206 207 208 209 210 211 212 213 214 215 216\n",
      " 217 218 219 220 221 222 223 224 225 226 227 228 229 230 231 232 233 234\n",
      " 235 236 237 238 239 240 241 242 243 244 245 246 247 248 249 250 251 252\n",
      " 253 254 255]\n",
      "(3298, 3335)\n",
      "Image saved to: TEST_RF_outputs_temp_Acre_classifier_prob/RF_output_2022-11-23-16_28_02_30.tif\n",
      "\n",
      "\n",
      "\n",
      "Done: 31 tiles predicted\n",
      "There are 31 prediction rasters to be merged.\n",
      "ROOT_DIR: /Users/margauxmforstyhe/Desktop/workspace/Earthshot Labs/workspace/Science/model_utilities/model_utilities\n",
      "0...10...20...30...40...50...60...70...80...90...100 - done.\n",
      "Done. Upload final merge tif to GCP bucket\n",
      "\n",
      "Upload to bucket: deforestation_risk/TEST_RF_outputs_temp_Acre_classifier_prob/merged.tif from TEST_RF_outputs_temp_Acre_classifier_prob/merged.tif\n",
      "Done! 31 prediction rasters were merged to deforestation_risk/TEST_RF_outputs_temp_Acre_classifier_prob/merged.tif\n"
     ]
    }
   ],
   "source": [
    "model_builder.inference(mask_band='elevation', \n",
    "                        tiles_folder_name='Brazil_Acre_Deforestation_Risk_inference_100km2_grid_scale30', \n",
    "                        tiles_in_GCP=False,   # Running locally\n",
    "                        RF_output_folder_temp='TEST_RF_outputs_temp_Acre_classifier_prob',\n",
    "                        path_to_tiles_local='/Users/margauxmforstyhe/Desktop/deforestation_risk/Brazil_Acre_Deforestation_Risk_inference_100km2_grid_scale30'\n",
    "                       )"
   ]
  },
  {
   "cell_type": "code",
   "execution_count": null,
   "id": "5e6b1baf-f072-4b49-8b81-a23ebfae0711",
   "metadata": {},
   "outputs": [],
   "source": []
  }
 ],
 "metadata": {
  "kernelspec": {
   "display_name": "Python 3 (ipykernel)",
   "language": "python",
   "name": "python3"
  },
  "language_info": {
   "codemirror_mode": {
    "name": "ipython",
    "version": 3
   },
   "file_extension": ".py",
   "mimetype": "text/x-python",
   "name": "python",
   "nbconvert_exporter": "python",
   "pygments_lexer": "ipython3",
   "version": "3.10.6"
  }
 },
 "nbformat": 4,
 "nbformat_minor": 5
}
