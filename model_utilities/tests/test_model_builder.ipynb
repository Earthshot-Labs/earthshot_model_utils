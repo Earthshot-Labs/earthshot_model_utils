{
 "cells": [
  {
   "cell_type": "markdown",
   "id": "045150a2-ac12-49ff-b8ea-1965c0930679",
   "metadata": {
    "tags": []
   },
   "source": [
    "# Imports"
   ]
  },
  {
   "cell_type": "code",
   "execution_count": 1,
   "id": "464e28de-25f9-449a-8e89-ed9c0efcdee3",
   "metadata": {},
   "outputs": [],
   "source": [
    "import sys\n",
    " \n",
    "# setting path\n",
    "sys.path.append('..')"
   ]
  },
  {
   "cell_type": "code",
   "execution_count": 2,
   "id": "56fe9791-61b6-4336-b447-c5968e1c5e05",
   "metadata": {},
   "outputs": [
    {
     "name": "stderr",
     "output_type": "stream",
     "text": [
      "2022-11-22 10:09:24.097136: I tensorflow/core/platform/cpu_feature_guard.cc:193] This TensorFlow binary is optimized with oneAPI Deep Neural Network Library (oneDNN) to use the following CPU instructions in performance-critical operations:  AVX2 FMA\n",
      "To enable them in other operations, rebuild TensorFlow with the appropriate compiler flags.\n"
     ]
    }
   ],
   "source": [
    "from model_builder import ModelBuilder\n",
    "import matplotlib.pyplot as plt"
   ]
  },
  {
   "cell_type": "markdown",
   "id": "c29ab76f-ffc0-47e0-9ca7-cbb002ebaea5",
   "metadata": {
    "tags": []
   },
   "source": [
    "# Model"
   ]
  },
  {
   "cell_type": "markdown",
   "id": "e04c3aee-484c-4345-9907-1101aa96ad55",
   "metadata": {},
   "source": [
    "Initialize the model builder"
   ]
  },
  {
   "cell_type": "code",
   "execution_count": 3,
   "id": "2f343ed5-dfc8-49fa-8702-cfe65e31d11c",
   "metadata": {},
   "outputs": [],
   "source": [
    "model_builder = ModelBuilder()"
   ]
  },
  {
   "cell_type": "markdown",
   "id": "e9e2f9c0-605d-431e-99b2-e8243ca7a3af",
   "metadata": {
    "tags": []
   },
   "source": [
    "# Create Dataset"
   ]
  },
  {
   "cell_type": "markdown",
   "id": "39ff36b1-226c-4e5b-828f-b4b25d2a5a81",
   "metadata": {},
   "source": [
    "Create the dataset for the training from the csv files that contains all the samples "
   ]
  },
  {
   "cell_type": "code",
   "execution_count": 4,
   "id": "61bd644d-998b-4287-bbf9-8146568c2ec4",
   "metadata": {},
   "outputs": [],
   "source": [
    "# Response variable is the deforestation risk value\n",
    "response_variable=['Response_Variable_Brazil_Atlantic_Forest_0forest_1deforested']\n",
    "\n",
    "# Predictors names that we want to use for the training\n",
    "feature_names = ['elevation', 'slope', 'south_america_rivers', 'brazil_roads', 'urban_distance', 'brazil_protected_areas', \n",
    "                 'brazil_surrounding_forest', 'brazil_pasture', 'brazil_agriculture', 'population_density']\n",
    "# feature_names = ['brazil_pasture', 'population_density']\n",
    "\n",
    "gcp_bucket = 'eartshot-science-team'\n",
    "gcp_folder_name = 'deforestation_risk'\n",
    "samples_folder_name = f'Brazil_Atlantic_Forest_100km2_grids_samples_csv_scale30_1000numPoints'\n",
    "name_csv_samples_merged_file = '/Users/margauxmforstyhe/Desktop/Brazil_Atlantic_Forest_100km2_grids_samples_csv_scale30_1000numPoints/Brazil_Atlantic_Forest_100km2_grids_samples_csv_scale30_1000numPoints_val_test_set_10km_buffer.csv'\n",
    "\n",
    "# samples_folder_name = f'deforestationRisk_MA_samples'\n",
    "# name_csv_samples_merged_file = '/Users/margauxmforstyhe/Desktop/deforestationRisk_MA_renamed2.csv'"
   ]
  },
  {
   "cell_type": "markdown",
   "id": "425bb62f-0673-4158-acff-8a2001d7deee",
   "metadata": {},
   "source": [
    "Create the dataset with train, test and val splits"
   ]
  },
  {
   "cell_type": "code",
   "execution_count": 5,
   "id": "ce32ca29-a2c6-4399-a956-2740c002f4c3",
   "metadata": {},
   "outputs": [
    {
     "name": "stdout",
     "output_type": "stream",
     "text": [
      "Reading sample csv file: /Users/margauxmforstyhe/Desktop/Brazil_Atlantic_Forest_100km2_grids_samples_csv_scale30_1000numPoints/Brazil_Atlantic_Forest_100km2_grids_samples_csv_scale30_1000numPoints_val_test_set_10km_buffer.csv...\n",
      "We have 2049422 samples\n",
      "Training samples: 1639537\n",
      "Test samples: 409885\n",
      "Validation samples: 0\n"
     ]
    }
   ],
   "source": [
    "model_builder.train_val_test_split(response_variable=response_variable, \n",
    "                             samples_csv_local=True,\n",
    "                             feature_names=feature_names, \n",
    "                             gcp_bucket=gcp_bucket, \n",
    "                             gcp_folder_name=gcp_folder_name, \n",
    "                             samples_folder_name= samples_folder_name, \n",
    "                             name_csv_samples_merged_file = name_csv_samples_merged_file, \n",
    "                             use_test_val_buffered_sets = True,\n",
    "                             name_test_buffer_column='test_set_5km_buffer', \n",
    "                             name_val_buffer_column='val_set_5km_buffer', \n",
    "                             name_test_no_buffer_column='test_set_no_buffer', \n",
    "                             name_val_no_buffer_column='val_set_no_buffer'\n",
    "                            )"
   ]
  },
  {
   "cell_type": "markdown",
   "id": "c274c9a5-4d8c-44f8-b74c-6d9d7ff46926",
   "metadata": {},
   "source": [
    "Let's take a look at our training predictors:"
   ]
  },
  {
   "cell_type": "code",
   "execution_count": 6,
   "id": "5fcb300d-6467-435c-b519-2d4b46a3ad58",
   "metadata": {},
   "outputs": [
    {
     "data": {
      "text/html": [
       "<div>\n",
       "<style scoped>\n",
       "    .dataframe tbody tr th:only-of-type {\n",
       "        vertical-align: middle;\n",
       "    }\n",
       "\n",
       "    .dataframe tbody tr th {\n",
       "        vertical-align: top;\n",
       "    }\n",
       "\n",
       "    .dataframe thead th {\n",
       "        text-align: right;\n",
       "    }\n",
       "</style>\n",
       "<table border=\"1\" class=\"dataframe\">\n",
       "  <thead>\n",
       "    <tr style=\"text-align: right;\">\n",
       "      <th></th>\n",
       "      <th>elevation</th>\n",
       "      <th>slope</th>\n",
       "      <th>south_america_rivers</th>\n",
       "      <th>brazil_roads</th>\n",
       "      <th>urban_distance</th>\n",
       "      <th>brazil_protected_areas</th>\n",
       "      <th>brazil_surrounding_forest</th>\n",
       "      <th>brazil_pasture</th>\n",
       "      <th>brazil_agriculture</th>\n",
       "      <th>population_density</th>\n",
       "    </tr>\n",
       "  </thead>\n",
       "  <tbody>\n",
       "    <tr>\n",
       "      <th>1617240</th>\n",
       "      <td>670</td>\n",
       "      <td>16</td>\n",
       "      <td>250.860492</td>\n",
       "      <td>1239.505049</td>\n",
       "      <td>10703.754817</td>\n",
       "      <td>26388.451615</td>\n",
       "      <td>526</td>\n",
       "      <td>8</td>\n",
       "      <td>0</td>\n",
       "      <td>3.117317</td>\n",
       "    </tr>\n",
       "    <tr>\n",
       "      <th>1155553</th>\n",
       "      <td>39</td>\n",
       "      <td>2</td>\n",
       "      <td>2002.840492</td>\n",
       "      <td>1597.078954</td>\n",
       "      <td>853.127252</td>\n",
       "      <td>21092.296849</td>\n",
       "      <td>479</td>\n",
       "      <td>441</td>\n",
       "      <td>11</td>\n",
       "      <td>126.717690</td>\n",
       "    </tr>\n",
       "    <tr>\n",
       "      <th>570840</th>\n",
       "      <td>462</td>\n",
       "      <td>26</td>\n",
       "      <td>632.313385</td>\n",
       "      <td>1445.808277</td>\n",
       "      <td>4278.697005</td>\n",
       "      <td>12722.535880</td>\n",
       "      <td>629</td>\n",
       "      <td>332</td>\n",
       "      <td>0</td>\n",
       "      <td>1.794971</td>\n",
       "    </tr>\n",
       "    <tr>\n",
       "      <th>1850633</th>\n",
       "      <td>840</td>\n",
       "      <td>11</td>\n",
       "      <td>274.103674</td>\n",
       "      <td>672.054890</td>\n",
       "      <td>9325.148967</td>\n",
       "      <td>4844.356131</td>\n",
       "      <td>719</td>\n",
       "      <td>229</td>\n",
       "      <td>0</td>\n",
       "      <td>5.920970</td>\n",
       "    </tr>\n",
       "    <tr>\n",
       "      <th>984828</th>\n",
       "      <td>443</td>\n",
       "      <td>7</td>\n",
       "      <td>233.662019</td>\n",
       "      <td>1877.267042</td>\n",
       "      <td>1725.140302</td>\n",
       "      <td>26943.987039</td>\n",
       "      <td>0</td>\n",
       "      <td>93</td>\n",
       "      <td>308</td>\n",
       "      <td>4.921607</td>\n",
       "    </tr>\n",
       "  </tbody>\n",
       "</table>\n",
       "</div>"
      ],
      "text/plain": [
       "         elevation  slope  south_america_rivers  brazil_roads  urban_distance  \\\n",
       "1617240        670     16            250.860492   1239.505049    10703.754817   \n",
       "1155553         39      2           2002.840492   1597.078954      853.127252   \n",
       "570840         462     26            632.313385   1445.808277     4278.697005   \n",
       "1850633        840     11            274.103674    672.054890     9325.148967   \n",
       "984828         443      7            233.662019   1877.267042     1725.140302   \n",
       "\n",
       "         brazil_protected_areas  brazil_surrounding_forest  brazil_pasture  \\\n",
       "1617240            26388.451615                        526               8   \n",
       "1155553            21092.296849                        479             441   \n",
       "570840             12722.535880                        629             332   \n",
       "1850633             4844.356131                        719             229   \n",
       "984828             26943.987039                          0              93   \n",
       "\n",
       "         brazil_agriculture  population_density  \n",
       "1617240                   0            3.117317  \n",
       "1155553                  11          126.717690  \n",
       "570840                    0            1.794971  \n",
       "1850633                   0            5.920970  \n",
       "984828                  308            4.921607  "
      ]
     },
     "execution_count": 6,
     "metadata": {},
     "output_type": "execute_result"
    }
   ],
   "source": [
    "model_builder.X_train.head()"
   ]
  },
  {
   "cell_type": "markdown",
   "id": "ba4a4efb-b915-4b9b-b219-6af1360ed76d",
   "metadata": {},
   "source": [
    "Now our training targets:"
   ]
  },
  {
   "cell_type": "code",
   "execution_count": 7,
   "id": "3f17ad91-53ba-4320-a1ba-02fe83ebb85a",
   "metadata": {},
   "outputs": [
    {
     "data": {
      "text/html": [
       "<div>\n",
       "<style scoped>\n",
       "    .dataframe tbody tr th:only-of-type {\n",
       "        vertical-align: middle;\n",
       "    }\n",
       "\n",
       "    .dataframe tbody tr th {\n",
       "        vertical-align: top;\n",
       "    }\n",
       "\n",
       "    .dataframe thead th {\n",
       "        text-align: right;\n",
       "    }\n",
       "</style>\n",
       "<table border=\"1\" class=\"dataframe\">\n",
       "  <thead>\n",
       "    <tr style=\"text-align: right;\">\n",
       "      <th></th>\n",
       "      <th>Response_Variable_Brazil_Atlantic_Forest_0forest_1deforested</th>\n",
       "    </tr>\n",
       "  </thead>\n",
       "  <tbody>\n",
       "    <tr>\n",
       "      <th>1617240</th>\n",
       "      <td>1</td>\n",
       "    </tr>\n",
       "    <tr>\n",
       "      <th>1155553</th>\n",
       "      <td>0</td>\n",
       "    </tr>\n",
       "  </tbody>\n",
       "</table>\n",
       "</div>"
      ],
      "text/plain": [
       "         Response_Variable_Brazil_Atlantic_Forest_0forest_1deforested\n",
       "1617240                                                  1           \n",
       "1155553                                                  0           "
      ]
     },
     "execution_count": 7,
     "metadata": {},
     "output_type": "execute_result"
    }
   ],
   "source": [
    "model_builder.y_train.head(2)"
   ]
  },
  {
   "cell_type": "code",
   "execution_count": 8,
   "id": "411d6276-f646-4e13-bb58-7274c371e9cc",
   "metadata": {},
   "outputs": [
    {
     "name": "stdout",
     "output_type": "stream",
     "text": [
      "There are 1400121 forest samples and 239416 deforested samples in training set\n",
      "There are 349557 forest samples and 60328 deforested samples in test set\n"
     ]
    }
   ],
   "source": [
    "nb_forest_samples = model_builder.y_train[model_builder.y_train[response_variable[0]] == 0][response_variable[0]].count()\n",
    "nb_deforested_samples = model_builder.y_train[model_builder.y_train[response_variable[0]] == 1][response_variable[0]].count()\n",
    "print(f'There are {nb_forest_samples} forest samples and {nb_deforested_samples} deforested samples in training set')\n",
    "\n",
    "nb_forest_samples = model_builder.y_val[model_builder.y_val[response_variable[0]] == 0][response_variable[0]].count()\n",
    "nb_deforested_samples = model_builder.y_val[model_builder.y_val[response_variable[0]] == 1][response_variable[0]].count()\n",
    "print(f'There are {nb_forest_samples} forest samples and {nb_deforested_samples} deforested samples in validation set')\n",
    "\n",
    "nb_forest_samples_test = model_builder.y_test[model_builder.y_test[response_variable[0]] == 0][response_variable[0]].count()\n",
    "nb_deforested_samples_test = model_builder.y_test[model_builder.y_test[response_variable[0]] == 1][response_variable[0]].count()\n",
    "print(f'There are {nb_forest_samples_test} forest samples and {nb_deforested_samples_test} deforested samples in test set')\n"
   ]
  },
  {
   "cell_type": "code",
   "execution_count": 9,
   "id": "73963ca7-84d8-40c5-b52f-bca3b63c6cb1",
   "metadata": {},
   "outputs": [
    {
     "data": {
      "text/plain": [
       "(1639537, 10)"
      ]
     },
     "execution_count": 9,
     "metadata": {},
     "output_type": "execute_result"
    }
   ],
   "source": [
    "# Training Predictors samples \n",
    "model_builder.X_train.shape"
   ]
  },
  {
   "cell_type": "code",
   "execution_count": 10,
   "id": "895465ea-3028-400a-a895-78b44981999d",
   "metadata": {},
   "outputs": [
    {
     "data": {
      "text/plain": [
       "(1639537, 1)"
      ]
     },
     "execution_count": 10,
     "metadata": {},
     "output_type": "execute_result"
    }
   ],
   "source": [
    "# Training Response samples \n",
    "model_builder.y_train.shape"
   ]
  },
  {
   "cell_type": "code",
   "execution_count": 11,
   "id": "bc46b4e5-0386-4ac9-aef5-31471ef357d0",
   "metadata": {},
   "outputs": [
    {
     "data": {
      "text/plain": [
       "(409885, 10)"
      ]
     },
     "execution_count": 11,
     "metadata": {},
     "output_type": "execute_result"
    }
   ],
   "source": [
    "# Test Predictors samples \n",
    "model_builder.X_test.shape"
   ]
  },
  {
   "cell_type": "code",
   "execution_count": 12,
   "id": "8cddb68f-b2fd-4853-bde6-bce8a74d5872",
   "metadata": {},
   "outputs": [
    {
     "data": {
      "text/plain": [
       "(409885, 1)"
      ]
     },
     "execution_count": 12,
     "metadata": {},
     "output_type": "execute_result"
    }
   ],
   "source": [
    "# Test Response samples \n",
    "model_builder.y_test.shape"
   ]
  },
  {
   "cell_type": "code",
   "execution_count": 13,
   "id": "061e450b-952b-4a6a-9965-92415d63873d",
   "metadata": {},
   "outputs": [
    {
     "data": {
      "text/plain": [
       "['elevation',\n",
       " 'slope',\n",
       " 'south_america_rivers',\n",
       " 'brazil_roads',\n",
       " 'urban_distance',\n",
       " 'brazil_protected_areas',\n",
       " 'brazil_surrounding_forest',\n",
       " 'brazil_pasture',\n",
       " 'brazil_agriculture',\n",
       " 'population_density']"
      ]
     },
     "execution_count": 13,
     "metadata": {},
     "output_type": "execute_result"
    }
   ],
   "source": [
    "model_builder.feature_names"
   ]
  },
  {
   "cell_type": "code",
   "execution_count": 14,
   "id": "4f48569e-7498-4b38-bf0c-7d9ca7ff1111",
   "metadata": {},
   "outputs": [
    {
     "data": {
      "text/plain": [
       "['Response_Variable_Brazil_Atlantic_Forest_0forest_1deforested']"
      ]
     },
     "execution_count": 14,
     "metadata": {},
     "output_type": "execute_result"
    }
   ],
   "source": [
    "model_builder.response_variable"
   ]
  },
  {
   "cell_type": "markdown",
   "id": "b4ed8c07-28d6-4b50-82a8-ad5ceb073e16",
   "metadata": {},
   "source": [
    "# Hyperparameters tuning"
   ]
  },
  {
   "cell_type": "markdown",
   "id": "67b6f1f1-9533-4540-8af9-1b4b5c01b507",
   "metadata": {},
   "source": [
    "Finding best hyperparameters with GridSearch: Takes a very long time!"
   ]
  },
  {
   "cell_type": "code",
   "execution_count": 15,
   "id": "95555975-0d13-4d91-8356-cffd4b242c7c",
   "metadata": {},
   "outputs": [],
   "source": [
    "# # Uses val set \n",
    "# best_params = model_builder.grid_search(n_estimators=[100, 200, 500], \n",
    "#                                         max_features=['sqrt', 'log2'], \n",
    "#                                         max_depth=[4,5,6,7,8], \n",
    "#                                         criterion=['squared_error', 'absolute_error'], \n",
    "#                                         random_state=42)"
   ]
  },
  {
   "cell_type": "code",
   "execution_count": 16,
   "id": "8001fd9a-0ed8-4ef4-86b7-27300dc76946",
   "metadata": {},
   "outputs": [],
   "source": [
    "# best_params"
   ]
  },
  {
   "cell_type": "markdown",
   "id": "64038099-75a8-4d78-bdd4-d4b9fe5e7503",
   "metadata": {
    "tags": []
   },
   "source": [
    "# Training"
   ]
  },
  {
   "cell_type": "code",
   "execution_count": 17,
   "id": "4ab753a7-989a-4f80-81cf-6ba816217985",
   "metadata": {},
   "outputs": [],
   "source": [
    "model_builder.initialize_regression_model(nb_trees=100, max_depth=5, random_state=42, max_features='sqrt', n_cores=-1, \n",
    "                               oob_score=True, bootstrap=True, criterion='squared_error')"
   ]
  },
  {
   "cell_type": "code",
   "execution_count": 18,
   "id": "937b3c4d-d7cf-4acf-a4a1-4d2d3373d162",
   "metadata": {},
   "outputs": [
    {
     "data": {
      "text/html": [
       "<style>#sk-container-id-1 {color: black;background-color: white;}#sk-container-id-1 pre{padding: 0;}#sk-container-id-1 div.sk-toggleable {background-color: white;}#sk-container-id-1 label.sk-toggleable__label {cursor: pointer;display: block;width: 100%;margin-bottom: 0;padding: 0.3em;box-sizing: border-box;text-align: center;}#sk-container-id-1 label.sk-toggleable__label-arrow:before {content: \"▸\";float: left;margin-right: 0.25em;color: #696969;}#sk-container-id-1 label.sk-toggleable__label-arrow:hover:before {color: black;}#sk-container-id-1 div.sk-estimator:hover label.sk-toggleable__label-arrow:before {color: black;}#sk-container-id-1 div.sk-toggleable__content {max-height: 0;max-width: 0;overflow: hidden;text-align: left;background-color: #f0f8ff;}#sk-container-id-1 div.sk-toggleable__content pre {margin: 0.2em;color: black;border-radius: 0.25em;background-color: #f0f8ff;}#sk-container-id-1 input.sk-toggleable__control:checked~div.sk-toggleable__content {max-height: 200px;max-width: 100%;overflow: auto;}#sk-container-id-1 input.sk-toggleable__control:checked~label.sk-toggleable__label-arrow:before {content: \"▾\";}#sk-container-id-1 div.sk-estimator input.sk-toggleable__control:checked~label.sk-toggleable__label {background-color: #d4ebff;}#sk-container-id-1 div.sk-label input.sk-toggleable__control:checked~label.sk-toggleable__label {background-color: #d4ebff;}#sk-container-id-1 input.sk-hidden--visually {border: 0;clip: rect(1px 1px 1px 1px);clip: rect(1px, 1px, 1px, 1px);height: 1px;margin: -1px;overflow: hidden;padding: 0;position: absolute;width: 1px;}#sk-container-id-1 div.sk-estimator {font-family: monospace;background-color: #f0f8ff;border: 1px dotted black;border-radius: 0.25em;box-sizing: border-box;margin-bottom: 0.5em;}#sk-container-id-1 div.sk-estimator:hover {background-color: #d4ebff;}#sk-container-id-1 div.sk-parallel-item::after {content: \"\";width: 100%;border-bottom: 1px solid gray;flex-grow: 1;}#sk-container-id-1 div.sk-label:hover label.sk-toggleable__label {background-color: #d4ebff;}#sk-container-id-1 div.sk-serial::before {content: \"\";position: absolute;border-left: 1px solid gray;box-sizing: border-box;top: 0;bottom: 0;left: 50%;z-index: 0;}#sk-container-id-1 div.sk-serial {display: flex;flex-direction: column;align-items: center;background-color: white;padding-right: 0.2em;padding-left: 0.2em;position: relative;}#sk-container-id-1 div.sk-item {position: relative;z-index: 1;}#sk-container-id-1 div.sk-parallel {display: flex;align-items: stretch;justify-content: center;background-color: white;position: relative;}#sk-container-id-1 div.sk-item::before, #sk-container-id-1 div.sk-parallel-item::before {content: \"\";position: absolute;border-left: 1px solid gray;box-sizing: border-box;top: 0;bottom: 0;left: 50%;z-index: -1;}#sk-container-id-1 div.sk-parallel-item {display: flex;flex-direction: column;z-index: 1;position: relative;background-color: white;}#sk-container-id-1 div.sk-parallel-item:first-child::after {align-self: flex-end;width: 50%;}#sk-container-id-1 div.sk-parallel-item:last-child::after {align-self: flex-start;width: 50%;}#sk-container-id-1 div.sk-parallel-item:only-child::after {width: 0;}#sk-container-id-1 div.sk-dashed-wrapped {border: 1px dashed gray;margin: 0 0.4em 0.5em 0.4em;box-sizing: border-box;padding-bottom: 0.4em;background-color: white;}#sk-container-id-1 div.sk-label label {font-family: monospace;font-weight: bold;display: inline-block;line-height: 1.2em;}#sk-container-id-1 div.sk-label-container {text-align: center;}#sk-container-id-1 div.sk-container {/* jupyter's `normalize.less` sets `[hidden] { display: none; }` but bootstrap.min.css set `[hidden] { display: none !important; }` so we also need the `!important` here to be able to override the default hidden behavior on the sphinx rendered scikit-learn.org. See: https://github.com/scikit-learn/scikit-learn/issues/21755 */display: inline-block !important;position: relative;}#sk-container-id-1 div.sk-text-repr-fallback {display: none;}</style><div id=\"sk-container-id-1\" class=\"sk-top-container\"><div class=\"sk-text-repr-fallback\"><pre>RandomForestRegressor(max_depth=5, max_features=&#x27;sqrt&#x27;, n_jobs=-1,\n",
       "                      oob_score=True, random_state=42, verbose=1)</pre><b>In a Jupyter environment, please rerun this cell to show the HTML representation or trust the notebook. <br />On GitHub, the HTML representation is unable to render, please try loading this page with nbviewer.org.</b></div><div class=\"sk-container\" hidden><div class=\"sk-item\"><div class=\"sk-estimator sk-toggleable\"><input class=\"sk-toggleable__control sk-hidden--visually\" id=\"sk-estimator-id-1\" type=\"checkbox\" checked><label for=\"sk-estimator-id-1\" class=\"sk-toggleable__label sk-toggleable__label-arrow\">RandomForestRegressor</label><div class=\"sk-toggleable__content\"><pre>RandomForestRegressor(max_depth=5, max_features=&#x27;sqrt&#x27;, n_jobs=-1,\n",
       "                      oob_score=True, random_state=42, verbose=1)</pre></div></div></div></div></div>"
      ],
      "text/plain": [
       "RandomForestRegressor(max_depth=5, max_features='sqrt', n_jobs=-1,\n",
       "                      oob_score=True, random_state=42, verbose=1)"
      ]
     },
     "execution_count": 18,
     "metadata": {},
     "output_type": "execute_result"
    }
   ],
   "source": [
    "model_builder.model"
   ]
  },
  {
   "cell_type": "code",
   "execution_count": 19,
   "id": "d8cff219-54ec-440d-a8db-aa30c9994664",
   "metadata": {},
   "outputs": [
    {
     "name": "stderr",
     "output_type": "stream",
     "text": [
      "[Parallel(n_jobs=-1)]: Using backend ThreadingBackend with 12 concurrent workers.\n",
      "[Parallel(n_jobs=-1)]: Done  26 tasks      | elapsed:   16.8s\n",
      "[Parallel(n_jobs=-1)]: Done 100 out of 100 | elapsed:   49.7s finished\n"
     ]
    }
   ],
   "source": [
    "model_builder.train()"
   ]
  },
  {
   "cell_type": "markdown",
   "id": "f6a926e4-ab00-4d47-92ff-199fa980598b",
   "metadata": {
    "tags": []
   },
   "source": [
    "# Evaluation"
   ]
  },
  {
   "cell_type": "code",
   "execution_count": 20,
   "id": "1088713b-10fc-4359-a59c-0427c57346dd",
   "metadata": {
    "scrolled": true,
    "tags": []
   },
   "outputs": [],
   "source": [
    "# # On validation set\n",
    "# y_pred_val, mae_val, mse_val, rmse_val, oob_score_val, r2_val, feature_imp_val = model_builder.evaluate(X_test=model_builder.X_val,\n",
    "#                                                                     y_test=model_builder.y_val,\n",
    "#                                                                     save_figures=False, saving_base_output_name='testing_val_set')"
   ]
  },
  {
   "cell_type": "code",
   "execution_count": 21,
   "id": "105bb2d2-8b69-450a-85a4-e9c1f9ca66be",
   "metadata": {
    "tags": []
   },
   "outputs": [
    {
     "name": "stdout",
     "output_type": "stream",
     "text": [
      "\n",
      "Evaluation...\n"
     ]
    },
    {
     "name": "stderr",
     "output_type": "stream",
     "text": [
      "[Parallel(n_jobs=12)]: Using backend ThreadingBackend with 12 concurrent workers.\n",
      "[Parallel(n_jobs=12)]: Done  26 tasks      | elapsed:    0.1s\n",
      "[Parallel(n_jobs=12)]: Done 100 out of 100 | elapsed:    0.3s finished\n"
     ]
    },
    {
     "name": "stdout",
     "output_type": "stream",
     "text": [
      "\n",
      "\n",
      "\n",
      "Mean Absolute Error (MAE): 0.24617831981668095\n",
      "Mean Squared Error (MSE): 0.12287568898599387\n",
      "Root Mean Squared Error (RMSE): 0.350536287687871\n",
      "R2: 0.02106673730528341\n",
      "OOB prediction of accuracy is: 2.0947065569000056%\n",
      "\n"
     ]
    },
    {
     "data": {
      "image/png": "[encoded data removed]",
      "text/plain": [
       "<Figure size 500x500 with 1 Axes>"
      ]
     },
     "metadata": {},
     "output_type": "display_data"
    },
    {
     "data": {
      "image/png": "[encoded data removed]",
      "text/plain": [
       "<Figure size 500x500 with 1 Axes>"
      ]
     },
     "metadata": {},
     "output_type": "display_data"
    }
   ],
   "source": [
    "# On test set\n",
    "y_pred_test, mae_test, mse_test, rmse_test, oob_score_test, r2_test, feature_imp_test = model_builder.evaluate(X_test=model_builder.X_test,\n",
    "                                                                    y_test=model_builder.y_test,\n",
    "                                                                    save_figures=False, saving_base_output_name='testing_test_set')"
   ]
  },
  {
   "cell_type": "code",
   "execution_count": 22,
   "id": "1878799f-760b-48e5-8e24-d650cfedb398",
   "metadata": {},
   "outputs": [
    {
     "data": {
      "image/png": "[encoded data removed]",
      "text/plain": [
       "<Figure size 640x480 with 1 Axes>"
      ]
     },
     "metadata": {},
     "output_type": "display_data"
    }
   ],
   "source": [
    "predictor = 'population_density'\n",
    "plt.scatter(model_builder.X_test[predictor].values, model_builder.y_test, color = 'green')\n",
    "plt.scatter(model_builder.X_test[predictor].values, y_pred_test, color = 'blue')\n",
    "plt.title('Random Forest Regression')\n",
    "plt.xlabel(predictor)\n",
    "plt.ylabel('Deforestation risk')\n",
    "plt.show()"
   ]
  },
  {
   "cell_type": "markdown",
   "id": "3dffac4a-7fe1-45b4-85b0-c150db62b66f",
   "metadata": {
    "tags": []
   },
   "source": [
    "# Inference on tiles"
   ]
  },
  {
   "cell_type": "code",
   "execution_count": 23,
   "id": "a05e4fa1-0e95-42d4-b722-28e694aafe94",
   "metadata": {
    "scrolled": true,
    "tags": []
   },
   "outputs": [],
   "source": [
    "model_builder.inference(mask_band='brazil_pasture', \n",
    "                        tiles_folder_name='Brazil_Deforestation_Risk_inference_200km2_grid_scale30', \n",
    "                        tiles_in_GCP=False,   # Running locally\n",
    "                        RF_output_folder_temp='TEST_RF_outputs_temp',\n",
    "                        path_to_tiles_local='/Users/margauxmforstyhe/Desktop/Brazil_Deforestation_Risk_inference_200km2_grid_scale30'\n",
    "                       )\n"
   ]
  },
  {
   "cell_type": "code",
   "execution_count": null,
   "id": "2efe8699-9c56-4710-a899-fc76b98e7371",
   "metadata": {},
   "outputs": [],
   "source": []
  }
 ],
 "metadata": {
  "kernelspec": {
   "display_name": "Python 3 (ipykernel)",
   "language": "python",
   "name": "python3"
  },
  "language_info": {
   "codemirror_mode": {
    "name": "ipython",
    "version": 3
   },
   "file_extension": ".py",
   "mimetype": "text/x-python",
   "name": "python",
   "nbconvert_exporter": "python",
   "pygments_lexer": "ipython3",
   "version": "3.10.6"
  }
 },
 "nbformat": 4,
 "nbformat_minor": 5
}
