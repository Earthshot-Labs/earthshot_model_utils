{
 "cells": [
  {
   "cell_type": "markdown",
   "id": "93af8393-21f1-4a08-b8ac-8e659060f58a",
   "metadata": {},
   "source": [
    "# Imports"
   ]
  },
  {
   "cell_type": "code",
   "execution_count": 1,
   "id": "508fcdb6-e918-4f19-bcb5-59a0f9059862",
   "metadata": {},
   "outputs": [],
   "source": [
    "import sys\n",
    " \n",
    "# setting path\n",
    "sys.path.append('..')"
   ]
  },
  {
   "cell_type": "code",
   "execution_count": 2,
   "id": "510a921f-ba19-431f-a8b1-9c8d9275d7a9",
   "metadata": {},
   "outputs": [],
   "source": [
    "from dataset_builder import EEDatasetBuilder\n",
    "import geemap\n",
    "import ee"
   ]
  },
  {
   "cell_type": "markdown",
   "id": "85636a40-9efb-46b5-8492-167e93a2a7a4",
   "metadata": {},
   "source": [
    "# Map"
   ]
  },
  {
   "cell_type": "code",
   "execution_count": 3,
   "id": "695a4d0c-0ca6-41e8-a1bd-d513b0ea140f",
   "metadata": {},
   "outputs": [
    {
     "data": {
      "application/vnd.jupyter.widget-view+json": {
       "model_id": "739260f042ab487ea4db44272c01066f",
       "version_major": 2,
       "version_minor": 0
      },
      "text/plain": [
       "Map(center=[-11.8673, -76.9544], controls=(WidgetControl(options=['position', 'transparent_bg'], widget=HBox(c…"
      ]
     },
     "execution_count": 3,
     "metadata": {},
     "output_type": "execute_result"
    }
   ],
   "source": [
    "Map = geemap.Map(center=[-11.8673, -76.9544], zoom=2.5)\n",
    "Map"
   ]
  },
  {
   "cell_type": "markdown",
   "id": "fdc31767-c1b7-46c9-89b8-7b500447c99c",
   "metadata": {},
   "source": [
    "# eeDatasetBuilder"
   ]
  },
  {
   "cell_type": "code",
   "execution_count": 11,
   "id": "ed899038-2612-4086-a436-7f8f02af0c3a",
   "metadata": {},
   "outputs": [],
   "source": [
    "ee_dataset_builder = EEDatasetBuilder()"
   ]
  },
  {
   "cell_type": "markdown",
   "id": "1e09cdb1-a25b-4629-ab0d-1b1d74666d03",
   "metadata": {},
   "source": [
    "Custom response variable"
   ]
  },
  {
   "cell_type": "code",
   "execution_count": 12,
   "id": "36e6a225-de99-495d-87a5-d999a24c2cb5",
   "metadata": {},
   "outputs": [],
   "source": [
    "dataset = ee.ImageCollection('ESA/CCI/FireCCI/5_1').filterDate('2020-01-01', f'2020-12-31')\n",
    "burnedArea = dataset.select('BurnDate')\n",
    "maxBA = burnedArea.max()\n",
    "\n",
    "ee_dataset_builder.filtered_response_layer_from_raster(\n",
    "    response_raster='custom', \n",
    "    ee_image=maxBA, \n",
    "    custom_response_raster_name='Fire!'\n",
    ")"
   ]
  },
  {
   "cell_type": "code",
   "execution_count": 13,
   "id": "fa984ec8-9a54-44ea-89ff-cab7a515e595",
   "metadata": {},
   "outputs": [],
   "source": [
    "vis_param = { \n",
    "  'min': 0.0,\n",
    "  'max': 366.0,\n",
    "  'palette': ['ff0000', 'fd4100', 'fb8200', 'f9c400', 'f2ff00', 'b6ff05',\n",
    "    '7aff0a', '3eff0f', '02ff15', '00ff55', '00ff99', '00ffdd',\n",
    "    '00ddff', '0098ff', '0052ff', '0210ff', '3a0dfb', '7209f6',\n",
    "    'a905f1', 'e102ed', 'ff00cc', 'ff0089', 'ff0047', 'ff0004']}\n",
    "\n",
    "Map.addLayer(ee_dataset_builder.image.select('Fire!'), vis_param, '2020 Fire!', True)"
   ]
  },
  {
   "cell_type": "code",
   "execution_count": 14,
   "id": "195b6d36-1c5b-4625-89aa-2446666f3001",
   "metadata": {},
   "outputs": [
    {
     "data": {
      "text/plain": [
       "['Fire!']"
      ]
     },
     "execution_count": 14,
     "metadata": {},
     "output_type": "execute_result"
    }
   ],
   "source": [
    "ee_dataset_builder.image.bandNames().getInfo()"
   ]
  },
  {
   "cell_type": "markdown",
   "id": "fe04e37c-f9ef-4321-ad64-b6ae6c9750ae",
   "metadata": {},
   "source": [
    "Custom predictors"
   ]
  },
  {
   "cell_type": "code",
   "execution_count": 15,
   "id": "51d36a43-b2a5-4b9f-a893-ccfd617a825a",
   "metadata": {},
   "outputs": [],
   "source": [
    "elevation = ee.Image('users/prpiffer/Deforestation_Risk/Elevation_ALOS')\n",
    "slope = ee.Image('users/prpiffer/Deforestation_Risk/Slope_ALOS')\n",
    "\n",
    "ee_dataset_builder.spatial_covariates(covariates=['custom_ee_image', 'custom_ee_image'], \n",
    "                                      ee_image=[elevation, slope], \n",
    "                                      name_custom_ee_image=['elevation', 'slope']) "
   ]
  },
  {
   "cell_type": "code",
   "execution_count": 16,
   "id": "1473bcf1-ebec-486b-b390-3b4c6f9952ee",
   "metadata": {},
   "outputs": [
    {
     "data": {
      "text/plain": [
       "['Fire!', 'elevation', 'slope']"
      ]
     },
     "execution_count": 16,
     "metadata": {},
     "output_type": "execute_result"
    }
   ],
   "source": [
    "ee_dataset_builder.image.bandNames().getInfo()"
   ]
  },
  {
   "cell_type": "code",
   "execution_count": 17,
   "id": "8ddb6bb5-1fd8-4d8f-bd82-e554ef50f4c8",
   "metadata": {},
   "outputs": [],
   "source": [
    "vis_param = { \n",
    "  'min': 0.0,\n",
    "  'max': 100.0,\n",
    "  'palette': ['white', 'black']}\n",
    "\n",
    "Map.addLayer(ee_dataset_builder.image.select('elevation'), vis_param, 'Elevation', True)"
   ]
  },
  {
   "cell_type": "code",
   "execution_count": null,
   "id": "f8a81f21-0c68-4562-81cd-618856f1c204",
   "metadata": {},
   "outputs": [],
   "source": []
  }
 ],
 "metadata": {
  "kernelspec": {
   "display_name": "Python 3 (ipykernel)",
   "language": "python",
   "name": "python3"
  },
  "language_info": {
   "codemirror_mode": {
    "name": "ipython",
    "version": 3
   },
   "file_extension": ".py",
   "mimetype": "text/x-python",
   "name": "python",
   "nbconvert_exporter": "python",
   "pygments_lexer": "ipython3",
   "version": "3.10.6"
  }
 },
 "nbformat": 4,
 "nbformat_minor": 5
}
