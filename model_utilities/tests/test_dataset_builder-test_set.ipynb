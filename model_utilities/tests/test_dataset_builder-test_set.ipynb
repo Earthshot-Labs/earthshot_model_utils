{
 "cells": [
  {
   "cell_type": "markdown",
   "id": "30f32b53-f39f-49b6-a346-99d32cfa2099",
   "metadata": {},
   "source": [
    "# Imports"
   ]
  },
  {
   "cell_type": "code",
   "execution_count": 1,
   "id": "0cd064ee-9fe1-4f9d-a077-ea7bdbc2e2b5",
   "metadata": {},
   "outputs": [],
   "source": [
    "import sys\n",
    " \n",
    "# setting path\n",
    "sys.path.append('..')"
   ]
  },
  {
   "cell_type": "code",
   "execution_count": 2,
   "id": "57711a08-2571-4b49-b2ab-b181fc3e5ef8",
   "metadata": {},
   "outputs": [],
   "source": [
    "from dataset_builder import EEDatasetBuilder\n",
    "import geemap\n",
    "import ee"
   ]
  },
  {
   "cell_type": "markdown",
   "id": "d6a21a9c-4c95-4706-bff1-f0aca9eef8b9",
   "metadata": {},
   "source": [
    "# Demo functionality"
   ]
  },
  {
   "cell_type": "markdown",
   "id": "7d98cf4f",
   "metadata": {},
   "source": [
    "Construct the class"
   ]
  },
  {
   "cell_type": "code",
   "execution_count": 3,
   "id": "bc8bc1e8",
   "metadata": {},
   "outputs": [],
   "source": [
    "ee_dataset_builder = EEDatasetBuilder()"
   ]
  },
  {
   "cell_type": "markdown",
   "id": "95e47b22",
   "metadata": {},
   "source": [
    "Add two test set images, one with a buffer, one without. The feature collection has two polygons in Africa, one's a big rectangle in the Congo and one's a small triangle in Kenya."
   ]
  },
  {
   "cell_type": "code",
   "execution_count": 4,
   "id": "88663bb8",
   "metadata": {},
   "outputs": [],
   "source": [
    "ee_dataset_builder.test_set(feature_collection='projects/ee-earthshot/assets/potential_biomass_project/test_set_0',\n",
    "                            buffer=10000, test_set_name='test_set_10km_buffer')"
   ]
  },
  {
   "cell_type": "code",
   "execution_count": 5,
   "id": "f814d19c",
   "metadata": {},
   "outputs": [],
   "source": [
    "ee_dataset_builder.test_set(feature_collection='projects/ee-earthshot/assets/potential_biomass_project/test_set_0',\n",
    "                            buffer=None, test_set_name='test_set_no_buffer')"
   ]
  },
  {
   "cell_type": "code",
   "execution_count": 6,
   "id": "d637d6d5",
   "metadata": {},
   "outputs": [
    {
     "data": {
      "text/plain": [
       "['test_set_10km_buffer', 'test_set_no_buffer']"
      ]
     },
     "execution_count": 6,
     "metadata": {},
     "output_type": "execute_result"
    }
   ],
   "source": [
    "ee_dataset_builder.image.bandNames().getInfo()"
   ]
  },
  {
   "cell_type": "markdown",
   "id": "38c4623d",
   "metadata": {},
   "source": [
    "Plot them"
   ]
  },
  {
   "cell_type": "code",
   "execution_count": 7,
   "id": "f4e0bd4f-3c0d-4fb2-b0da-9fdf93f9f5b1",
   "metadata": {},
   "outputs": [
    {
     "data": {
      "application/vnd.jupyter.widget-view+json": {
       "model_id": "0e6aa3d648fc49ca8018442663b658ec",
       "version_major": 2,
       "version_minor": 0
      },
      "text/plain": [
       "Map(center=[0.5814, 30.7556], controls=(WidgetControl(options=['position', 'transparent_bg'], widget=HBox(chil…"
      ]
     },
     "metadata": {},
     "output_type": "display_data"
    }
   ],
   "source": [
    "Map = geemap.Map(center=[0.5814, 30.7556], zoom=6)\n",
    "Map.addLayer(ee_dataset_builder.image.select('test_set_10km_buffer'), name='test_set_10km_buffer')\n",
    "Map.addLayer(ee_dataset_builder.image.select('test_set_no_buffer'), name='test_set_no_buffer')\n",
    "Map"
   ]
  },
  {
   "cell_type": "markdown",
   "id": "3593e89a",
   "metadata": {},
   "source": [
    "With the inspector we can see that there are two shapes painted on the image, and that the pixel values in each test area are consecutive integers (1, 2, etc). You can see both buffered and unbuffered test sets by unchecking layers."
   ]
  },
  {
   "cell_type": "code",
   "execution_count": null,
   "id": "0894f4ab",
   "metadata": {},
   "outputs": [],
   "source": []
  }
 ],
 "metadata": {
  "kernelspec": {
   "display_name": "Python 3 (ipykernel)",
   "language": "python",
   "name": "python3"
  },
  "language_info": {
   "codemirror_mode": {
    "name": "ipython",
    "version": 3
   },
   "file_extension": ".py",
   "mimetype": "text/x-python",
   "name": "python",
   "nbconvert_exporter": "python",
   "pygments_lexer": "ipython3",
   "version": "3.9.13"
  }
 },
 "nbformat": 4,
 "nbformat_minor": 5
}
