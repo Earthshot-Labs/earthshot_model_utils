{
 "cells": [
  {
   "cell_type": "markdown",
   "id": "30f32b53-f39f-49b6-a346-99d32cfa2099",
   "metadata": {},
   "source": [
    "# Imports"
   ]
  },
  {
   "cell_type": "code",
   "execution_count": 2,
   "id": "0cd064ee-9fe1-4f9d-a077-ea7bdbc2e2b5",
   "metadata": {},
   "outputs": [],
   "source": [
    "import sys\n",
    " \n",
    "# setting path\n",
    "sys.path.append('..')"
   ]
  },
  {
   "cell_type": "code",
   "execution_count": 3,
   "id": "57711a08-2571-4b49-b2ab-b181fc3e5ef8",
   "metadata": {},
   "outputs": [],
   "source": [
    "from dataset_builder import create_mature_forest_biomass_layer\n",
    "import geemap\n",
    "import ee"
   ]
  },
  {
   "cell_type": "markdown",
   "id": "604432d3-6392-4753-8604-a1e07c2c247a",
   "metadata": {},
   "source": [
    "# Map"
   ]
  },
  {
   "cell_type": "code",
   "execution_count": 62,
   "id": "f4e0bd4f-3c0d-4fb2-b0da-9fdf93f9f5b1",
   "metadata": {},
   "outputs": [
    {
     "data": {
      "application/vnd.jupyter.widget-view+json": {
       "model_id": "1f5ae1c3ca114b65a4cac5e2d07333d6",
       "version_major": 2,
       "version_minor": 0
      },
      "text/plain": [
       "Map(center=[-11.8673, -76.9544], controls=(WidgetControl(options=['position', 'transparent_bg'], widget=HBox(c…"
      ]
     },
     "execution_count": 62,
     "metadata": {},
     "output_type": "execute_result"
    }
   ],
   "source": [
    "Map = geemap.Map(center=[-11.8673, -76.9544], zoom=2.5)\n",
    "Map"
   ]
  },
  {
   "cell_type": "code",
   "execution_count": 61,
   "id": "183ff5d3-feca-4892-a630-db980f2e4297",
   "metadata": {},
   "outputs": [],
   "source": [
    "# globe = ee.FeatureCollection('projects/ee-margauxmasson21-shapefiles/assets/world_rectangle')\n",
    "# Map.addLayer(globe.geometry())"
   ]
  },
  {
   "cell_type": "markdown",
   "id": "d6a21a9c-4c95-4706-bff1-f0aca9eef8b9",
   "metadata": {},
   "source": [
    "# Dataset builder"
   ]
  },
  {
   "cell_type": "code",
   "execution_count": 59,
   "id": "55063848-deb2-4c00-a6df-7154579ed616",
   "metadata": {},
   "outputs": [
    {
     "name": "stdout",
     "output_type": "stream",
     "text": [
      "====== Dataset Builder ======\n",
      "\n",
      "Creating Mature Forest Biomass Layer...\n",
      "Apply Forest age mask\n",
      "Apply Urbanisation mask\n",
      "Apply Forest Loss proximity mask\n",
      "Apply Forest Gain proximity mask\n",
      "Apply Roads proximity mask\n",
      "Apply Past Fires mask\n",
      "{'type': 'Image', 'bands': [{'id': 'AGB_tCO2_mature_forest', 'data_type': {'type': 'PixelType', 'precision': 'double'}, 'crs': 'EPSG:4326', 'crs_transform': [0.002777777777777778, 0, -180, 0, -0.002777777777777778, 90]}]}\n",
      "\n",
      "Mature Forest Biomass Layer created successfully. export_layer was set to: False\n"
     ]
    }
   ],
   "source": [
    "print(\"====== Dataset Builder ======\")\n",
    "do_create_mature_forest_biomass_layer = True\n",
    "export_mature_forest_biomass_layer = False\n",
    "print('\\nCreating Mature Forest Biomass Layer...')\n",
    "mature_forest_biomass_layer = create_mature_forest_biomass_layer(export_layer=export_mature_forest_biomass_layer)\n",
    "print(mature_forest_biomass_layer.getInfo())\n",
    "print(f'\\nMature Forest Biomass Layer created successfully. export_layer was set to: {export_mature_forest_biomass_layer}')\n"
   ]
  },
  {
   "cell_type": "markdown",
   "id": "31ed8522-d01f-4bd6-8384-7d0e18b30b3f",
   "metadata": {},
   "source": [
    "### Visualize in map"
   ]
  },
  {
   "cell_type": "code",
   "execution_count": 60,
   "id": "33887244-491a-44df-9d75-1b1bfa643d1c",
   "metadata": {},
   "outputs": [],
   "source": [
    "biomass_vis_param = { \n",
    "  'min': 0.0,\n",
    "  'max': 600.0,\n",
    "  'palette': ['d9f0a3', 'addd8e', '78c679', '41ab5d', '238443', '005a32']}\n",
    "\n",
    "Map.addLayer(mature_forest_biomass_layer, biomass_vis_param, 'Mature Forest Biomass', True)"
   ]
  },
  {
   "cell_type": "code",
   "execution_count": 9,
   "id": "8ad250c3-69f9-4959-ad9e-caa258ac805c",
   "metadata": {},
   "outputs": [],
   "source": [
    "# asset_img = ee.Image('projects/ee-mmf-mature-forest-biomass/assets/mature_forest_2010_AGB_tco2_scale_100')\n",
    "# Map.addLayer(asset_img, biomass_vis_param, 'Asset Mature Forest Biomass', True)"
   ]
  }
 ],
 "metadata": {
  "kernelspec": {
   "display_name": "gee",
   "language": "python",
   "name": "gee"
  },
  "language_info": {
   "codemirror_mode": {
    "name": "ipython",
    "version": 3
   },
   "file_extension": ".py",
   "mimetype": "text/x-python",
   "name": "python",
   "nbconvert_exporter": "python",
   "pygments_lexer": "ipython3",
   "version": "3.8.13"
  }
 },
 "nbformat": 4,
 "nbformat_minor": 5
}
