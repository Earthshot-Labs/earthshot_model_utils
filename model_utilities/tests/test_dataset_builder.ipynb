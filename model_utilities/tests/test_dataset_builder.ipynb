{
 "cells": [
  {
   "cell_type": "markdown",
   "id": "30f32b53-f39f-49b6-a346-99d32cfa2099",
   "metadata": {},
   "source": [
    "# Imports"
   ]
  },
  {
   "cell_type": "code",
   "execution_count": 1,
   "id": "0cd064ee-9fe1-4f9d-a077-ea7bdbc2e2b5",
   "metadata": {},
   "outputs": [],
   "source": [
    "import sys\n",
    " \n",
    "# setting path\n",
    "sys.path.append('..')"
   ]
  },
  {
   "cell_type": "code",
   "execution_count": 2,
   "id": "57711a08-2571-4b49-b2ab-b181fc3e5ef8",
   "metadata": {},
   "outputs": [],
   "source": [
    "from dataset_builder import EEDatasetBuilder\n",
    "import geemap\n",
    "import ee"
   ]
  },
  {
   "cell_type": "markdown",
   "id": "604432d3-6392-4753-8604-a1e07c2c247a",
   "metadata": {},
   "source": [
    "# Map"
   ]
  },
  {
   "cell_type": "code",
   "execution_count": 3,
   "id": "f4e0bd4f-3c0d-4fb2-b0da-9fdf93f9f5b1",
   "metadata": {},
   "outputs": [
    {
     "data": {
      "application/vnd.jupyter.widget-view+json": {
       "model_id": "b85c0be357a84fc386a49c12d275b75a",
       "version_major": 2,
       "version_minor": 0
      },
      "text/plain": [
       "Map(center=[-11.8673, -76.9544], controls=(WidgetControl(options=['position', 'transparent_bg'], widget=HBox(c…"
      ]
     },
     "metadata": {},
     "output_type": "display_data"
    }
   ],
   "source": [
    "Map = geemap.Map(center=[-11.8673, -76.9544], zoom=2.5)\n",
    "Map"
   ]
  },
  {
   "cell_type": "code",
   "execution_count": 4,
   "id": "183ff5d3-feca-4892-a630-db980f2e4297",
   "metadata": {},
   "outputs": [],
   "source": [
    "# globe = ee.FeatureCollection('projects/ee-margauxmasson21-shapefiles/assets/world_rectangle')\n",
    "# Map.addLayer(globe.geometry())"
   ]
  },
  {
   "cell_type": "markdown",
   "id": "d6a21a9c-4c95-4706-bff1-f0aca9eef8b9",
   "metadata": {},
   "source": [
    "# Dataset builder"
   ]
  },
  {
   "cell_type": "code",
   "execution_count": 5,
   "id": "bc8bc1e8",
   "metadata": {},
   "outputs": [],
   "source": [
    "ee_dataset_builder = EEDatasetBuilder()"
   ]
  },
  {
   "cell_type": "markdown",
   "id": "70dfc837",
   "metadata": {},
   "source": [
    "Make the biomass band with some filters"
   ]
  },
  {
   "cell_type": "code",
   "execution_count": 6,
   "id": "612dd802",
   "metadata": {},
   "outputs": [],
   "source": [
    "ee_dataset_builder.filtered_biomass_layer_from_raster(\n",
    "    biomass_raster='Spawn_AGB_tCO2e',\n",
    "    filter_dict={'forest_non_forest': {'date_range':['2010-01-01', '2010-12-31']},\n",
    "                 'min_forest_age': {'age':40},\n",
    "                # 'very_low_density_rural': {'year': 2010},\n",
    "                # 'forest_loss': {'year': 2010, 'distance': 5000},\n",
    "                # 'forest_gain' : {'distance': 5000},\n",
    "                # 'roads': {'distance': 5000},\n",
    "                # 'fire': {'year': 2010}\n",
    "    }\n",
    ")"
   ]
  },
  {
   "cell_type": "markdown",
   "id": "5fcb9cca",
   "metadata": {},
   "source": [
    "Make covariates bands"
   ]
  },
  {
   "cell_type": "code",
   "execution_count": 7,
   "id": "88663bb8",
   "metadata": {},
   "outputs": [],
   "source": [
    "ee_dataset_builder.spatial_covariates(covariates=['ecoregion', 'terrain'])"
   ]
  },
  {
   "cell_type": "markdown",
   "id": "a08d503d",
   "metadata": {},
   "source": [
    "List band names of image"
   ]
  },
  {
   "cell_type": "code",
   "execution_count": 8,
   "id": "49ce3efe",
   "metadata": {},
   "outputs": [
    {
     "data": {
      "text/plain": [
       "['Spawn_AGB_tCO2e', 'BIOME_NUM', 'elevation', 'aspect', 'slope', 'hillshade']"
      ]
     },
     "execution_count": 8,
     "metadata": {},
     "output_type": "execute_result"
    }
   ],
   "source": [
    "ee_dataset_builder.image.bandNames().getInfo()"
   ]
  },
  {
   "cell_type": "code",
   "execution_count": 9,
   "id": "04f590d6-4c65-4378-838b-578632b02ad5",
   "metadata": {},
   "outputs": [
    {
     "data": {
      "text/plain": [
       "<ee.image.Image at 0x166948370>"
      ]
     },
     "execution_count": 9,
     "metadata": {},
     "output_type": "execute_result"
    }
   ],
   "source": [
    "ee_dataset_builder.image"
   ]
  },
  {
   "cell_type": "markdown",
   "id": "894b4b27",
   "metadata": {},
   "source": [
    "So the image has the added bands; it basically seems to work.\n",
    "\n",
    "Use the below code to make a plot and confirm results of mask match what is expected for both biomass and the features."
   ]
  },
  {
   "cell_type": "markdown",
   "id": "31ed8522-d01f-4bd6-8384-7d0e18b30b3f",
   "metadata": {},
   "source": [
    "### Visualize in map"
   ]
  },
  {
   "cell_type": "code",
   "execution_count": 10,
   "id": "33887244-491a-44df-9d75-1b1bfa643d1c",
   "metadata": {},
   "outputs": [],
   "source": [
    "biomass_vis_param = { \n",
    "  'min': 0.0,\n",
    "  'max': 600.0,\n",
    "  'palette': ['d9f0a3', 'addd8e', '78c679', '41ab5d', '238443', '005a32']}\n",
    "\n",
    "Map.addLayer(ee_dataset_builder.image.select('Spawn_AGB_tCO2e'), biomass_vis_param, 'Mature Forest Biomass', True)"
   ]
  },
  {
   "cell_type": "code",
   "execution_count": 11,
   "id": "590e8d4b-e8b1-46dd-ac90-aabfbe889709",
   "metadata": {},
   "outputs": [],
   "source": [
    "biome_vis_param = { \n",
    "  'min': 0.0,\n",
    "  'max': 50.0,\n",
    "  'palette':  [\n",
    "    \"1c5510\",\"659208\",\"ae7d20\",\"000065\",\"bbcb35\",\"009a18\",\n",
    "    \"caffca\",\"55eb49\",\"65b2ff\",\"0020ca\",\"8ea228\",\"ff9adf\",\n",
    "    \"baff35\",\"ffba9a\",\"ffba35\",\"f7ffca\",\"e7e718\",\"798649\",\n",
    "    \"65ff9a\",\"d29e96\",\n",
    "  ]};\n",
    "\n",
    "Map.addLayer(ee_dataset_builder.image.select('BIOME_NUM'), biome_vis_param, 'Biome Num', True)"
   ]
  },
  {
   "cell_type": "code",
   "execution_count": 12,
   "id": "8ad250c3-69f9-4959-ad9e-caa258ac805c",
   "metadata": {},
   "outputs": [],
   "source": [
    "# asset_img = ee.Image('projects/ee-mmf-mature-forest-biomass/assets/mature_forest_2010_AGB_tco2_scale_100')\n",
    "# Map.addLayer(asset_img, biomass_vis_param, 'Asset Mature Forest Biomass', True)"
   ]
  },
  {
   "cell_type": "markdown",
   "id": "16adcafe-5f91-4b7c-8289-ac2e5f3c284b",
   "metadata": {},
   "source": [
    "## Export samples CSV to Google Drive"
   ]
  },
  {
   "cell_type": "markdown",
   "id": "9298e36c-4740-4c4a-b3e1-adfc1d34174f",
   "metadata": {},
   "source": [
    "Check progress in your GEE console: https://code.earthengine.google.com/tasks"
   ]
  },
  {
   "cell_type": "code",
   "execution_count": 13,
   "id": "c4f90cfb-daa4-4dff-b4e5-0f960dc20032",
   "metadata": {},
   "outputs": [],
   "source": [
    "# Gridded world shapefile asset in GEE\n",
    "shp_asset_path = 'projects/ee-margauxmasson21-shapefiles/assets/latin_america_gridded_5000km2'\n",
    "\n",
    "# This will take quite some time\n",
    "ee_dataset_builder.samples_csv_export(shp_asset_path, \n",
    "                                    name_output_google_drive_folder='test_export_samples_latinAm_gridded_5000km2', \n",
    "                                    numPixels=2000, scale=100)"
   ]
  },
  {
   "cell_type": "markdown",
   "id": "f47d97fc-08d1-454f-bc2f-7215b93bcf0d",
   "metadata": {},
   "source": [
    "## Export tiles to Google Drive"
   ]
  },
  {
   "cell_type": "code",
   "execution_count": null,
   "id": "8c29dd13-159f-4d64-8328-8f798d947d35",
   "metadata": {},
   "outputs": [],
   "source": [
    "shp_asset_path = 'projects/ee-margauxmasson21-shapefiles/assets/latin_america_gridded_10degrees'\n",
    "name_google_drive_folder = 'test_export_tiles_latinAm_gridded_10degrees'\n",
    "maxPixels = 1e13\n",
    "scale=100\n",
    "\n",
    "# This will take quite some time\n",
    "ee_dataset_builder.tiles_export(shp_asset_path, \n",
    "                                    name_output_google_drive_folder=name_google_drive_folder, \n",
    "                                    scale=scale, maxPixels=maxPixels)"
   ]
  },
  {
   "cell_type": "code",
   "execution_count": null,
   "id": "7d0395f0-4028-463f-b792-e3fb328247b5",
   "metadata": {},
   "outputs": [],
   "source": []
  }
 ],
 "metadata": {
  "kernelspec": {
   "display_name": "Python 3 (ipykernel)",
   "language": "python",
   "name": "python3"
  },
  "language_info": {
   "codemirror_mode": {
    "name": "ipython",
    "version": 3
   },
   "file_extension": ".py",
   "mimetype": "text/x-python",
   "name": "python",
   "nbconvert_exporter": "python",
   "pygments_lexer": "ipython3",
   "version": "3.9.13"
  }
 },
 "nbformat": 4,
 "nbformat_minor": 5
}
