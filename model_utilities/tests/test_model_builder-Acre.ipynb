{
 "cells": [
  {
   "cell_type": "markdown",
   "id": "045150a2-ac12-49ff-b8ea-1965c0930679",
   "metadata": {
    "tags": []
   },
   "source": [
    "# Imports"
   ]
  },
  {
   "cell_type": "code",
   "execution_count": 1,
   "id": "464e28de-25f9-449a-8e89-ed9c0efcdee3",
   "metadata": {},
   "outputs": [],
   "source": [
    "import sys\n",
    " \n",
    "# setting path\n",
    "sys.path.append('..')"
   ]
  },
  {
   "cell_type": "code",
   "execution_count": 2,
   "id": "56fe9791-61b6-4336-b447-c5968e1c5e05",
   "metadata": {},
   "outputs": [
    {
     "name": "stderr",
     "output_type": "stream",
     "text": [
      "2022-11-23 14:26:25.960501: I tensorflow/core/platform/cpu_feature_guard.cc:193] This TensorFlow binary is optimized with oneAPI Deep Neural Network Library (oneDNN) to use the following CPU instructions in performance-critical operations:  AVX2 FMA\n",
      "To enable them in other operations, rebuild TensorFlow with the appropriate compiler flags.\n"
     ]
    },
    {
     "name": "stdout",
     "output_type": "stream",
     "text": [
      "/Users/margauxmforstyhe/Desktop/workspace/Earthshot Labs/workspace/Science/model_utilities/model_utilities\n"
     ]
    }
   ],
   "source": [
    "from model_builder import ModelBuilder\n",
    "import matplotlib.pyplot as plt"
   ]
  },
  {
   "cell_type": "markdown",
   "id": "c29ab76f-ffc0-47e0-9ca7-cbb002ebaea5",
   "metadata": {
    "tags": []
   },
   "source": [
    "# Model"
   ]
  },
  {
   "cell_type": "markdown",
   "id": "e04c3aee-484c-4345-9907-1101aa96ad55",
   "metadata": {},
   "source": [
    "Initialize the model builder"
   ]
  },
  {
   "cell_type": "code",
   "execution_count": 3,
   "id": "2f343ed5-dfc8-49fa-8702-cfe65e31d11c",
   "metadata": {},
   "outputs": [],
   "source": [
    "model_builder = ModelBuilder()"
   ]
  },
  {
   "cell_type": "markdown",
   "id": "e9e2f9c0-605d-431e-99b2-e8243ca7a3af",
   "metadata": {
    "tags": []
   },
   "source": [
    "# Create Dataset"
   ]
  },
  {
   "cell_type": "markdown",
   "id": "39ff36b1-226c-4e5b-828f-b4b25d2a5a81",
   "metadata": {},
   "source": [
    "We want to predict the deforestation risk using predictors such as terrain information, proximity to roads/pasture/agriculture/urbanization, population density, etc. \n",
    "Create the dataset for the training from the csv files that contains all the samples "
   ]
  },
  {
   "cell_type": "code",
   "execution_count": 4,
   "id": "61bd644d-998b-4287-bbf9-8146568c2ec4",
   "metadata": {},
   "outputs": [],
   "source": [
    "# Response variable is the deforestation risk value\n",
    "response_variable=['deforestation_risk_Acre']\n",
    "\n",
    "# Predictors names that we want to use for the training\n",
    "# feature_names = ['brazil_roads',\n",
    "#                  'elevation',\n",
    "#                  'slope',\n",
    "#                  'brazil_protected_areas',\n",
    "#                  'population_density',\n",
    "#                  'brazil_surrounding_forest',\n",
    "#                  'brazil_pasture',\n",
    "#                  'brazil_agriculture',\n",
    "#                  'south_america_rivers',\n",
    "#                  'urban_distance']\n",
    "feature_names = ['brazil_roads',\n",
    "                 'brazil_protected_areas',\n",
    "                 'population_density',\n",
    "                 'brazil_surrounding_forest',\n",
    "                 'brazil_pasture',\n",
    "                 'urban_distance']\n",
    "\n",
    "gcp_bucket = 'eartshot-science-team'\n",
    "gcp_folder_name = 'deforestation_risk'\n",
    "samples_folder_name = f'Brazil_Acre_100km2_grids_samples_csv_scale30_1000numPoints'\n",
    "name_csv_samples_merged_file = '/Users/margauxmforstyhe/Desktop/deforestation_risk/Brazil_Acre_100km2_grids_samples_csv_scale30_1000numPoints/Brazil_Acre_100km2_grids_samples_csv_scale30_1000numPoints_val_test_set_5km_buffer.csv'\n"
   ]
  },
  {
   "cell_type": "markdown",
   "id": "425bb62f-0673-4158-acff-8a2001d7deee",
   "metadata": {},
   "source": [
    "Create the dataset with train, test and val splits"
   ]
  },
  {
   "cell_type": "code",
   "execution_count": 5,
   "id": "ce32ca29-a2c6-4399-a956-2740c002f4c3",
   "metadata": {},
   "outputs": [
    {
     "name": "stdout",
     "output_type": "stream",
     "text": [
      "Reading sample csv file: /Users/margauxmforstyhe/Desktop/deforestation_risk/Brazil_Acre_100km2_grids_samples_csv_scale30_1000numPoints/Brazil_Acre_100km2_grids_samples_csv_scale30_1000numPoints_val_test_set_5km_buffer.csv...\n",
      "We have 297322 samples\n",
      "Training samples: 237857\n",
      "Test samples: 59465\n",
      "Validation samples: 0\n"
     ]
    }
   ],
   "source": [
    "model_builder.train_val_test_split(response_variable=response_variable, \n",
    "                             samples_csv_local=True,\n",
    "                             feature_names=feature_names, \n",
    "                             gcp_bucket=gcp_bucket, \n",
    "                             gcp_folder_name=gcp_folder_name, \n",
    "                             samples_folder_name= samples_folder_name, \n",
    "                             name_csv_samples_merged_file = name_csv_samples_merged_file, \n",
    "                             use_test_val_buffered_sets = False,\n",
    "                             test_size=0.20,\n",
    "                             # name_test_buffer_column='test_set_5km_buffer', \n",
    "                             # name_val_buffer_column='val_set_5km_buffer', \n",
    "                             # name_test_no_buffer_column='test_set_no_buffer', \n",
    "                             # name_val_no_buffer_column='val_set_no_buffer'\n",
    "                            )"
   ]
  },
  {
   "cell_type": "markdown",
   "id": "c274c9a5-4d8c-44f8-b74c-6d9d7ff46926",
   "metadata": {},
   "source": [
    "Let's take a look at our training predictors:"
   ]
  },
  {
   "cell_type": "code",
   "execution_count": 6,
   "id": "5fcb300d-6467-435c-b519-2d4b46a3ad58",
   "metadata": {},
   "outputs": [
    {
     "data": {
      "text/html": [
       "<div>\n",
       "<style scoped>\n",
       "    .dataframe tbody tr th:only-of-type {\n",
       "        vertical-align: middle;\n",
       "    }\n",
       "\n",
       "    .dataframe tbody tr th {\n",
       "        vertical-align: top;\n",
       "    }\n",
       "\n",
       "    .dataframe thead th {\n",
       "        text-align: right;\n",
       "    }\n",
       "</style>\n",
       "<table border=\"1\" class=\"dataframe\">\n",
       "  <thead>\n",
       "    <tr style=\"text-align: right;\">\n",
       "      <th></th>\n",
       "      <th>brazil_roads</th>\n",
       "      <th>brazil_protected_areas</th>\n",
       "      <th>population_density</th>\n",
       "      <th>brazil_surrounding_forest</th>\n",
       "      <th>brazil_pasture</th>\n",
       "      <th>urban_distance</th>\n",
       "    </tr>\n",
       "  </thead>\n",
       "  <tbody>\n",
       "    <tr>\n",
       "      <th>74058</th>\n",
       "      <td>23818.293582</td>\n",
       "      <td>177674.320284</td>\n",
       "      <td>0.423144</td>\n",
       "      <td>918</td>\n",
       "      <td>40</td>\n",
       "      <td>20517</td>\n",
       "    </tr>\n",
       "    <tr>\n",
       "      <th>106018</th>\n",
       "      <td>15513.510126</td>\n",
       "      <td>29363.389572</td>\n",
       "      <td>1.860605</td>\n",
       "      <td>961</td>\n",
       "      <td>0</td>\n",
       "      <td>16865</td>\n",
       "    </tr>\n",
       "    <tr>\n",
       "      <th>19902</th>\n",
       "      <td>10640.357294</td>\n",
       "      <td>110540.556156</td>\n",
       "      <td>2.102675</td>\n",
       "      <td>532</td>\n",
       "      <td>429</td>\n",
       "      <td>11899</td>\n",
       "    </tr>\n",
       "    <tr>\n",
       "      <th>175334</th>\n",
       "      <td>224774.298513</td>\n",
       "      <td>130510.381483</td>\n",
       "      <td>0.036595</td>\n",
       "      <td>961</td>\n",
       "      <td>0</td>\n",
       "      <td>141130</td>\n",
       "    </tr>\n",
       "    <tr>\n",
       "      <th>188892</th>\n",
       "      <td>8515.704376</td>\n",
       "      <td>109.085874</td>\n",
       "      <td>6.680561</td>\n",
       "      <td>961</td>\n",
       "      <td>0</td>\n",
       "      <td>25273</td>\n",
       "    </tr>\n",
       "  </tbody>\n",
       "</table>\n",
       "</div>"
      ],
      "text/plain": [
       "         brazil_roads  brazil_protected_areas  population_density  \\\n",
       "74058    23818.293582           177674.320284            0.423144   \n",
       "106018   15513.510126            29363.389572            1.860605   \n",
       "19902    10640.357294           110540.556156            2.102675   \n",
       "175334  224774.298513           130510.381483            0.036595   \n",
       "188892    8515.704376              109.085874            6.680561   \n",
       "\n",
       "        brazil_surrounding_forest  brazil_pasture  urban_distance  \n",
       "74058                         918              40           20517  \n",
       "106018                        961               0           16865  \n",
       "19902                         532             429           11899  \n",
       "175334                        961               0          141130  \n",
       "188892                        961               0           25273  "
      ]
     },
     "execution_count": 6,
     "metadata": {},
     "output_type": "execute_result"
    }
   ],
   "source": [
    "model_builder.X_train.head()"
   ]
  },
  {
   "cell_type": "markdown",
   "id": "ba4a4efb-b915-4b9b-b219-6af1360ed76d",
   "metadata": {},
   "source": [
    "Now our training targets:"
   ]
  },
  {
   "cell_type": "code",
   "execution_count": 7,
   "id": "3f17ad91-53ba-4320-a1ba-02fe83ebb85a",
   "metadata": {},
   "outputs": [
    {
     "data": {
      "text/html": [
       "<div>\n",
       "<style scoped>\n",
       "    .dataframe tbody tr th:only-of-type {\n",
       "        vertical-align: middle;\n",
       "    }\n",
       "\n",
       "    .dataframe tbody tr th {\n",
       "        vertical-align: top;\n",
       "    }\n",
       "\n",
       "    .dataframe thead th {\n",
       "        text-align: right;\n",
       "    }\n",
       "</style>\n",
       "<table border=\"1\" class=\"dataframe\">\n",
       "  <thead>\n",
       "    <tr style=\"text-align: right;\">\n",
       "      <th></th>\n",
       "      <th>deforestation_risk_Acre</th>\n",
       "    </tr>\n",
       "  </thead>\n",
       "  <tbody>\n",
       "    <tr>\n",
       "      <th>74058</th>\n",
       "      <td>0</td>\n",
       "    </tr>\n",
       "    <tr>\n",
       "      <th>106018</th>\n",
       "      <td>0</td>\n",
       "    </tr>\n",
       "  </tbody>\n",
       "</table>\n",
       "</div>"
      ],
      "text/plain": [
       "        deforestation_risk_Acre\n",
       "74058                         0\n",
       "106018                        0"
      ]
     },
     "execution_count": 7,
     "metadata": {},
     "output_type": "execute_result"
    }
   ],
   "source": [
    "model_builder.y_train.head(2)"
   ]
  },
  {
   "cell_type": "code",
   "execution_count": 8,
   "id": "411d6276-f646-4e13-bb58-7274c371e9cc",
   "metadata": {},
   "outputs": [
    {
     "name": "stdout",
     "output_type": "stream",
     "text": [
      "There are 204451 forest samples and 33406 deforested samples in training set\n",
      "There are 51199 forest samples and 8266 deforested samples in test set\n"
     ]
    }
   ],
   "source": [
    "nb_forest_samples = model_builder.y_train[model_builder.y_train[response_variable[0]] == 0][response_variable[0]].count()\n",
    "nb_deforested_samples = model_builder.y_train[model_builder.y_train[response_variable[0]] == 1][response_variable[0]].count()\n",
    "print(f'There are {nb_forest_samples} forest samples and {nb_deforested_samples} deforested samples in training set')\n",
    "\n",
    "# nb_forest_samples = model_builder.y_val[model_builder.y_val[response_variable[0]] == 0][response_variable[0]].count()\n",
    "# nb_deforested_samples = model_builder.y_val[model_builder.y_val[response_variable[0]] == 1][response_variable[0]].count()\n",
    "# print(f'There are {nb_forest_samples} forest samples and {nb_deforested_samples} deforested samples in validation set')\n",
    "\n",
    "nb_forest_samples_test = model_builder.y_test[model_builder.y_test[response_variable[0]] == 0][response_variable[0]].count()\n",
    "nb_deforested_samples_test = model_builder.y_test[model_builder.y_test[response_variable[0]] == 1][response_variable[0]].count()\n",
    "print(f'There are {nb_forest_samples_test} forest samples and {nb_deforested_samples_test} deforested samples in test set')\n"
   ]
  },
  {
   "cell_type": "code",
   "execution_count": 9,
   "id": "73963ca7-84d8-40c5-b52f-bca3b63c6cb1",
   "metadata": {},
   "outputs": [
    {
     "data": {
      "text/plain": [
       "(237857, 6)"
      ]
     },
     "execution_count": 9,
     "metadata": {},
     "output_type": "execute_result"
    }
   ],
   "source": [
    "# Training Predictors samples \n",
    "model_builder.X_train.shape"
   ]
  },
  {
   "cell_type": "code",
   "execution_count": 10,
   "id": "895465ea-3028-400a-a895-78b44981999d",
   "metadata": {},
   "outputs": [
    {
     "data": {
      "text/plain": [
       "(237857, 1)"
      ]
     },
     "execution_count": 10,
     "metadata": {},
     "output_type": "execute_result"
    }
   ],
   "source": [
    "# Training Response samples \n",
    "model_builder.y_train.shape"
   ]
  },
  {
   "cell_type": "code",
   "execution_count": 11,
   "id": "bc46b4e5-0386-4ac9-aef5-31471ef357d0",
   "metadata": {},
   "outputs": [
    {
     "data": {
      "text/plain": [
       "(59465, 6)"
      ]
     },
     "execution_count": 11,
     "metadata": {},
     "output_type": "execute_result"
    }
   ],
   "source": [
    "# Test Predictors samples \n",
    "model_builder.X_test.shape"
   ]
  },
  {
   "cell_type": "code",
   "execution_count": 12,
   "id": "8cddb68f-b2fd-4853-bde6-bce8a74d5872",
   "metadata": {},
   "outputs": [
    {
     "data": {
      "text/plain": [
       "(59465, 1)"
      ]
     },
     "execution_count": 12,
     "metadata": {},
     "output_type": "execute_result"
    }
   ],
   "source": [
    "# Test Response samples \n",
    "model_builder.y_test.shape"
   ]
  },
  {
   "cell_type": "code",
   "execution_count": 13,
   "id": "061e450b-952b-4a6a-9965-92415d63873d",
   "metadata": {},
   "outputs": [
    {
     "data": {
      "text/plain": [
       "['brazil_roads',\n",
       " 'brazil_protected_areas',\n",
       " 'population_density',\n",
       " 'brazil_surrounding_forest',\n",
       " 'brazil_pasture',\n",
       " 'urban_distance']"
      ]
     },
     "execution_count": 13,
     "metadata": {},
     "output_type": "execute_result"
    }
   ],
   "source": [
    "model_builder.feature_names"
   ]
  },
  {
   "cell_type": "code",
   "execution_count": 14,
   "id": "4f48569e-7498-4b38-bf0c-7d9ca7ff1111",
   "metadata": {},
   "outputs": [
    {
     "data": {
      "text/plain": [
       "['deforestation_risk_Acre']"
      ]
     },
     "execution_count": 14,
     "metadata": {},
     "output_type": "execute_result"
    }
   ],
   "source": [
    "model_builder.response_variable"
   ]
  },
  {
   "cell_type": "markdown",
   "id": "b4ed8c07-28d6-4b50-82a8-ad5ceb073e16",
   "metadata": {},
   "source": [
    "# Hyperparameters tuning"
   ]
  },
  {
   "cell_type": "markdown",
   "id": "67b6f1f1-9533-4540-8af9-1b4b5c01b507",
   "metadata": {},
   "source": [
    "Finding best hyperparameters with GridSearch: Takes a very long time!"
   ]
  },
  {
   "cell_type": "code",
   "execution_count": 15,
   "id": "95555975-0d13-4d91-8356-cffd4b242c7c",
   "metadata": {},
   "outputs": [
    {
     "name": "stdout",
     "output_type": "stream",
     "text": [
      "Fitting 5 folds for each of 15 candidates, totalling 75 fits\n",
      "{'criterion': 'squared_error', 'max_depth': 8, 'max_features': 'sqrt', 'n_estimators': 500}\n"
     ]
    }
   ],
   "source": [
    "# Uses val set \n",
    "best_params = model_builder.grid_search(n_estimators=[100, 200, 500], \n",
    "                                        max_features=['sqrt'], # , 'log2'\n",
    "                                        max_depth=[4,5,6,7,8], \n",
    "                                        criterion=['squared_error'],  # , 'absolute_error'\n",
    "                                        random_state=42)"
   ]
  },
  {
   "cell_type": "code",
   "execution_count": 16,
   "id": "8001fd9a-0ed8-4ef4-86b7-27300dc76946",
   "metadata": {},
   "outputs": [
    {
     "data": {
      "text/plain": [
       "{'criterion': 'squared_error',\n",
       " 'max_depth': 8,\n",
       " 'max_features': 'sqrt',\n",
       " 'n_estimators': 500}"
      ]
     },
     "execution_count": 16,
     "metadata": {},
     "output_type": "execute_result"
    }
   ],
   "source": [
    "best_params"
   ]
  },
  {
   "cell_type": "markdown",
   "id": "64038099-75a8-4d78-bdd4-d4b9fe5e7503",
   "metadata": {
    "tags": []
   },
   "source": [
    "# Training"
   ]
  },
  {
   "cell_type": "code",
   "execution_count": 17,
   "id": "4ab753a7-989a-4f80-81cf-6ba816217985",
   "metadata": {},
   "outputs": [],
   "source": [
    "model_builder.initialize_model(model_type='RandomForestRegressor', \n",
    "                                          nb_trees=500, \n",
    "                                          max_depth=8, \n",
    "                                          random_state=42, \n",
    "                                          max_features='sqrt', \n",
    "                                          n_cores=-1, \n",
    "                                          oob_score=True, \n",
    "                                          bootstrap=True, criterion='squared_error')"
   ]
  },
  {
   "cell_type": "code",
   "execution_count": 32,
   "id": "ab79fc50-17e8-4b83-878d-6684cb0511d1",
   "metadata": {},
   "outputs": [],
   "source": [
    "from sklearn.ensemble import RandomForestRegressor, RandomForestClassifier\n",
    "model_classificator = RandomForestClassifier(n_estimators=100, criterion='gini', max_depth=5, \n",
    "                                             min_samples_split=2, min_samples_leaf=1, \n",
    "                                             min_weight_fraction_leaf=0.0, max_features='sqrt', \n",
    "                                             max_leaf_nodes=None, min_impurity_decrease=0.0, \n",
    "                                             bootstrap=True, oob_score=True, \n",
    "                                             n_jobs=-1, \n",
    "                                             random_state=42, verbose=1, \n",
    "                                             warm_start=False, class_weight=None, ccp_alpha=0.0, max_samples=None)\n",
    "model_builder.initialize_model(model_type='custom', model=model_classificator)"
   ]
  },
  {
   "cell_type": "code",
   "execution_count": 33,
   "id": "937b3c4d-d7cf-4acf-a4a1-4d2d3373d162",
   "metadata": {},
   "outputs": [
    {
     "data": {
      "text/html": [
       "<style>#sk-container-id-3 {color: black;background-color: white;}#sk-container-id-3 pre{padding: 0;}#sk-container-id-3 div.sk-toggleable {background-color: white;}#sk-container-id-3 label.sk-toggleable__label {cursor: pointer;display: block;width: 100%;margin-bottom: 0;padding: 0.3em;box-sizing: border-box;text-align: center;}#sk-container-id-3 label.sk-toggleable__label-arrow:before {content: \"▸\";float: left;margin-right: 0.25em;color: #696969;}#sk-container-id-3 label.sk-toggleable__label-arrow:hover:before {color: black;}#sk-container-id-3 div.sk-estimator:hover label.sk-toggleable__label-arrow:before {color: black;}#sk-container-id-3 div.sk-toggleable__content {max-height: 0;max-width: 0;overflow: hidden;text-align: left;background-color: #f0f8ff;}#sk-container-id-3 div.sk-toggleable__content pre {margin: 0.2em;color: black;border-radius: 0.25em;background-color: #f0f8ff;}#sk-container-id-3 input.sk-toggleable__control:checked~div.sk-toggleable__content {max-height: 200px;max-width: 100%;overflow: auto;}#sk-container-id-3 input.sk-toggleable__control:checked~label.sk-toggleable__label-arrow:before {content: \"▾\";}#sk-container-id-3 div.sk-estimator input.sk-toggleable__control:checked~label.sk-toggleable__label {background-color: #d4ebff;}#sk-container-id-3 div.sk-label input.sk-toggleable__control:checked~label.sk-toggleable__label {background-color: #d4ebff;}#sk-container-id-3 input.sk-hidden--visually {border: 0;clip: rect(1px 1px 1px 1px);clip: rect(1px, 1px, 1px, 1px);height: 1px;margin: -1px;overflow: hidden;padding: 0;position: absolute;width: 1px;}#sk-container-id-3 div.sk-estimator {font-family: monospace;background-color: #f0f8ff;border: 1px dotted black;border-radius: 0.25em;box-sizing: border-box;margin-bottom: 0.5em;}#sk-container-id-3 div.sk-estimator:hover {background-color: #d4ebff;}#sk-container-id-3 div.sk-parallel-item::after {content: \"\";width: 100%;border-bottom: 1px solid gray;flex-grow: 1;}#sk-container-id-3 div.sk-label:hover label.sk-toggleable__label {background-color: #d4ebff;}#sk-container-id-3 div.sk-serial::before {content: \"\";position: absolute;border-left: 1px solid gray;box-sizing: border-box;top: 0;bottom: 0;left: 50%;z-index: 0;}#sk-container-id-3 div.sk-serial {display: flex;flex-direction: column;align-items: center;background-color: white;padding-right: 0.2em;padding-left: 0.2em;position: relative;}#sk-container-id-3 div.sk-item {position: relative;z-index: 1;}#sk-container-id-3 div.sk-parallel {display: flex;align-items: stretch;justify-content: center;background-color: white;position: relative;}#sk-container-id-3 div.sk-item::before, #sk-container-id-3 div.sk-parallel-item::before {content: \"\";position: absolute;border-left: 1px solid gray;box-sizing: border-box;top: 0;bottom: 0;left: 50%;z-index: -1;}#sk-container-id-3 div.sk-parallel-item {display: flex;flex-direction: column;z-index: 1;position: relative;background-color: white;}#sk-container-id-3 div.sk-parallel-item:first-child::after {align-self: flex-end;width: 50%;}#sk-container-id-3 div.sk-parallel-item:last-child::after {align-self: flex-start;width: 50%;}#sk-container-id-3 div.sk-parallel-item:only-child::after {width: 0;}#sk-container-id-3 div.sk-dashed-wrapped {border: 1px dashed gray;margin: 0 0.4em 0.5em 0.4em;box-sizing: border-box;padding-bottom: 0.4em;background-color: white;}#sk-container-id-3 div.sk-label label {font-family: monospace;font-weight: bold;display: inline-block;line-height: 1.2em;}#sk-container-id-3 div.sk-label-container {text-align: center;}#sk-container-id-3 div.sk-container {/* jupyter's `normalize.less` sets `[hidden] { display: none; }` but bootstrap.min.css set `[hidden] { display: none !important; }` so we also need the `!important` here to be able to override the default hidden behavior on the sphinx rendered scikit-learn.org. See: https://github.com/scikit-learn/scikit-learn/issues/21755 */display: inline-block !important;position: relative;}#sk-container-id-3 div.sk-text-repr-fallback {display: none;}</style><div id=\"sk-container-id-3\" class=\"sk-top-container\"><div class=\"sk-text-repr-fallback\"><pre>RandomForestClassifier(max_depth=5, n_jobs=-1, oob_score=True, random_state=42,\n",
       "                       verbose=1)</pre><b>In a Jupyter environment, please rerun this cell to show the HTML representation or trust the notebook. <br />On GitHub, the HTML representation is unable to render, please try loading this page with nbviewer.org.</b></div><div class=\"sk-container\" hidden><div class=\"sk-item\"><div class=\"sk-estimator sk-toggleable\"><input class=\"sk-toggleable__control sk-hidden--visually\" id=\"sk-estimator-id-3\" type=\"checkbox\" checked><label for=\"sk-estimator-id-3\" class=\"sk-toggleable__label sk-toggleable__label-arrow\">RandomForestClassifier</label><div class=\"sk-toggleable__content\"><pre>RandomForestClassifier(max_depth=5, n_jobs=-1, oob_score=True, random_state=42,\n",
       "                       verbose=1)</pre></div></div></div></div></div>"
      ],
      "text/plain": [
       "RandomForestClassifier(max_depth=5, n_jobs=-1, oob_score=True, random_state=42,\n",
       "                       verbose=1)"
      ]
     },
     "execution_count": 33,
     "metadata": {},
     "output_type": "execute_result"
    }
   ],
   "source": [
    "model_builder.model"
   ]
  },
  {
   "cell_type": "code",
   "execution_count": 34,
   "id": "d8cff219-54ec-440d-a8db-aa30c9994664",
   "metadata": {},
   "outputs": [
    {
     "name": "stderr",
     "output_type": "stream",
     "text": [
      "/Users/margauxmforstyhe/Desktop/workspace/Earthshot Labs/workspace/Science/model_utilities/model_utilities/tests/../model_builder.py:287: DataConversionWarning: A column-vector y was passed when a 1d array was expected. Please change the shape of y to (n_samples,), for example using ravel().\n",
      "  self.model = self.model.fit(self.X_train, self.y_train.values)\n",
      "[Parallel(n_jobs=-1)]: Using backend ThreadingBackend with 12 concurrent workers.\n",
      "[Parallel(n_jobs=-1)]: Done  26 tasks      | elapsed:    1.6s\n",
      "[Parallel(n_jobs=-1)]: Done 100 out of 100 | elapsed:    4.9s finished\n"
     ]
    }
   ],
   "source": [
    "model_builder.train()"
   ]
  },
  {
   "cell_type": "markdown",
   "id": "f6a926e4-ab00-4d47-92ff-199fa980598b",
   "metadata": {
    "tags": []
   },
   "source": [
    "# Evaluation"
   ]
  },
  {
   "cell_type": "code",
   "execution_count": 21,
   "id": "1088713b-10fc-4359-a59c-0427c57346dd",
   "metadata": {
    "scrolled": true,
    "tags": []
   },
   "outputs": [],
   "source": [
    "# # On validation set\n",
    "# y_pred_val, mae_val, mse_val, rmse_val, oob_score_val, r2_val, feature_imp_val = model_builder.evaluate(X_test=model_builder.X_val,\n",
    "#                                                                     y_test=model_builder.y_val,\n",
    "#                                                                     save_figures=False, saving_base_output_name='testing_val_set')"
   ]
  },
  {
   "cell_type": "code",
   "execution_count": 22,
   "id": "105bb2d2-8b69-450a-85a4-e9c1f9ca66be",
   "metadata": {
    "tags": []
   },
   "outputs": [
    {
     "name": "stdout",
     "output_type": "stream",
     "text": [
      "\n",
      "Evaluation...\n"
     ]
    },
    {
     "name": "stderr",
     "output_type": "stream",
     "text": [
      "[Parallel(n_jobs=12)]: Using backend ThreadingBackend with 12 concurrent workers.\n",
      "[Parallel(n_jobs=12)]: Done  26 tasks      | elapsed:    0.0s\n",
      "[Parallel(n_jobs=12)]: Done 176 tasks      | elapsed:    0.1s\n",
      "[Parallel(n_jobs=12)]: Done 426 tasks      | elapsed:    0.2s\n",
      "[Parallel(n_jobs=12)]: Done 500 out of 500 | elapsed:    0.2s finished\n"
     ]
    },
    {
     "name": "stdout",
     "output_type": "stream",
     "text": [
      "\n",
      "\n",
      "\n",
      "Mean Absolute Error (MAE): 0.1773369526428214\n",
      "Mean Squared Error (MSE): 0.08638023153713131\n",
      "Root Mean Squared Error (RMSE): 0.29390514037207877\n",
      "R2: 0.27826073876730073\n",
      "OOB prediction of accuracy is: 28.811775824137865%\n",
      "\n"
     ]
    },
    {
     "data": {
      "image/png": "[encoded data removed]",
      "text/plain": [
       "<Figure size 500x500 with 1 Axes>"
      ]
     },
     "metadata": {},
     "output_type": "display_data"
    },
    {
     "data": {
      "image/png": "[encoded data removed]",
      "text/plain": [
       "<Figure size 500x500 with 1 Axes>"
      ]
     },
     "metadata": {},
     "output_type": "display_data"
    }
   ],
   "source": [
    "# On test set\n",
    "y_pred_test, mae_test, mse_test, rmse_test, oob_score_test, r2_test, feature_imp_test = model_builder.evaluate(X_test=model_builder.X_test,\n",
    "                                                                    y_test=model_builder.y_test,\n",
    "                                                                    save_figures=False, saving_base_output_name='testing_test_set')"
   ]
  },
  {
   "cell_type": "code",
   "execution_count": 23,
   "id": "b2c1d6fe-05f3-404f-b293-91a93220f3a3",
   "metadata": {},
   "outputs": [
    {
     "data": {
      "text/plain": [
       "0.8293197833937663"
      ]
     },
     "execution_count": 23,
     "metadata": {},
     "output_type": "execute_result"
    }
   ],
   "source": [
    "import numpy as np\n",
    "np.max(y_pred_test)"
   ]
  },
  {
   "cell_type": "code",
   "execution_count": 35,
   "id": "0e9d6933-0aea-418d-a370-3eeaa6820b6e",
   "metadata": {},
   "outputs": [
    {
     "name": "stderr",
     "output_type": "stream",
     "text": [
      "[Parallel(n_jobs=12)]: Using backend ThreadingBackend with 12 concurrent workers.\n",
      "[Parallel(n_jobs=12)]: Done  26 tasks      | elapsed:    0.0s\n",
      "[Parallel(n_jobs=12)]: Done 100 out of 100 | elapsed:    0.1s finished\n"
     ]
    },
    {
     "data": {
      "text/plain": [
       "array([[0.95525412, 0.04474588],\n",
       "       [0.9430534 , 0.0569466 ],\n",
       "       [0.99066975, 0.00933025],\n",
       "       ...,\n",
       "       [0.96693066, 0.03306934],\n",
       "       [0.96933481, 0.03066519],\n",
       "       [0.97011078, 0.02988922]])"
      ]
     },
     "execution_count": 35,
     "metadata": {},
     "output_type": "execute_result"
    }
   ],
   "source": [
    "y_pred_test_prob = model_builder.model.predict_proba(model_builder.X_test)\n",
    "y_pred_test_prob"
   ]
  },
  {
   "cell_type": "code",
   "execution_count": 38,
   "id": "ddc6d86d-f70d-4b95-ac44-40d1c308386a",
   "metadata": {},
   "outputs": [
    {
     "data": {
      "text/plain": [
       "(59465, 2)"
      ]
     },
     "execution_count": 38,
     "metadata": {},
     "output_type": "execute_result"
    }
   ],
   "source": [
    "y_pred_test_prob.shape"
   ]
  },
  {
   "cell_type": "code",
   "execution_count": 36,
   "id": "3b70b6c2-5b8f-44b0-a95b-fb3a3adbcd1f",
   "metadata": {},
   "outputs": [
    {
     "data": {
      "text/plain": [
       "array([0.04474588, 0.0569466 , 0.00933025, ..., 0.03306934, 0.03066519,\n",
       "       0.02988922])"
      ]
     },
     "execution_count": 36,
     "metadata": {},
     "output_type": "execute_result"
    }
   ],
   "source": [
    "import numpy as np\n",
    "y_pred_test_max = []\n",
    "for value in y_pred_test_prob:\n",
    "    y_pred_test_max.append(value[1])\n",
    "y_pred_test_max = np.array(y_pred_test_max)\n",
    "y_pred_test_max"
   ]
  },
  {
   "cell_type": "code",
   "execution_count": 37,
   "id": "ff5e148c-cf21-495a-9dd7-4ee1876fca4f",
   "metadata": {},
   "outputs": [
    {
     "data": {
      "text/plain": [
       "Text(0, 0.5, 'Predicted')"
      ]
     },
     "execution_count": 37,
     "metadata": {},
     "output_type": "execute_result"
    },
    {
     "data": {
      "image/png": "[encoded data removed]",
      "text/plain": [
       "<Figure size 500x500 with 1 Axes>"
      ]
     },
     "metadata": {},
     "output_type": "display_data"
    }
   ],
   "source": [
    "plt.figure(figsize=(5,5))\n",
    "plt.plot(list(range(0, int(model_builder.y_test.max()))), ls='dashed', alpha=0.3)\n",
    "plt.scatter(model_builder.y_test, y_pred_test_max, color='black')\n",
    "plt.title(\"Scatter plot test vs predicted values\")\n",
    "plt.xlabel('Test')\n",
    "plt.ylabel('Predicted')"
   ]
  },
  {
   "cell_type": "code",
   "execution_count": 27,
   "id": "1878799f-760b-48e5-8e24-d650cfedb398",
   "metadata": {},
   "outputs": [],
   "source": [
    "# predictor = 'population_density'\n",
    "# plt.scatter(model_builder.X_test[predictor].values, model_builder.y_test, color = 'green')\n",
    "# plt.scatter(model_builder.X_test[predictor].values, y_pred_test, color = 'blue')\n",
    "# plt.title('Random Forest Regression')\n",
    "# plt.xlabel(predictor)\n",
    "# plt.ylabel('Deforestation risk')\n",
    "# plt.show()"
   ]
  },
  {
   "cell_type": "markdown",
   "id": "3dffac4a-7fe1-45b4-85b0-c150db62b66f",
   "metadata": {
    "tags": []
   },
   "source": [
    "# Inference on tiles"
   ]
  },
  {
   "cell_type": "code",
   "execution_count": 28,
   "id": "a05e4fa1-0e95-42d4-b722-28e694aafe94",
   "metadata": {
    "scrolled": true,
    "tags": []
   },
   "outputs": [
    {
     "name": "stdout",
     "output_type": "stream",
     "text": [
      "There are 31 inference tiles\n",
      "\n",
      "Starting image: /Users/margauxmforstyhe/Desktop/deforestation_risk/Brazil_Acre_Deforestation_Risk_inference_100km2_grid_scale30/inference_tiles_scale30_8.tif\n",
      "Image opened\n",
      "tile shape: (3291, 3334, 6)\n",
      "Reshaped from (3291, 3334, 6) to (10972194, 6)\n",
      "(10972194, 6)\n"
     ]
    },
    {
     "name": "stderr",
     "output_type": "stream",
     "text": [
      "/usr/local/lib/python3.10/site-packages/sklearn/base.py:450: UserWarning: X does not have valid feature names, but RandomForestRegressor was fitted with feature names\n",
      "  warnings.warn(\n",
      "[Parallel(n_jobs=12)]: Using backend ThreadingBackend with 12 concurrent workers.\n",
      "[Parallel(n_jobs=12)]: Done  26 tasks      | elapsed:    3.3s\n",
      "[Parallel(n_jobs=12)]: Done 176 tasks      | elapsed:   12.3s\n",
      "[Parallel(n_jobs=12)]: Done 426 tasks      | elapsed:   28.3s\n",
      "[Parallel(n_jobs=12)]: Done 500 out of 500 | elapsed:   32.6s finished\n"
     ]
    },
    {
     "name": "stdout",
     "output_type": "stream",
     "text": [
      "Class prediction was successful without slicing!\n",
      "No slicing was necessary!\n",
      "Reshaped back to (3291, 3334)\n"
     ]
    },
    {
     "ename": "ValueError",
     "evalue": "'elevation' is not in list",
     "output_type": "error",
     "traceback": [
      "\u001b[0;31m---------------------------------------------------------------------------\u001b[0m",
      "\u001b[0;31mValueError\u001b[0m                                Traceback (most recent call last)",
      "Cell \u001b[0;32mIn [28], line 1\u001b[0m\n\u001b[0;32m----> 1\u001b[0m \u001b[43mmodel_builder\u001b[49m\u001b[38;5;241;43m.\u001b[39;49m\u001b[43minference\u001b[49m\u001b[43m(\u001b[49m\u001b[43mmask_band\u001b[49m\u001b[38;5;241;43m=\u001b[39;49m\u001b[38;5;124;43m'\u001b[39;49m\u001b[38;5;124;43melevation\u001b[39;49m\u001b[38;5;124;43m'\u001b[39;49m\u001b[43m,\u001b[49m\u001b[43m \u001b[49m\n\u001b[1;32m      2\u001b[0m \u001b[43m                        \u001b[49m\u001b[43mtiles_folder_name\u001b[49m\u001b[38;5;241;43m=\u001b[39;49m\u001b[38;5;124;43m'\u001b[39;49m\u001b[38;5;124;43mBrazil_Acre_Deforestation_Risk_inference_100km2_grid_scale30\u001b[39;49m\u001b[38;5;124;43m'\u001b[39;49m\u001b[43m,\u001b[49m\u001b[43m \u001b[49m\n\u001b[1;32m      3\u001b[0m \u001b[43m                        \u001b[49m\u001b[43mtiles_in_GCP\u001b[49m\u001b[38;5;241;43m=\u001b[39;49m\u001b[38;5;28;43;01mFalse\u001b[39;49;00m\u001b[43m,\u001b[49m\u001b[43m   \u001b[49m\u001b[38;5;66;43;03m# Running locally\u001b[39;49;00m\n\u001b[1;32m      4\u001b[0m \u001b[43m                        \u001b[49m\u001b[43mRF_output_folder_temp\u001b[49m\u001b[38;5;241;43m=\u001b[39;49m\u001b[38;5;124;43m'\u001b[39;49m\u001b[38;5;124;43mTEST_RF_outputs_temp_Acre2_maxdepth8_500trees_6predictors\u001b[39;49m\u001b[38;5;124;43m'\u001b[39;49m\u001b[43m,\u001b[49m\n\u001b[1;32m      5\u001b[0m \u001b[43m                        \u001b[49m\u001b[43mpath_to_tiles_local\u001b[49m\u001b[38;5;241;43m=\u001b[39;49m\u001b[38;5;124;43m'\u001b[39;49m\u001b[38;5;124;43m/Users/margauxmforstyhe/Desktop/deforestation_risk/Brazil_Acre_Deforestation_Risk_inference_100km2_grid_scale30\u001b[39;49m\u001b[38;5;124;43m'\u001b[39;49m\n\u001b[1;32m      6\u001b[0m \u001b[43m                       \u001b[49m\u001b[43m)\u001b[49m\n",
      "File \u001b[0;32m~/Desktop/workspace/Earthshot Labs/workspace/Science/model_utilities/model_utilities/tests/../model_builder.py:417\u001b[0m, in \u001b[0;36mModelBuilder.inference\u001b[0;34m(self, mask_band, tiles_folder_name, tiles_in_GCP, RF_output_folder_temp, path_to_tiles_local)\u001b[0m\n\u001b[1;32m    414\u001b[0m class_prediction \u001b[38;5;241m=\u001b[39m \u001b[38;5;28mself\u001b[39m\u001b[38;5;241m.\u001b[39mrun_inference_on_tile(tile\u001b[38;5;241m=\u001b[39mtile, tile_as_array\u001b[38;5;241m=\u001b[39mtile_as_array)\n\u001b[1;32m    416\u001b[0m \u001b[38;5;66;03m# Generate mask from first band of our predictors\u001b[39;00m\n\u001b[0;32m--> 417\u001b[0m mask \u001b[38;5;241m=\u001b[39m np\u001b[38;5;241m.\u001b[39mcopy(tile[:, :, \u001b[38;5;28;43mself\u001b[39;49m\u001b[38;5;241;43m.\u001b[39;49m\u001b[43mfeature_names\u001b[49m\u001b[38;5;241;43m.\u001b[39;49m\u001b[43mindex\u001b[49m\u001b[43m(\u001b[49m\u001b[43mmask_band\u001b[49m\u001b[43m)\u001b[49m])\u001b[38;5;241m.\u001b[39mastype(\n\u001b[1;32m    418\u001b[0m     np\u001b[38;5;241m.\u001b[39muint8)  \u001b[38;5;66;03m# using the mask_branch layer here to have positive values\u001b[39;00m\n\u001b[1;32m    419\u001b[0m \u001b[38;5;28mprint\u001b[39m(np\u001b[38;5;241m.\u001b[39munique(mask))\n\u001b[1;32m    420\u001b[0m mask[mask \u001b[38;5;241m>\u001b[39m \u001b[38;5;241m0\u001b[39m] \u001b[38;5;241m=\u001b[39m \u001b[38;5;241m1\u001b[39m  \u001b[38;5;66;03m# all actual pixels have a value of 1.0\u001b[39;00m\n",
      "\u001b[0;31mValueError\u001b[0m: 'elevation' is not in list"
     ]
    }
   ],
   "source": [
    "model_builder.inference(mask_band='elevation', \n",
    "                        tiles_folder_name='Brazil_Acre_Deforestation_Risk_inference_100km2_grid_scale30', \n",
    "                        tiles_in_GCP=False,   # Running locally\n",
    "                        RF_output_folder_temp='TEST_RF_outputs_temp_Acre2_maxdepth8_500trees_6predictors',\n",
    "                        path_to_tiles_local='/Users/margauxmforstyhe/Desktop/deforestation_risk/Brazil_Acre_Deforestation_Risk_inference_100km2_grid_scale30'\n",
    "                       )\n"
   ]
  },
  {
   "cell_type": "code",
   "execution_count": null,
   "id": "1fb86b73-9cee-4286-a41c-436b3fa0c2e1",
   "metadata": {},
   "outputs": [],
   "source": []
  }
 ],
 "metadata": {
  "kernelspec": {
   "display_name": "Python 3 (ipykernel)",
   "language": "python",
   "name": "python3"
  },
  "language_info": {
   "codemirror_mode": {
    "name": "ipython",
    "version": 3
   },
   "file_extension": ".py",
   "mimetype": "text/x-python",
   "name": "python",
   "nbconvert_exporter": "python",
   "pygments_lexer": "ipython3",
   "version": "3.10.6"
  }
 },
 "nbformat": 4,
 "nbformat_minor": 5
}
