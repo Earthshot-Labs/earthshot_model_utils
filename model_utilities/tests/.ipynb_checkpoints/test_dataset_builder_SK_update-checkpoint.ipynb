{
 "cells": [
  {
   "cell_type": "markdown",
   "id": "30f32b53-f39f-49b6-a346-99d32cfa2099",
   "metadata": {},
   "source": [
    "# Imports"
   ]
  },
  {
   "cell_type": "code",
   "execution_count": 1,
   "id": "0cd064ee-9fe1-4f9d-a077-ea7bdbc2e2b5",
   "metadata": {},
   "outputs": [],
   "source": [
    "import sys\n",
    " \n",
    "# setting path\n",
    "sys.path.append('..')"
   ]
  },
  {
   "cell_type": "code",
   "execution_count": 2,
   "id": "57711a08-2571-4b49-b2ab-b181fc3e5ef8",
   "metadata": {},
   "outputs": [],
   "source": [
    "from dataset_builder import EEImageBuilder\n",
    "import geemap\n",
    "import ee"
   ]
  },
  {
   "cell_type": "markdown",
   "id": "604432d3-6392-4753-8604-a1e07c2c247a",
   "metadata": {},
   "source": [
    "# Map"
   ]
  },
  {
   "cell_type": "code",
   "execution_count": 3,
   "id": "f4e0bd4f-3c0d-4fb2-b0da-9fdf93f9f5b1",
   "metadata": {},
   "outputs": [
    {
     "data": {
      "application/vnd.jupyter.widget-view+json": {
       "model_id": "686bcb2049ff4e08affc75b1c28b615e",
       "version_major": 2,
       "version_minor": 0
      },
      "text/plain": [
       "Map(center=[-11.8673, -76.9544], controls=(WidgetControl(options=['position', 'transparent_bg'], widget=HBox(c…"
      ]
     },
     "metadata": {},
     "output_type": "display_data"
    }
   ],
   "source": [
    "Map = geemap.Map(center=[-11.8673, -76.9544], zoom=2.5)\n",
    "Map"
   ]
  },
  {
   "cell_type": "code",
   "execution_count": 4,
   "id": "183ff5d3-feca-4892-a630-db980f2e4297",
   "metadata": {},
   "outputs": [],
   "source": [
    "# globe = ee.FeatureCollection('projects/ee-margauxmasson21-shapefiles/assets/world_rectangle')\n",
    "# Map.addLayer(globe.geometry())"
   ]
  },
  {
   "cell_type": "markdown",
   "id": "d6a21a9c-4c95-4706-bff1-f0aca9eef8b9",
   "metadata": {},
   "source": [
    "# Dataset builder"
   ]
  },
  {
   "cell_type": "code",
   "execution_count": 5,
   "id": "bc8bc1e8",
   "metadata": {},
   "outputs": [],
   "source": [
    "ee_image_builder = EEImageBuilder()"
   ]
  },
  {
   "cell_type": "markdown",
   "id": "70dfc837",
   "metadata": {},
   "source": [
    "Make the biomass band with some filters"
   ]
  },
  {
   "cell_type": "code",
   "execution_count": 6,
   "id": "612dd802",
   "metadata": {},
   "outputs": [],
   "source": [
    "ee_image_builder.filtered_biomass_layer_from_raster(\n",
    "    biomass_raster='Spawn_AGB_tCO2e',\n",
    "    filter_dict={'forest_non_forest': {'date_range':['2009-01-01', '2010-12-31']},\n",
    "                 'min_forest_age': {'age':40}}\n",
    ")"
   ]
  },
  {
   "cell_type": "markdown",
   "id": "5fcb9cca",
   "metadata": {},
   "source": [
    "Make covariates bands"
   ]
  },
  {
   "cell_type": "code",
   "execution_count": 7,
   "id": "88663bb8",
   "metadata": {},
   "outputs": [],
   "source": [
    "ee_image_builder.spatial_covariates(covariates=['ecoregion', 'terrain'])"
   ]
  },
  {
   "cell_type": "markdown",
   "id": "a08d503d",
   "metadata": {},
   "source": [
    "List band names of image"
   ]
  },
  {
   "cell_type": "code",
   "execution_count": 8,
   "id": "49ce3efe",
   "metadata": {},
   "outputs": [
    {
     "data": {
      "text/plain": [
       "['Spawn_AGB_tCO2e', 'BIOME_NUM', 'elevation', 'aspect', 'slope', 'hillshade']"
      ]
     },
     "execution_count": 8,
     "metadata": {},
     "output_type": "execute_result"
    }
   ],
   "source": [
    "ee_image_builder.image.bandNames().getInfo()"
   ]
  },
  {
   "cell_type": "markdown",
   "id": "894b4b27",
   "metadata": {},
   "source": [
    "So the image has the added bands; it basically seems to work.\n",
    "\n",
    "TODO:\n",
    "\n",
    "Next check that the masking was retained on the image from building the biomass layer - count the pixels in a known geometry like LatAm or Africa.\n",
    "\n",
    "Make a plot and confirm results of mask match what is expected.\n",
    "\n"
   ]
  },
  {
   "cell_type": "markdown",
   "id": "31ed8522-d01f-4bd6-8384-7d0e18b30b3f",
   "metadata": {},
   "source": [
    "### Visualize in map (not yet run)"
   ]
  },
  {
   "cell_type": "code",
   "execution_count": 60,
   "id": "33887244-491a-44df-9d75-1b1bfa643d1c",
   "metadata": {},
   "outputs": [],
   "source": [
    "biomass_vis_param = { \n",
    "  'min': 0.0,\n",
    "  'max': 600.0,\n",
    "  'palette': ['d9f0a3', 'addd8e', '78c679', '41ab5d', '238443', '005a32']}\n",
    "\n",
    "Map.addLayer(mature_forest_biomass_layer, biomass_vis_param, 'Mature Forest Biomass', True)"
   ]
  },
  {
   "cell_type": "code",
   "execution_count": 9,
   "id": "8ad250c3-69f9-4959-ad9e-caa258ac805c",
   "metadata": {},
   "outputs": [],
   "source": [
    "# asset_img = ee.Image('projects/ee-mmf-mature-forest-biomass/assets/mature_forest_2010_AGB_tco2_scale_100')\n",
    "# Map.addLayer(asset_img, biomass_vis_param, 'Asset Mature Forest Biomass', True)"
   ]
  }
 ],
 "metadata": {
  "kernelspec": {
   "display_name": "Python 3 (ipykernel)",
   "language": "python",
   "name": "python3"
  },
  "language_info": {
   "codemirror_mode": {
    "name": "ipython",
    "version": 3
   },
   "file_extension": ".py",
   "mimetype": "text/x-python",
   "name": "python",
   "nbconvert_exporter": "python",
   "pygments_lexer": "ipython3",
   "version": "3.9.13"
  }
 },
 "nbformat": 4,
 "nbformat_minor": 5
}
