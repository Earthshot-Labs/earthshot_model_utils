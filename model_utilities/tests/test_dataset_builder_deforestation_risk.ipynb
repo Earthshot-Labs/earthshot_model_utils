{
 "cells": [
  {
   "cell_type": "markdown",
   "id": "30f32b53-f39f-49b6-a346-99d32cfa2099",
   "metadata": {},
   "source": [
    "# Imports"
   ]
  },
  {
   "cell_type": "code",
   "execution_count": 1,
   "id": "0cd064ee-9fe1-4f9d-a077-ea7bdbc2e2b5",
   "metadata": {},
   "outputs": [],
   "source": [
    "import sys\n",
    " \n",
    "# setting path\n",
    "sys.path.append('..')"
   ]
  },
  {
   "cell_type": "code",
   "execution_count": 2,
   "id": "57711a08-2571-4b49-b2ab-b181fc3e5ef8",
   "metadata": {},
   "outputs": [],
   "source": [
    "from dataset_builder import EEDatasetBuilder\n",
    "import geemap\n",
    "import ee"
   ]
  },
  {
   "cell_type": "markdown",
   "id": "604432d3-6392-4753-8604-a1e07c2c247a",
   "metadata": {},
   "source": [
    "# Map"
   ]
  },
  {
   "cell_type": "code",
   "execution_count": 3,
   "id": "f4e0bd4f-3c0d-4fb2-b0da-9fdf93f9f5b1",
   "metadata": {},
   "outputs": [
    {
     "data": {
      "application/vnd.jupyter.widget-view+json": {
       "model_id": "048e1fb8ba6e4fd5b5b1f9309f87e7e8",
       "version_major": 2,
       "version_minor": 0
      },
      "text/plain": [
       "Map(center=[-11.8673, -76.9544], controls=(WidgetControl(options=['position', 'transparent_bg'], widget=HBox(c…"
      ]
     },
     "execution_count": 3,
     "metadata": {},
     "output_type": "execute_result"
    }
   ],
   "source": [
    "Map = geemap.Map(center=[-11.8673, -76.9544], zoom=2.5)\n",
    "Map"
   ]
  },
  {
   "cell_type": "markdown",
   "id": "d6a21a9c-4c95-4706-bff1-f0aca9eef8b9",
   "metadata": {},
   "source": [
    "# Dataset builder"
   ]
  },
  {
   "cell_type": "code",
   "execution_count": 5,
   "id": "bc8bc1e8",
   "metadata": {},
   "outputs": [],
   "source": [
    "ee_dataset_builder = EEDatasetBuilder()"
   ]
  },
  {
   "cell_type": "markdown",
   "id": "70dfc837",
   "metadata": {},
   "source": [
    "Make the biomass band with some filters"
   ]
  },
  {
   "cell_type": "code",
   "execution_count": 6,
   "id": "612dd802",
   "metadata": {},
   "outputs": [],
   "source": [
    "ee_dataset_builder.filtered_biomass_layer_from_raster(\n",
    "    biomass_raster='Spawn_AGB_tCO2e',\n",
    "    filter_dict={\n",
    "                # 'forest_non_forest': {'date_range':['2010-01-01', '2010-12-31']},\n",
    "                 # 'min_forest_age': {'age':40},\n",
    "                # 'very_low_density_rural': {'year': 2010},\n",
    "                # 'forest_loss': {'year': 2010, 'distance': 5000},\n",
    "                # 'forest_gain' : {'distance': 5000},\n",
    "                # 'roads': {'distance': 5000},\n",
    "                # 'fire': {'year': 2010}\n",
    "    }\n",
    ")"
   ]
  },
  {
   "cell_type": "markdown",
   "id": "5fcb9cca",
   "metadata": {},
   "source": [
    "Make covariates bands"
   ]
  },
  {
   "cell_type": "code",
   "execution_count": 7,
   "id": "88663bb8",
   "metadata": {},
   "outputs": [],
   "source": [
    "ee_dataset_builder.spatial_covariates(covariates=['brazil_roads', 'terrain', 'brazil_protected_areas', 'population_density',\n",
    "                                                 'forest_age', 'urbanization', 'brazil_surrounding_forest', 'brazil_pasture',\n",
    "                                                 'brazil_agriculture']) # TODO: 'rivers' + 'urban_distance'"
   ]
  },
  {
   "cell_type": "markdown",
   "id": "a08d503d",
   "metadata": {},
   "source": [
    "List band names of image"
   ]
  },
  {
   "cell_type": "code",
   "execution_count": 8,
   "id": "49ce3efe",
   "metadata": {},
   "outputs": [
    {
     "data": {
      "text/plain": [
       "['Spawn_AGB_tCO2e',\n",
       " 'brazil_roads',\n",
       " 'elevation',\n",
       " 'aspect',\n",
       " 'slope',\n",
       " 'hillshade',\n",
       " 'brazil_protected_areas',\n",
       " 'population_density',\n",
       " 'forest_age',\n",
       " 'urbanization',\n",
       " 'brazil_surrounding_forest',\n",
       " 'brazil_pasture',\n",
       " 'brazil_agriculture']"
      ]
     },
     "execution_count": 8,
     "metadata": {},
     "output_type": "execute_result"
    }
   ],
   "source": [
    "ee_dataset_builder.image.bandNames().getInfo()"
   ]
  },
  {
   "cell_type": "code",
   "execution_count": 9,
   "id": "04f590d6-4c65-4378-838b-578632b02ad5",
   "metadata": {},
   "outputs": [
    {
     "data": {
      "text/plain": [
       "<ee.image.Image at 0x11bc1b7f0>"
      ]
     },
     "execution_count": 9,
     "metadata": {},
     "output_type": "execute_result"
    }
   ],
   "source": [
    "ee_dataset_builder.image"
   ]
  },
  {
   "cell_type": "markdown",
   "id": "894b4b27",
   "metadata": {},
   "source": [
    "So the image has the added bands; it basically seems to work.\n",
    "\n",
    "Use the below code to make a plot and confirm results of mask match what is expected for both biomass and the features."
   ]
  },
  {
   "cell_type": "markdown",
   "id": "31ed8522-d01f-4bd6-8384-7d0e18b30b3f",
   "metadata": {},
   "source": [
    "### Visualize in map"
   ]
  },
  {
   "cell_type": "code",
   "execution_count": 10,
   "id": "33887244-491a-44df-9d75-1b1bfa643d1c",
   "metadata": {},
   "outputs": [],
   "source": [
    "biomass_vis_param = { \n",
    "  'min': 0.0,\n",
    "  'max': 600.0,\n",
    "  'palette': ['d9f0a3', 'addd8e', '78c679', '41ab5d', '238443', '005a32']}\n",
    "\n",
    "Map.addLayer(ee_dataset_builder.image.select('Spawn_AGB_tCO2e'), biomass_vis_param, 'Spawn Mature Forest Biomass', True)"
   ]
  },
  {
   "cell_type": "code",
   "execution_count": 11,
   "id": "590e8d4b-e8b1-46dd-ac90-aabfbe889709",
   "metadata": {},
   "outputs": [],
   "source": [
    "roads_vis_param = { \n",
    "  'min': 0.0,\n",
    "  'max': 10000.0,\n",
    "  'palette':  [\n",
    "    'FFFFFF','FFD0FF','FFA2FF','FF73FF',\n",
    "    'FF64FF','FF36FF','FF07FF','FF946A',\n",
    "    'FFD42A','FFCE00','D2A000','4B9300',\n",
    "    '168E00','005000'\n",
    "  ]};\n",
    "\n",
    "Map.addLayer(ee_dataset_builder.image.select('brazil_roads'), roads_vis_param, 'Roads distance', True)\n",
    "# Map.addLayer(ee_dataset_builder.image.select('distance'), roads_vis_param, 'Rivers distance', True)"
   ]
  },
  {
   "cell_type": "code",
   "execution_count": 12,
   "id": "8291c227-ca0f-4d8c-92bd-167f04bec961",
   "metadata": {},
   "outputs": [],
   "source": [
    "protected_areas_vis_param = { \n",
    "  'min': 0.0,\n",
    "  'max': 200000.0,\n",
    "  'palette':  [\n",
    "    'FFFFFF','FFD0FF','FFA2FF','FF73FF',\n",
    "    'FF64FF','FF36FF','FF07FF','FF946A',\n",
    "    'FFD42A','FFCE00','D2A000','4B9300',\n",
    "    '168E00','005000'\n",
    "  ]};\n",
    "Map.addLayer(ee_dataset_builder.image.select('brazil_protected_areas'), protected_areas_vis_param, 'Distance to Protected Areas')"
   ]
  },
  {
   "cell_type": "code",
   "execution_count": 13,
   "id": "e420062f-1787-4033-9936-36f67bfc18eb",
   "metadata": {},
   "outputs": [],
   "source": [
    "population_density_vis_param = { \n",
    "  'min': 0.0,\n",
    "  'max': 500.0,\n",
    "  'palette':  [\n",
    "    'FFFFFF','FFD0FF','FFA2FF','FF73FF',\n",
    "    'FF64FF','FF36FF','FF07FF','FF946A',\n",
    "    'FFD42A','FFCE00','D2A000','4B9300',\n",
    "    '168E00','005000'\n",
    "  ]};\n",
    "Map.addLayer(ee_dataset_builder.image.select('population_density'), population_density_vis_param, 'Population Density')"
   ]
  },
  {
   "cell_type": "code",
   "execution_count": 14,
   "id": "adb84a94-6427-4be9-a39a-a945ace1341c",
   "metadata": {},
   "outputs": [],
   "source": [
    "forest_age_vis_param = { \n",
    "  'min': 0.0,\n",
    "  'max': 100.0,\n",
    "  'palette':  [\n",
    "    'red','orange','yellow','green'\n",
    "  ]};\n",
    "Map.addLayer(ee_dataset_builder.image.select('forest_age'), forest_age_vis_param, 'Forest age')"
   ]
  },
  {
   "cell_type": "code",
   "execution_count": 15,
   "id": "dd9b642e-ab32-4617-8c5d-afcf7d7becf8",
   "metadata": {},
   "outputs": [],
   "source": [
    "urbanization_vis_param = { \n",
    "  'min': 0.0,\n",
    "  'max': 7.0,\n",
    "  'palette':  [\n",
    "    'green','yellow','orange','red'\n",
    "  ]};\n",
    "Map.addLayer(ee_dataset_builder.image.select('urbanization'), urbanization_vis_param, 'Urbanization')"
   ]
  },
  {
   "cell_type": "code",
   "execution_count": 16,
   "id": "d7fbb8a5-2a7f-432e-9481-c448251a522c",
   "metadata": {},
   "outputs": [],
   "source": [
    "surrounding_forest_vis_param = { \n",
    "  'min': 0.0,\n",
    "  'max': 700.0,\n",
    "  'palette':  [\n",
    "    'green','yellow','orange','red'\n",
    "  ]};\n",
    "Map.addLayer(ee_dataset_builder.image.select('brazil_surrounding_forest'), surrounding_forest_vis_param, 'Surrounding Forest')"
   ]
  },
  {
   "cell_type": "code",
   "execution_count": 17,
   "id": "c885ffc9-d3ba-4e8f-8680-ae081054b327",
   "metadata": {},
   "outputs": [],
   "source": [
    "pasture_vis_param = { \n",
    "  'min': 0.0,\n",
    "  'max': 100.0,\n",
    "  'palette':  [\n",
    "    'red','orange','yellow','green'\n",
    "  ]};\n",
    "Map.addLayer(ee_dataset_builder.image.select('brazil_pasture'), pasture_vis_param, 'Surrounding Pasture')"
   ]
  },
  {
   "cell_type": "code",
   "execution_count": 18,
   "id": "8a2d0b80-d186-47f1-a021-274b66a4b097",
   "metadata": {},
   "outputs": [],
   "source": [
    "agriculture_vis_param = { \n",
    "  'min': 0.0,\n",
    "  'max': 100.0,\n",
    "  'palette':  [\n",
    "    'red','orange','yellow','green'\n",
    "  ],\n",
    "    'format': 'png'};\n",
    "Map.addLayer(ee_dataset_builder.image.select('brazil_agriculture'), agriculture_vis_param, 'Surrounding Agriculture')"
   ]
  },
  {
   "cell_type": "code",
   "execution_count": 19,
   "id": "b290c01f-d4d3-47fb-a611-bb73004d3b3e",
   "metadata": {},
   "outputs": [],
   "source": [
    "# urban_distance_vis_param = { \n",
    "#   'min': 0.0,\n",
    "#   'max': 100000.0,\n",
    "#   'palette':  [\n",
    "#     'FFFFFF','FFD0FF','FFA2FF','FF73FF',\n",
    "#     'FF64FF','FF36FF','FF07FF','FF946A',\n",
    "#     'FFD42A','FFCE00','D2A000','4B9300',\n",
    "#     '168E00','005000'\n",
    "#   ]};\n",
    "# Map.addLayer(ee_dataset_builder.image.select('urban_distance'), urban_distance_vis_param, 'Distance to Urban Areas')"
   ]
  },
  {
   "cell_type": "markdown",
   "id": "16adcafe-5f91-4b7c-8289-ac2e5f3c284b",
   "metadata": {},
   "source": [
    "## Export samples CSV to GCP"
   ]
  },
  {
   "cell_type": "markdown",
   "id": "9298e36c-4740-4c4a-b3e1-adfc1d34174f",
   "metadata": {},
   "source": [
    "Check progress in your GEE console: https://code.earthengine.google.com/tasks"
   ]
  },
  {
   "cell_type": "code",
   "execution_count": null,
   "id": "c4f90cfb-daa4-4dff-b4e5-0f960dc20032",
   "metadata": {},
   "outputs": [],
   "source": [
    "# Gridded world shapefile asset in GEE\n",
    "shp_asset_path = 'projects/ee-earthshot-shapefiles/assets/Brazil_gridded_1_degree'\n",
    "\n",
    "# This will take quite some time\n",
    "gcp_bucket = 'eartshot-science-team'\n",
    "gcp_folder_name = 'deforestation_risk'\n",
    "scale = 300\n",
    "numPixels = 200\n",
    "samples_folder_name = f'Brazil_samples_csv_scale{scale}_{numPixels}numPixels'\n",
    "\n",
    "ee_dataset_builder.samples_csv_export(shp_asset_path,\n",
    "                                      name_gcp_bucket=gcp_bucket,\n",
    "                                      folder_in_gcp_bucket=gcp_folder_name + '/' + samples_folder_name,\n",
    "                                      numPixels=numPixels, scale=scale)"
   ]
  },
  {
   "cell_type": "markdown",
   "id": "f47d97fc-08d1-454f-bc2f-7215b93bcf0d",
   "metadata": {},
   "source": [
    "## Export tiles to Google Drive"
   ]
  },
  {
   "cell_type": "code",
   "execution_count": null,
   "id": "8c29dd13-159f-4d64-8328-8f798d947d35",
   "metadata": {},
   "outputs": [],
   "source": [
    "# shp_asset_path = 'projects/ee-earthshot-shapefiles/assets/Brazil_gridded_1_degree'\n",
    "# name_google_drive_folder = 'test_export_tiles_latinAm_gridded_10degrees'\n",
    "# maxPixels = 1e13\n",
    "# scale=100\n",
    "\n",
    "# # This will take quite some time\n",
    "# ee_dataset_builder.tiles_export(shp_asset_path, \n",
    "#                                     name_output_google_drive_folder=name_google_drive_folder, \n",
    "#                                     scale=scale, maxPixels=maxPixels)"
   ]
  },
  {
   "cell_type": "code",
   "execution_count": null,
   "id": "7d0395f0-4028-463f-b792-e3fb328247b5",
   "metadata": {},
   "outputs": [],
   "source": []
  }
 ],
 "metadata": {
  "kernelspec": {
   "display_name": "Python 3 (ipykernel)",
   "language": "python",
   "name": "python3"
  },
  "language_info": {
   "codemirror_mode": {
    "name": "ipython",
    "version": 3
   },
   "file_extension": ".py",
   "mimetype": "text/x-python",
   "name": "python",
   "nbconvert_exporter": "python",
   "pygments_lexer": "ipython3",
   "version": "3.10.6"
  }
 },
 "nbformat": 4,
 "nbformat_minor": 5
}
