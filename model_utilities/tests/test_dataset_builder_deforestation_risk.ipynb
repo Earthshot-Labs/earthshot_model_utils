{
 "cells": [
  {
   "cell_type": "markdown",
   "id": "30f32b53-f39f-49b6-a346-99d32cfa2099",
   "metadata": {},
   "source": [
    "# Imports"
   ]
  },
  {
   "cell_type": "code",
   "execution_count": 1,
   "id": "0cd064ee-9fe1-4f9d-a077-ea7bdbc2e2b5",
   "metadata": {},
   "outputs": [],
   "source": [
    "import sys\n",
    " \n",
    "# setting path\n",
    "sys.path.append('..')"
   ]
  },
  {
   "cell_type": "code",
   "execution_count": 2,
   "id": "57711a08-2571-4b49-b2ab-b181fc3e5ef8",
   "metadata": {},
   "outputs": [],
   "source": [
    "from dataset_builder import EEDatasetBuilder\n",
    "import geemap\n",
    "import ee"
   ]
  },
  {
   "cell_type": "markdown",
   "id": "604432d3-6392-4753-8604-a1e07c2c247a",
   "metadata": {},
   "source": [
    "# Map"
   ]
  },
  {
   "cell_type": "code",
   "execution_count": 3,
   "id": "f4e0bd4f-3c0d-4fb2-b0da-9fdf93f9f5b1",
   "metadata": {},
   "outputs": [
    {
     "data": {
      "application/vnd.jupyter.widget-view+json": {
       "model_id": "2ac2cb21a17d4a33a00d8eb1073df267",
       "version_major": 2,
       "version_minor": 0
      },
      "text/plain": [
       "Map(center=[-11.8673, -76.9544], controls=(WidgetControl(options=['position', 'transparent_bg'], widget=HBox(c…"
      ]
     },
     "execution_count": 3,
     "metadata": {},
     "output_type": "execute_result"
    }
   ],
   "source": [
    "Map = geemap.Map(center=[-11.8673, -76.9544], zoom=2.5)\n",
    "Map"
   ]
  },
  {
   "cell_type": "markdown",
   "id": "d6a21a9c-4c95-4706-bff1-f0aca9eef8b9",
   "metadata": {
    "tags": []
   },
   "source": [
    "# Dataset builder"
   ]
  },
  {
   "cell_type": "code",
   "execution_count": 4,
   "id": "bc8bc1e8",
   "metadata": {},
   "outputs": [],
   "source": [
    "ee_dataset_builder = EEDatasetBuilder()"
   ]
  },
  {
   "cell_type": "markdown",
   "id": "70dfc837",
   "metadata": {},
   "source": [
    "Make the biomass band with some filters"
   ]
  },
  {
   "cell_type": "code",
   "execution_count": 5,
   "id": "612dd802",
   "metadata": {},
   "outputs": [],
   "source": [
    "ee_dataset_builder.filtered_response_layer_from_raster(\n",
    "    response_raster='Response_Variable_Brazil_Atlantic_Forest_0forest_1deforested', #'Spawn_AGB_tCO2e',  #'Deforestation_risk_response_variable_brazil',\n",
    "    filter_dict={\n",
    "                # 'forest_non_forest': {'date_range':['2010-01-01', '2010-12-31']},\n",
    "                 # 'min_forest_age': {'age':40},\n",
    "                # 'very_low_density_rural': {'year': 2010},\n",
    "                # 'forest_loss': {'year': 2010, 'distance': 5000},\n",
    "                # 'forest_gain' : {'distance': 5000},\n",
    "                # 'roads': {'distance': 5000},\n",
    "                # 'fire': {'year': 2010}\n",
    "    }\n",
    ")"
   ]
  },
  {
   "cell_type": "markdown",
   "id": "5fcb9cca",
   "metadata": {},
   "source": [
    "Make covariates bands"
   ]
  },
  {
   "cell_type": "code",
   "execution_count": 6,
   "id": "88663bb8",
   "metadata": {},
   "outputs": [],
   "source": [
    "ee_dataset_builder.spatial_covariates(covariates=['brazil_roads', 'terrain', 'brazil_protected_areas', 'population_density',\n",
    "                                                 'forest_age', 'urbanization', 'brazil_surrounding_forest', 'brazil_pasture',\n",
    "                                                 'brazil_agriculture', 'south_america_rivers', 'urban_distance']) # TODO: 'urban_distance'"
   ]
  },
  {
   "cell_type": "markdown",
   "id": "a08d503d",
   "metadata": {},
   "source": [
    "List band names of image"
   ]
  },
  {
   "cell_type": "code",
   "execution_count": 7,
   "id": "49ce3efe",
   "metadata": {},
   "outputs": [
    {
     "data": {
      "text/plain": [
       "['Response_Variable_Brazil_Atlantic_Forest_0forest_1deforested',\n",
       " 'brazil_roads',\n",
       " 'elevation',\n",
       " 'aspect',\n",
       " 'slope',\n",
       " 'hillshade',\n",
       " 'brazil_protected_areas',\n",
       " 'population_density',\n",
       " 'forest_age',\n",
       " 'urbanization',\n",
       " 'brazil_surrounding_forest',\n",
       " 'brazil_pasture',\n",
       " 'brazil_agriculture',\n",
       " 'south_america_rivers',\n",
       " 'urban_distance']"
      ]
     },
     "execution_count": 7,
     "metadata": {},
     "output_type": "execute_result"
    }
   ],
   "source": [
    "ee_dataset_builder.image.bandNames().getInfo()"
   ]
  },
  {
   "cell_type": "markdown",
   "id": "894b4b27",
   "metadata": {},
   "source": [
    "So the image has the added bands; it basically seems to work.\n",
    "\n",
    "Use the below code to make a plot and confirm results of mask match what is expected for both biomass and the features."
   ]
  },
  {
   "cell_type": "markdown",
   "id": "31ed8522-d01f-4bd6-8384-7d0e18b30b3f",
   "metadata": {},
   "source": [
    "### Visualize in map"
   ]
  },
  {
   "cell_type": "code",
   "execution_count": 8,
   "id": "33887244-491a-44df-9d75-1b1bfa643d1c",
   "metadata": {},
   "outputs": [],
   "source": [
    "biomass_vis_param = { \n",
    "  'min': 0.0,\n",
    "  'max': 1.0,\n",
    "  'palette': ['green','red']}\n",
    "\n",
    "Map.addLayer(ee_dataset_builder.image.select('Response_Variable_Brazil_Atlantic_Forest_0forest_1deforested'), biomass_vis_param, \n",
    "             'Deforestation_risk_response_variable_brazil', True)"
   ]
  },
  {
   "cell_type": "code",
   "execution_count": 9,
   "id": "590e8d4b-e8b1-46dd-ac90-aabfbe889709",
   "metadata": {},
   "outputs": [],
   "source": [
    "roads_vis_param = { \n",
    "  'min': 0.0,\n",
    "  'max': 10000.0,\n",
    "  'palette':  [\n",
    "    'FFFFFF','FFD0FF','FFA2FF','FF73FF',\n",
    "    'FF64FF','FF36FF','FF07FF','FF946A',\n",
    "    'FFD42A','FFCE00','D2A000','4B9300',\n",
    "    '168E00','005000'\n",
    "  ]};\n",
    "\n",
    "Map.addLayer(ee_dataset_builder.image.select('brazil_roads'), roads_vis_param, 'Roads distance', False)\n",
    "Map.addLayer(ee_dataset_builder.image.select('south_america_rivers'), roads_vis_param, 'Rivers distance', False)"
   ]
  },
  {
   "cell_type": "code",
   "execution_count": 10,
   "id": "8291c227-ca0f-4d8c-92bd-167f04bec961",
   "metadata": {},
   "outputs": [],
   "source": [
    "protected_areas_vis_param = { \n",
    "  'min': 0.0,\n",
    "  'max': 200000.0,\n",
    "  'palette':  [\n",
    "    'FFFFFF','FFD0FF','FFA2FF','FF73FF',\n",
    "    'FF64FF','FF36FF','FF07FF','FF946A',\n",
    "    'FFD42A','FFCE00','D2A000','4B9300',\n",
    "    '168E00','005000'\n",
    "  ]};\n",
    "Map.addLayer(ee_dataset_builder.image.select('brazil_protected_areas'), protected_areas_vis_param, 'Distance to Protected Areas', False)"
   ]
  },
  {
   "cell_type": "code",
   "execution_count": 11,
   "id": "e420062f-1787-4033-9936-36f67bfc18eb",
   "metadata": {},
   "outputs": [],
   "source": [
    "population_density_vis_param = { \n",
    "  'min': 0.0,\n",
    "  'max': 500.0,\n",
    "  'palette':  [\n",
    "    'FFFFFF','FFD0FF','FFA2FF','FF73FF',\n",
    "    'FF64FF','FF36FF','FF07FF','FF946A',\n",
    "    'FFD42A','FFCE00','D2A000','4B9300',\n",
    "    '168E00','005000'\n",
    "  ]};\n",
    "Map.addLayer(ee_dataset_builder.image.select('population_density'), population_density_vis_param, 'Population Density', False)"
   ]
  },
  {
   "cell_type": "code",
   "execution_count": 12,
   "id": "adb84a94-6427-4be9-a39a-a945ace1341c",
   "metadata": {},
   "outputs": [],
   "source": [
    "forest_age_vis_param = { \n",
    "  'min': 0.0,\n",
    "  'max': 100.0,\n",
    "  'palette':  [\n",
    "    'red','orange','yellow','green'\n",
    "  ]};\n",
    "Map.addLayer(ee_dataset_builder.image.select('forest_age'), forest_age_vis_param, 'Forest age', False)"
   ]
  },
  {
   "cell_type": "code",
   "execution_count": 13,
   "id": "dd9b642e-ab32-4617-8c5d-afcf7d7becf8",
   "metadata": {},
   "outputs": [],
   "source": [
    "urbanization_vis_param = { \n",
    "  'min': 0.0,\n",
    "  'max': 7.0,\n",
    "  'palette':  [\n",
    "    'green','yellow','orange','red'\n",
    "  ]};\n",
    "Map.addLayer(ee_dataset_builder.image.select('urbanization'), urbanization_vis_param, 'Urbanization', False)"
   ]
  },
  {
   "cell_type": "code",
   "execution_count": 14,
   "id": "d7fbb8a5-2a7f-432e-9481-c448251a522c",
   "metadata": {},
   "outputs": [],
   "source": [
    "surrounding_forest_vis_param = { \n",
    "  'min': 0.0,\n",
    "  'max': 700.0,\n",
    "  'palette':  [\n",
    "    'green','yellow','orange','red'\n",
    "  ]};\n",
    "Map.addLayer(ee_dataset_builder.image.select('brazil_surrounding_forest'), surrounding_forest_vis_param, 'Surrounding Forest', False)"
   ]
  },
  {
   "cell_type": "code",
   "execution_count": 15,
   "id": "c885ffc9-d3ba-4e8f-8680-ae081054b327",
   "metadata": {},
   "outputs": [],
   "source": [
    "pasture_vis_param = { \n",
    "  'min': 0.0,\n",
    "  'max': 100.0,\n",
    "  'palette':  [\n",
    "    'red','orange','yellow','green'\n",
    "  ]};\n",
    "Map.addLayer(ee_dataset_builder.image.select('brazil_pasture'), pasture_vis_param, 'Surrounding Pasture', False)"
   ]
  },
  {
   "cell_type": "code",
   "execution_count": 16,
   "id": "8a2d0b80-d186-47f1-a021-274b66a4b097",
   "metadata": {},
   "outputs": [],
   "source": [
    "agriculture_vis_param = { \n",
    "  'min': 0.0,\n",
    "  'max': 100.0,\n",
    "  'palette':  [\n",
    "    'red','orange','yellow','green'\n",
    "  ],\n",
    "    'format': 'png'};\n",
    "Map.addLayer(ee_dataset_builder.image.select('brazil_agriculture'), agriculture_vis_param, 'Surrounding Agriculture', False)"
   ]
  },
  {
   "cell_type": "code",
   "execution_count": 17,
   "id": "b290c01f-d4d3-47fb-a611-bb73004d3b3e",
   "metadata": {},
   "outputs": [],
   "source": [
    "urban_distance_vis_param = { \n",
    "  'min': 0.0,\n",
    "  'max': 10000.0,\n",
    "  'palette':  [\n",
    "    'red','green'\n",
    "  ]};\n",
    "Map.addLayer(ee_dataset_builder.image.select('urban_distance'), urban_distance_vis_param, 'Distance to Urban Areas', False)"
   ]
  },
  {
   "cell_type": "markdown",
   "id": "50ca4e69-edb9-43b6-b211-d410e9787965",
   "metadata": {
    "tags": []
   },
   "source": [
    "## Test and val sets"
   ]
  },
  {
   "cell_type": "code",
   "execution_count": 18,
   "id": "5a99be26-3f7b-4f7c-a008-42af902fe5ce",
   "metadata": {},
   "outputs": [],
   "source": [
    "ee_dataset_builder.test_set(feature_collection='users/margauxmf-earthshot/test_set_Atlantic_Forest_deforestation_risk',\n",
    "                            buffer=5000, test_set_name='test_set_5km_buffer')\n",
    "ee_dataset_builder.test_set(feature_collection='users/margauxmf-earthshot/test_set_Atlantic_Forest_deforestation_risk',\n",
    "                            buffer=None, test_set_name='test_set_no_buffer')\n",
    "ee_dataset_builder.test_set(feature_collection='users/margauxmf-earthshot/validation_set_Atlantic_Forest_deforestation_risk',\n",
    "                            buffer=5000, test_set_name='val_set_5km_buffer')\n",
    "ee_dataset_builder.test_set(feature_collection='users/margauxmf-earthshot/validation_set_Atlantic_Forest_deforestation_risk',\n",
    "                            buffer=None, test_set_name='val_set_no_buffer')"
   ]
  },
  {
   "cell_type": "code",
   "execution_count": 19,
   "id": "6996d420-5f98-4810-ac44-818adcf30800",
   "metadata": {},
   "outputs": [
    {
     "data": {
      "application/vnd.jupyter.widget-view+json": {
       "model_id": "2ac2cb21a17d4a33a00d8eb1073df267",
       "version_major": 2,
       "version_minor": 0
      },
      "text/plain": [
       "Map(bottom=1392.0, center=[-11.8673, -76.9544], controls=(WidgetControl(options=['position', 'transparent_bg']…"
      ]
     },
     "execution_count": 19,
     "metadata": {},
     "output_type": "execute_result"
    }
   ],
   "source": [
    "vis = { \n",
    "  'min': 0.0,\n",
    "  'max': 2.0,\n",
    "  'palette': ['d41c63', '33ffcc']}\n",
    "Map.addLayer(ee_dataset_builder.image.select('test_set_5km_buffer'),\n",
    "             vis,\n",
    "             'test_set_5km_buffer', False)\n",
    "Map.addLayer(ee_dataset_builder.image.select('test_set_no_buffer'),\n",
    "             vis,\n",
    "             'test_set_no_buffer', False)\n",
    "Map"
   ]
  },
  {
   "cell_type": "code",
   "execution_count": 20,
   "id": "2552868a-1ccc-4147-a222-a09fce8f7dbf",
   "metadata": {},
   "outputs": [
    {
     "data": {
      "text/plain": [
       "['Response_Variable_Brazil_Atlantic_Forest_0forest_1deforested',\n",
       " 'brazil_roads',\n",
       " 'elevation',\n",
       " 'aspect',\n",
       " 'slope',\n",
       " 'hillshade',\n",
       " 'brazil_protected_areas',\n",
       " 'population_density',\n",
       " 'forest_age',\n",
       " 'urbanization',\n",
       " 'brazil_surrounding_forest',\n",
       " 'brazil_pasture',\n",
       " 'brazil_agriculture',\n",
       " 'south_america_rivers',\n",
       " 'urban_distance',\n",
       " 'test_set_5km_buffer',\n",
       " 'test_set_no_buffer',\n",
       " 'val_set_5km_buffer',\n",
       " 'val_set_no_buffer']"
      ]
     },
     "execution_count": 20,
     "metadata": {},
     "output_type": "execute_result"
    }
   ],
   "source": [
    "ee_dataset_builder.image.bandNames().getInfo()"
   ]
  },
  {
   "cell_type": "markdown",
   "id": "16adcafe-5f91-4b7c-8289-ac2e5f3c284b",
   "metadata": {
    "tags": []
   },
   "source": [
    "# Export samples CSV to GCP"
   ]
  },
  {
   "cell_type": "markdown",
   "id": "9298e36c-4740-4c4a-b3e1-adfc1d34174f",
   "metadata": {},
   "source": [
    "Check progress in your GEE console: https://code.earthengine.google.com/tasks"
   ]
  },
  {
   "cell_type": "code",
   "execution_count": 21,
   "id": "c46cb67e-5886-4f84-9a71-b60bdd89ccae",
   "metadata": {},
   "outputs": [],
   "source": [
    "# Gridded world shapefile asset in GEE\n",
    "shp_asset_path = 'projects/ee-earthshot-shapefiles/assets/Altantic_Forest_10km2_grid'  #Atlantic_Forest_100km2_grid'\n",
    "\n",
    "gcp_bucket = 'eartshot-science-team'\n",
    "gcp_folder_name = 'deforestation_risk'\n",
    "scale = 30\n",
    "numPoints = 1000 # we override the number of points below with classPoints\n",
    "classBand = \"Response_Variable_Brazil_Atlantic_Forest_0forest_1deforested\"\n",
    "classPoints = [8500, 1500]\n",
    "classValues = [0,1]"
   ]
  },
  {
   "cell_type": "code",
   "execution_count": null,
   "id": "c4f90cfb-daa4-4dff-b4e5-0f960dc20032",
   "metadata": {
    "tags": []
   },
   "outputs": [
    {
     "name": "stdout",
     "output_type": "stream",
     "text": [
      "Geometry number of features: 17808\n",
      "Stratified sampling: \n",
      "numPoints: 1000, \n",
      "classBand: Response_Variable_Brazil_Atlantic_Forest_0forest_1deforested, \n",
      "scale: 30, \n",
      "geometries: True, \n",
      "dropNulls: True, \n",
      "tileScale: 1, \n",
      "classPoints: [8500, 1500], \n",
      "seed: 0, \n",
      "projection:None\n"
     ]
    },
    {
     "name": "stderr",
     "output_type": "stream",
     "text": [
      "  0%|                                                                                                                                                    | 6/17808 [00:01<52:43,  5.63it/s]"
     ]
    }
   ],
   "source": [
    "samples_folder_name = f'Brazil_Atlantic_Forest_10km2_grids_samples_csv_scale{scale}_{numPoints}numPoints'\n",
    "\n",
    "# Stratified Sampling\n",
    "# This will take quite some time\n",
    "ee_dataset_builder.samples_csv_export(shp_asset_path=shp_asset_path, \n",
    "                                      name_gcp_bucket=gcp_bucket, \n",
    "                                      folder_in_gcp_bucket=gcp_folder_name + '/' + samples_folder_name, \n",
    "                                      scale=scale, \n",
    "                                      geometries=True,\n",
    "                                      isStratifiedSampling=True, \n",
    "                                      numPoints=numPoints, \n",
    "                                      classValues=classValues,\n",
    "                                      classBand=classBand, \n",
    "                                      classPoints=classPoints)"
   ]
  },
  {
   "cell_type": "markdown",
   "id": "f47d97fc-08d1-454f-bc2f-7215b93bcf0d",
   "metadata": {},
   "source": [
    "# Export tiles to GCP"
   ]
  },
  {
   "cell_type": "code",
   "execution_count": 20,
   "id": "00af13da-afb5-44e4-8110-9c53b4dd0f95",
   "metadata": {},
   "outputs": [],
   "source": [
    "ee_dataset_builder_inference = EEDatasetBuilder()\n",
    "ee_dataset_builder_inference.filtered_response_layer_from_raster(\n",
    "    response_raster = None,\n",
    "    filter_dict={\n",
    "        'forest_Brazil_Atlantic_Forest_non_Forest': {}\n",
    "    }\n",
    ")\n",
    "# Only building predictors here\n",
    "ee_dataset_builder_inference.spatial_covariates(covariates=['brazil_roads', 'terrain', 'brazil_protected_areas', 'population_density',\n",
    "                                                 'forest_age', 'urbanization', 'brazil_surrounding_forest', 'brazil_pasture',\n",
    "                                                 'brazil_agriculture', 'south_america_rivers', 'urban_distance']) "
   ]
  },
  {
   "cell_type": "code",
   "execution_count": 21,
   "id": "2998ff11-d19b-4f03-872e-c80aacfd82cb",
   "metadata": {},
   "outputs": [
    {
     "data": {
      "text/plain": [
       "['brazil_roads',\n",
       " 'elevation',\n",
       " 'aspect',\n",
       " 'slope',\n",
       " 'hillshade',\n",
       " 'brazil_protected_areas',\n",
       " 'population_density',\n",
       " 'forest_age',\n",
       " 'urbanization',\n",
       " 'brazil_surrounding_forest',\n",
       " 'brazil_pasture',\n",
       " 'brazil_agriculture',\n",
       " 'south_america_rivers',\n",
       " 'urban_distance']"
      ]
     },
     "execution_count": 21,
     "metadata": {},
     "output_type": "execute_result"
    }
   ],
   "source": [
    "ee_dataset_builder_inference.image.bandNames().getInfo()"
   ]
  },
  {
   "cell_type": "code",
   "execution_count": 22,
   "id": "c410e62a-43ba-4f5b-ae82-1c9b724e664f",
   "metadata": {},
   "outputs": [],
   "source": [
    "forest_age_vis_param = { \n",
    "  'min': 0.0,\n",
    "  'max': 100.0,\n",
    "  'palette':  [\n",
    "    'red','orange','yellow','green'\n",
    "  ]};\n",
    "Map.addLayer(ee_dataset_builder_inference.image.select('forest_age'), forest_age_vis_param, 'Inference Forest age')"
   ]
  },
  {
   "cell_type": "code",
   "execution_count": 25,
   "id": "8c29dd13-159f-4d64-8328-8f798d947d35",
   "metadata": {},
   "outputs": [
    {
     "name": "stdout",
     "output_type": "stream",
     "text": [
      "\n",
      "Export inference tiles using the shapefile: projects/ee-earthshot-shapefiles/assets/limite_MA2_grid_2degrees...\n",
      "Geometry number of features: 58\n",
      "\n",
      "Starting collecting tiles...\n"
     ]
    },
    {
     "name": "stderr",
     "output_type": "stream",
     "text": [
      "100%|██████████████████████████████████████████████████████████████████████████████████████████████████████████████████████████████████████████████████████| 58/58 [00:17<00:00,  3.37it/s]"
     ]
    },
    {
     "name": "stdout",
     "output_type": "stream",
     "text": [
      "Inference tiles export done.\n",
      "\n"
     ]
    },
    {
     "name": "stderr",
     "output_type": "stream",
     "text": [
      "\n"
     ]
    }
   ],
   "source": [
    "################## Export inference tiles to GCP bucket ##################\n",
    "# shp_asset_path_tiles = 'projects/ee-earthshot-shapefiles/assets/limite_MA2_grid_2degrees'\n",
    "shp_asset_path_tiles = 'projects/ee-earthshot-shapefiles/assets/Altantic_Forest_200km2_grid'\n",
    "\n",
    "tiles_folder_name = f'Brazil_Deforestation_Risk_inference_200km2_grid_scale{scale}'\n",
    "maxPixels = 1e13\n",
    "\n",
    "print(f'\\nExport inference tiles using the shapefile: {shp_asset_path_tiles}...')\n",
    "# This will take quite some time\n",
    "ee_dataset_builder_inference.tiles_export(shp_asset_path_tiles,\n",
    "                                    name_gcp_bucket=gcp_bucket,\n",
    "                                    folder_in_gcp_bucket=gcp_folder_name + '/' + tiles_folder_name,\n",
    "                                    maxPixels=maxPixels, scale=scale)\n",
    "print('Inference tiles export done.\\n')"
   ]
  },
  {
   "cell_type": "code",
   "execution_count": null,
   "id": "7d0395f0-4028-463f-b792-e3fb328247b5",
   "metadata": {},
   "outputs": [],
   "source": []
  }
 ],
 "metadata": {
  "kernelspec": {
   "display_name": "Python 3 (ipykernel)",
   "language": "python",
   "name": "python3"
  },
  "language_info": {
   "codemirror_mode": {
    "name": "ipython",
    "version": 3
   },
   "file_extension": ".py",
   "mimetype": "text/x-python",
   "name": "python",
   "nbconvert_exporter": "python",
   "pygments_lexer": "ipython3",
   "version": "3.10.6"
  }
 },
 "nbformat": 4,
 "nbformat_minor": 5
}
