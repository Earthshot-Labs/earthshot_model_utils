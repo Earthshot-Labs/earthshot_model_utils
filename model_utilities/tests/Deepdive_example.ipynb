{
 "cells": [
  {
   "cell_type": "markdown",
   "id": "cca2a9c3",
   "metadata": {},
   "source": [
    "# Example code to use model_utilities for biomass and carbon data cleaning and chapman-richards curve fitting\n",
    "\n",
    "To do: \n",
    "- show wood density in action\n",
    "- figure out where to put the ipcc csv so people can access"
   ]
  },
  {
   "cell_type": "code",
   "execution_count": 1,
   "id": "c5985811",
   "metadata": {},
   "outputs": [],
   "source": [
    "import model_utilities #not needed, just checking if it works\n",
    "import pandas as pd\n",
    "import numpy as np"
   ]
  },
  {
   "cell_type": "code",
   "execution_count": 2,
   "id": "4e684307",
   "metadata": {},
   "outputs": [],
   "source": [
    "# import os\n",
    "# local_path = '/Users/anikastaccone/Documents/earthshot/github_repos/'\n",
    "# dir_path = 'science/Ad-hoc_project_analyses/Synthesis and automation'\n",
    "# os.chdir(local_path + dir_path)"
   ]
  },
  {
   "cell_type": "markdown",
   "id": "adb76162",
   "metadata": {},
   "source": [
    "# Illustrate curve fit with (bounded) free p parameter"
   ]
  },
  {
   "cell_type": "code",
   "execution_count": 3,
   "id": "4ef3f82f",
   "metadata": {},
   "outputs": [
    {
     "data": {
      "text/html": [
       "<div>\n",
       "<style scoped>\n",
       "    .dataframe tbody tr th:only-of-type {\n",
       "        vertical-align: middle;\n",
       "    }\n",
       "\n",
       "    .dataframe tbody tr th {\n",
       "        vertical-align: top;\n",
       "    }\n",
       "\n",
       "    .dataframe thead th {\n",
       "        text-align: right;\n",
       "    }\n",
       "</style>\n",
       "<table border=\"1\" class=\"dataframe\">\n",
       "  <thead>\n",
       "    <tr style=\"text-align: right;\">\n",
       "      <th></th>\n",
       "      <th>age</th>\n",
       "      <th>agb_t_ha</th>\n",
       "      <th>bgb_t_ha</th>\n",
       "      <th>agb_bgb_t_ha</th>\n",
       "      <th>source</th>\n",
       "    </tr>\n",
       "  </thead>\n",
       "  <tbody>\n",
       "    <tr>\n",
       "      <th>0</th>\n",
       "      <td>1</td>\n",
       "      <td>8</td>\n",
       "      <td>NaN</td>\n",
       "      <td>NaN</td>\n",
       "      <td>paper1</td>\n",
       "    </tr>\n",
       "    <tr>\n",
       "      <th>1</th>\n",
       "      <td>2</td>\n",
       "      <td>15</td>\n",
       "      <td>NaN</td>\n",
       "      <td>NaN</td>\n",
       "      <td>paper2</td>\n",
       "    </tr>\n",
       "    <tr>\n",
       "      <th>2</th>\n",
       "      <td>3</td>\n",
       "      <td>20</td>\n",
       "      <td>10.0</td>\n",
       "      <td>NaN</td>\n",
       "      <td>paper3</td>\n",
       "    </tr>\n",
       "    <tr>\n",
       "      <th>3</th>\n",
       "      <td>4</td>\n",
       "      <td>21</td>\n",
       "      <td>7.0</td>\n",
       "      <td>NaN</td>\n",
       "      <td>paper4</td>\n",
       "    </tr>\n",
       "    <tr>\n",
       "      <th>4</th>\n",
       "      <td>5</td>\n",
       "      <td>22</td>\n",
       "      <td>NaN</td>\n",
       "      <td>NaN</td>\n",
       "      <td>paper5</td>\n",
       "    </tr>\n",
       "  </tbody>\n",
       "</table>\n",
       "</div>"
      ],
      "text/plain": [
       "   age  agb_t_ha  bgb_t_ha  agb_bgb_t_ha  source\n",
       "0    1         8       NaN           NaN  paper1\n",
       "1    2        15       NaN           NaN  paper2\n",
       "2    3        20      10.0           NaN  paper3\n",
       "3    4        21       7.0           NaN  paper4\n",
       "4    5        22       NaN           NaN  paper5"
      ]
     },
     "execution_count": 3,
     "metadata": {},
     "output_type": "execute_result"
    }
   ],
   "source": [
    "test_df = pd.DataFrame({'age': [1,2,3,4,5],\n",
    "                       'agb_t_ha':[8,15,20,21,22],\n",
    "                       'bgb_t_ha':[np.nan,np.nan,10,7,np.nan],\n",
    "                       'agb_bgb_t_ha':[np.nan,np.nan,np.nan,np.nan,np.nan],\n",
    "                       'source':['paper1','paper2','paper3','paper4','paper5']})\n",
    "test_df"
   ]
  },
  {
   "cell_type": "code",
   "execution_count": 4,
   "id": "75e22db3",
   "metadata": {},
   "outputs": [],
   "source": [
    "from model_utilities.forest_mensuration import clean_biomass_data"
   ]
  },
  {
   "cell_type": "code",
   "execution_count": 5,
   "id": "a9bc3a7e",
   "metadata": {},
   "outputs": [
    {
     "data": {
      "text/html": [
       "<div>\n",
       "<style scoped>\n",
       "    .dataframe tbody tr th:only-of-type {\n",
       "        vertical-align: middle;\n",
       "    }\n",
       "\n",
       "    .dataframe tbody tr th {\n",
       "        vertical-align: top;\n",
       "    }\n",
       "\n",
       "    .dataframe thead th {\n",
       "        text-align: right;\n",
       "    }\n",
       "</style>\n",
       "<table border=\"1\" class=\"dataframe\">\n",
       "  <thead>\n",
       "    <tr style=\"text-align: right;\">\n",
       "      <th></th>\n",
       "      <th>age</th>\n",
       "      <th>agb_t_ha</th>\n",
       "      <th>bgb_t_ha</th>\n",
       "      <th>agb_bgb_t_ha</th>\n",
       "      <th>source</th>\n",
       "      <th>agb_tCO2e_ha</th>\n",
       "      <th>bgb_tCO2e_ha</th>\n",
       "      <th>agb_bgb_tCO2e_ha</th>\n",
       "    </tr>\n",
       "  </thead>\n",
       "  <tbody>\n",
       "    <tr>\n",
       "      <th>0</th>\n",
       "      <td>1</td>\n",
       "      <td>8</td>\n",
       "      <td>2.280</td>\n",
       "      <td>10.280</td>\n",
       "      <td>paper1</td>\n",
       "      <td>13.786667</td>\n",
       "      <td>3.929200</td>\n",
       "      <td>17.715867</td>\n",
       "    </tr>\n",
       "    <tr>\n",
       "      <th>1</th>\n",
       "      <td>2</td>\n",
       "      <td>15</td>\n",
       "      <td>4.275</td>\n",
       "      <td>19.275</td>\n",
       "      <td>paper2</td>\n",
       "      <td>25.850000</td>\n",
       "      <td>7.367250</td>\n",
       "      <td>33.217250</td>\n",
       "    </tr>\n",
       "    <tr>\n",
       "      <th>2</th>\n",
       "      <td>3</td>\n",
       "      <td>20</td>\n",
       "      <td>10.000</td>\n",
       "      <td>30.000</td>\n",
       "      <td>paper3</td>\n",
       "      <td>34.466667</td>\n",
       "      <td>17.233333</td>\n",
       "      <td>51.700000</td>\n",
       "    </tr>\n",
       "    <tr>\n",
       "      <th>3</th>\n",
       "      <td>4</td>\n",
       "      <td>21</td>\n",
       "      <td>7.000</td>\n",
       "      <td>28.000</td>\n",
       "      <td>paper4</td>\n",
       "      <td>36.190000</td>\n",
       "      <td>12.063333</td>\n",
       "      <td>48.253333</td>\n",
       "    </tr>\n",
       "    <tr>\n",
       "      <th>4</th>\n",
       "      <td>5</td>\n",
       "      <td>22</td>\n",
       "      <td>6.270</td>\n",
       "      <td>28.270</td>\n",
       "      <td>paper5</td>\n",
       "      <td>37.913333</td>\n",
       "      <td>10.805300</td>\n",
       "      <td>48.718633</td>\n",
       "    </tr>\n",
       "  </tbody>\n",
       "</table>\n",
       "</div>"
      ],
      "text/plain": [
       "   age  agb_t_ha  bgb_t_ha  agb_bgb_t_ha  source  agb_tCO2e_ha  bgb_tCO2e_ha  \\\n",
       "0    1         8     2.280        10.280  paper1     13.786667      3.929200   \n",
       "1    2        15     4.275        19.275  paper2     25.850000      7.367250   \n",
       "2    3        20    10.000        30.000  paper3     34.466667     17.233333   \n",
       "3    4        21     7.000        28.000  paper4     36.190000     12.063333   \n",
       "4    5        22     6.270        28.270  paper5     37.913333     10.805300   \n",
       "\n",
       "   agb_bgb_tCO2e_ha  \n",
       "0         17.715867  \n",
       "1         33.217250  \n",
       "2         51.700000  \n",
       "3         48.253333  \n",
       "4         48.718633  "
      ]
     },
     "execution_count": 5,
     "metadata": {},
     "output_type": "execute_result"
    }
   ],
   "source": [
    "clean_df = clean_biomass_data(test_df, d_type='biomass')\n",
    "clean_df"
   ]
  },
  {
   "cell_type": "markdown",
   "id": "6bf92e3c",
   "metadata": {},
   "source": [
    "Add IPCC points to literature data"
   ]
  },
  {
   "cell_type": "code",
   "execution_count": 8,
   "id": "dcec05d5",
   "metadata": {},
   "outputs": [],
   "source": [
    "from model_utilities import ipcc_tier_1"
   ]
  },
  {
   "cell_type": "code",
   "execution_count": 9,
   "id": "642258bb",
   "metadata": {},
   "outputs": [],
   "source": [
    "ipcc_natural = ipcc_tier_1.PredictIPCC(polygonData=None,\n",
    "            ecozone='tropical dry forest',\n",
    "            continent='south america',\n",
    "            forest_type='natural',\n",
    "            yearStart = 0,\n",
    "            yearEnd = 30)\n",
    "\n",
    "ipcc_natural_mid = ipcc_natural['predictions']['natural']['biomass']\n",
    "\n",
    "ipcc_time = np.arange(0, len(ipcc_natural_mid), 1)\n",
    "\n",
    "ipcc_plantation = ipcc_tier_1.PredictIPCC(polygonData=None,\n",
    "            ecozone='tropical dry forest',\n",
    "            continent='south america',\n",
    "            forest_type='other broadleaf',\n",
    "            yearStart = 0,\n",
    "            yearEnd = 30)\n",
    "\n",
    "ipcc_plantation_mid = ipcc_plantation['predictions']['other broadleaf']['biomass']\n",
    "\n",
    "\n",
    "\n",
    "# take mean of natural and other broadleaf plantation\n",
    "ipcc_pts = np.mean([ipcc_natural_mid[[10,20,30]], \n",
    "                    ipcc_plantation_mid[[10,20,30]]\n",
    "                   ], axis=0)\n",
    "ipcc_pts = pd.DataFrame({'age':[10,20,30],\n",
    "                       'agb_bgb_tCO2e_ha':ipcc_pts,\n",
    "                        'source':['ipcc','ipcc','ipcc']})\n",
    "\n"
   ]
  },
  {
   "cell_type": "code",
   "execution_count": 10,
   "id": "ff0cb843",
   "metadata": {},
   "outputs": [],
   "source": [
    "#from model_utilities.curve_fitting.curve_fitting import GrowthCurveFit\n",
    "from model_utilities.curve_fitting import GrowthCurveFit"
   ]
  },
  {
   "cell_type": "markdown",
   "id": "5cedf735",
   "metadata": {},
   "source": [
    "Initialize GrowthCurveFit object with growth data"
   ]
  },
  {
   "cell_type": "code",
   "execution_count": 26,
   "id": "de4d8612",
   "metadata": {},
   "outputs": [],
   "source": [
    "growth_curve_fit = GrowthCurveFit(growth_df=test_df)"
   ]
  },
  {
   "cell_type": "markdown",
   "id": "99700053",
   "metadata": {},
   "source": [
    "Create artificial array of maximum biomasses"
   ]
  },
  {
   "cell_type": "code",
   "execution_count": 27,
   "id": "4191c2ac",
   "metadata": {},
   "outputs": [
    {
     "data": {
      "text/html": [
       "<div>\n",
       "<style scoped>\n",
       "    .dataframe tbody tr th:only-of-type {\n",
       "        vertical-align: middle;\n",
       "    }\n",
       "\n",
       "    .dataframe tbody tr th {\n",
       "        vertical-align: top;\n",
       "    }\n",
       "\n",
       "    .dataframe thead th {\n",
       "        text-align: right;\n",
       "    }\n",
       "</style>\n",
       "<table border=\"1\" class=\"dataframe\">\n",
       "  <thead>\n",
       "    <tr style=\"text-align: right;\">\n",
       "      <th></th>\n",
       "      <th>Source</th>\n",
       "      <th>Detail</th>\n",
       "      <th>agb_bgb_tCO2e_ha</th>\n",
       "    </tr>\n",
       "  </thead>\n",
       "  <tbody>\n",
       "    <tr>\n",
       "      <th>0</th>\n",
       "      <td>Some mature biomass resource</td>\n",
       "      <td>p70</td>\n",
       "      <td>60</td>\n",
       "    </tr>\n",
       "    <tr>\n",
       "      <th>1</th>\n",
       "      <td>Some mature biomass resource</td>\n",
       "      <td>p80</td>\n",
       "      <td>70</td>\n",
       "    </tr>\n",
       "    <tr>\n",
       "      <th>2</th>\n",
       "      <td>Some mature biomass resource</td>\n",
       "      <td>p90</td>\n",
       "      <td>80</td>\n",
       "    </tr>\n",
       "  </tbody>\n",
       "</table>\n",
       "</div>"
      ],
      "text/plain": [
       "                         Source Detail  agb_bgb_tCO2e_ha\n",
       "0  Some mature biomass resource    p70                60\n",
       "1  Some mature biomass resource    p80                70\n",
       "2  Some mature biomass resource    p90                80"
      ]
     },
     "execution_count": 27,
     "metadata": {},
     "output_type": "execute_result"
    }
   ],
   "source": [
    "max_biomass = pd.DataFrame({\n",
    "    'Source':['Some mature biomass resource', 'Some mature biomass resource', 'Some mature biomass resource'],\n",
    "    'Detail':['p70', 'p80', 'p90'],\n",
    "    'agb_bgb_tCO2e_ha':[60, 70, 80]\n",
    "})\n",
    "\n",
    "max_biomass"
   ]
  },
  {
   "cell_type": "markdown",
   "id": "2a3504ef",
   "metadata": {},
   "source": [
    "Set the max_df variable in the class"
   ]
  },
  {
   "cell_type": "code",
   "execution_count": 28,
   "id": "a34da435",
   "metadata": {},
   "outputs": [],
   "source": [
    "growth_curve_fit.set_maxes(max_df=max_biomass)"
   ]
  },
  {
   "cell_type": "markdown",
   "id": "5b0c6244",
   "metadata": {},
   "source": [
    "Do a curve fit for each max biomass"
   ]
  },
  {
   "cell_type": "code",
   "execution_count": 29,
   "id": "24c13a5c",
   "metadata": {},
   "outputs": [
    {
     "name": "stderr",
     "output_type": "stream",
     "text": [
      "/Users/anikastaccone/opt/anaconda3/envs/spatial-env/lib/python3.9/site-packages/model_utilities/curve_formulas.py:22: RuntimeWarning: invalid value encountered in power\n",
      "  y = x[: ,1] * np.power( (1 - np.exp(-k * x[: ,0])), p)\n"
     ]
    }
   ],
   "source": [
    "growth_curve_fit.fit_curve(curve_formula='chapman_richards_set_ymax',\n",
    "                           curve_fit_params=None,\n",
    "                           set_params=None)"
   ]
  },
  {
   "cell_type": "code",
   "execution_count": 30,
   "id": "c4c281b6",
   "metadata": {},
   "outputs": [
    {
     "data": {
      "text/plain": [
       "[array([0.50953368, 1.24697056]),\n",
       " array([0.27132301, 0.84249871]),\n",
       " array([0.17522833, 0.71506713])]"
      ]
     },
     "execution_count": 30,
     "metadata": {},
     "output_type": "execute_result"
    }
   ],
   "source": [
    "growth_curve_fit.params"
   ]
  },
  {
   "cell_type": "code",
   "execution_count": 31,
   "id": "c7afc106",
   "metadata": {},
   "outputs": [
    {
     "data": {
      "text/plain": [
       "[array([[0.03211998, 0.0994391 ],\n",
       "        [0.0994391 , 0.35060642]]),\n",
       " array([[0.01456341, 0.04362898],\n",
       "        [0.04362898, 0.14428848]]),\n",
       " array([[0.00853847, 0.02763513],\n",
       "        [0.02763513, 0.09641528]])]"
      ]
     },
     "execution_count": 31,
     "metadata": {},
     "output_type": "execute_result"
    }
   ],
   "source": [
    "growth_curve_fit.covars"
   ]
  },
  {
   "cell_type": "markdown",
   "id": "b39c59ac",
   "metadata": {},
   "source": [
    "Looks like it works; could be nice to have convenience functions to \"get\" these attributes. The next steps are a method to do the predictions (I guess these get stored in their own dataframe), Monte Carlo uncertainties (these are like predictions and may use the prediction function, just with other parameters... should results be stored in a dataframe and should they be all the ensemble members? I think so, yes), and then, in a separate module for plotting, a plotting function that can take the optimal estimates, and the MC ensembles, "
   ]
  },
  {
   "cell_type": "code",
   "execution_count": 32,
   "id": "4e173cc9",
   "metadata": {},
   "outputs": [
    {
     "name": "stderr",
     "output_type": "stream",
     "text": [
      "/Users/anikastaccone/opt/anaconda3/envs/spatial-env/lib/python3.9/site-packages/model_utilities/curve_formulas.py:22: RuntimeWarning: invalid value encountered in power\n",
      "  y = x[: ,1] * np.power( (1 - np.exp(-k * x[: ,0])), p)\n",
      "/Users/anikastaccone/opt/anaconda3/envs/spatial-env/lib/python3.9/site-packages/model_utilities/curve_formulas.py:22: RuntimeWarning: invalid value encountered in power\n",
      "  y = x[: ,1] * np.power( (1 - np.exp(-k * x[: ,0])), p)\n"
     ]
    }
   ],
   "source": [
    "growth_curve_fit.predictions_with_monte_carlo(years_predict=100, n_mc=500)"
   ]
  },
  {
   "cell_type": "code",
   "execution_count": 33,
   "id": "e25455e0",
   "metadata": {},
   "outputs": [
    {
     "name": "stdout",
     "output_type": "stream",
     "text": [
      "<class 'pandas.core.frame.DataFrame'>\n",
      "RangeIndex: 100 entries, 0 to 99\n",
      "Data columns (total 4 columns):\n",
      " #   Column                            Non-Null Count  Dtype  \n",
      "---  ------                            --------------  -----  \n",
      " 0   Age                               100 non-null    int64  \n",
      " 1   Some mature biomass resource_p70  100 non-null    float64\n",
      " 2   Some mature biomass resource_p80  100 non-null    float64\n",
      " 3   Some mature biomass resource_p90  100 non-null    float64\n",
      "dtypes: float64(3), int64(1)\n",
      "memory usage: 3.2 KB\n"
     ]
    }
   ],
   "source": [
    "growth_curve_fit.prediction_df.info()"
   ]
  },
  {
   "cell_type": "code",
   "execution_count": 34,
   "id": "cbeff757",
   "metadata": {},
   "outputs": [
    {
     "data": {
      "text/html": [
       "<div>\n",
       "<style scoped>\n",
       "    .dataframe tbody tr th:only-of-type {\n",
       "        vertical-align: middle;\n",
       "    }\n",
       "\n",
       "    .dataframe tbody tr th {\n",
       "        vertical-align: top;\n",
       "    }\n",
       "\n",
       "    .dataframe thead th {\n",
       "        text-align: right;\n",
       "    }\n",
       "</style>\n",
       "<table border=\"1\" class=\"dataframe\">\n",
       "  <thead>\n",
       "    <tr style=\"text-align: right;\">\n",
       "      <th></th>\n",
       "      <th>Age</th>\n",
       "      <th>Some mature biomass resource_p70</th>\n",
       "      <th>Some mature biomass resource_p80</th>\n",
       "      <th>Some mature biomass resource_p90</th>\n",
       "    </tr>\n",
       "  </thead>\n",
       "  <tbody>\n",
       "    <tr>\n",
       "      <th>0</th>\n",
       "      <td>1</td>\n",
       "      <td>19.093282</td>\n",
       "      <td>20.859090</td>\n",
       "      <td>21.647361</td>\n",
       "    </tr>\n",
       "    <tr>\n",
       "      <th>1</th>\n",
       "      <td>2</td>\n",
       "      <td>34.330069</td>\n",
       "      <td>33.622645</td>\n",
       "      <td>33.469056</td>\n",
       "    </tr>\n",
       "    <tr>\n",
       "      <th>2</th>\n",
       "      <td>3</td>\n",
       "      <td>44.237113</td>\n",
       "      <td>42.748252</td>\n",
       "      <td>42.201894</td>\n",
       "    </tr>\n",
       "    <tr>\n",
       "      <th>3</th>\n",
       "      <td>4</td>\n",
       "      <td>50.415552</td>\n",
       "      <td>49.462940</td>\n",
       "      <td>49.003434</td>\n",
       "    </tr>\n",
       "    <tr>\n",
       "      <th>4</th>\n",
       "      <td>5</td>\n",
       "      <td>54.202173</td>\n",
       "      <td>54.468408</td>\n",
       "      <td>54.431958</td>\n",
       "    </tr>\n",
       "    <tr>\n",
       "      <th>...</th>\n",
       "      <td>...</td>\n",
       "      <td>...</td>\n",
       "      <td>...</td>\n",
       "      <td>...</td>\n",
       "    </tr>\n",
       "    <tr>\n",
       "      <th>95</th>\n",
       "      <td>96</td>\n",
       "      <td>60.000000</td>\n",
       "      <td>70.000000</td>\n",
       "      <td>79.999997</td>\n",
       "    </tr>\n",
       "    <tr>\n",
       "      <th>96</th>\n",
       "      <td>97</td>\n",
       "      <td>60.000000</td>\n",
       "      <td>70.000000</td>\n",
       "      <td>79.999998</td>\n",
       "    </tr>\n",
       "    <tr>\n",
       "      <th>97</th>\n",
       "      <td>98</td>\n",
       "      <td>60.000000</td>\n",
       "      <td>70.000000</td>\n",
       "      <td>79.999998</td>\n",
       "    </tr>\n",
       "    <tr>\n",
       "      <th>98</th>\n",
       "      <td>99</td>\n",
       "      <td>60.000000</td>\n",
       "      <td>70.000000</td>\n",
       "      <td>79.999998</td>\n",
       "    </tr>\n",
       "    <tr>\n",
       "      <th>99</th>\n",
       "      <td>100</td>\n",
       "      <td>60.000000</td>\n",
       "      <td>70.000000</td>\n",
       "      <td>79.999999</td>\n",
       "    </tr>\n",
       "  </tbody>\n",
       "</table>\n",
       "<p>100 rows × 4 columns</p>\n",
       "</div>"
      ],
      "text/plain": [
       "    Age  Some mature biomass resource_p70  Some mature biomass resource_p80  \\\n",
       "0     1                         19.093282                         20.859090   \n",
       "1     2                         34.330069                         33.622645   \n",
       "2     3                         44.237113                         42.748252   \n",
       "3     4                         50.415552                         49.462940   \n",
       "4     5                         54.202173                         54.468408   \n",
       "..  ...                               ...                               ...   \n",
       "95   96                         60.000000                         70.000000   \n",
       "96   97                         60.000000                         70.000000   \n",
       "97   98                         60.000000                         70.000000   \n",
       "98   99                         60.000000                         70.000000   \n",
       "99  100                         60.000000                         70.000000   \n",
       "\n",
       "    Some mature biomass resource_p90  \n",
       "0                          21.647361  \n",
       "1                          33.469056  \n",
       "2                          42.201894  \n",
       "3                          49.003434  \n",
       "4                          54.431958  \n",
       "..                               ...  \n",
       "95                         79.999997  \n",
       "96                         79.999998  \n",
       "97                         79.999998  \n",
       "98                         79.999998  \n",
       "99                         79.999999  \n",
       "\n",
       "[100 rows x 4 columns]"
      ]
     },
     "execution_count": 34,
     "metadata": {},
     "output_type": "execute_result"
    }
   ],
   "source": [
    "growth_curve_fit.prediction_df"
   ]
  },
  {
   "cell_type": "code",
   "execution_count": 35,
   "id": "d9be9770",
   "metadata": {},
   "outputs": [
    {
     "data": {
      "text/plain": [
       "dict_keys(['Some mature biomass resource_p70', 'Some mature biomass resource_p80', 'Some mature biomass resource_p90'])"
      ]
     },
     "execution_count": 35,
     "metadata": {},
     "output_type": "execute_result"
    }
   ],
   "source": [
    "growth_curve_fit.monte_carlo_dfs.keys()"
   ]
  },
  {
   "cell_type": "code",
   "execution_count": 36,
   "id": "c1324164",
   "metadata": {},
   "outputs": [
    {
     "name": "stdout",
     "output_type": "stream",
     "text": [
      "<class 'pandas.core.frame.DataFrame'>\n",
      "RangeIndex: 100 entries, 0 to 99\n",
      "Columns: 500 entries, sim_0 to sim_499\n",
      "dtypes: float64(500)\n",
      "memory usage: 390.8 KB\n"
     ]
    }
   ],
   "source": [
    "growth_curve_fit.monte_carlo_dfs['Some mature biomass resource_p70'].info()"
   ]
  },
  {
   "cell_type": "code",
   "execution_count": 37,
   "id": "fc8520ab",
   "metadata": {},
   "outputs": [
    {
     "data": {
      "text/html": [
       "<div>\n",
       "<style scoped>\n",
       "    .dataframe tbody tr th:only-of-type {\n",
       "        vertical-align: middle;\n",
       "    }\n",
       "\n",
       "    .dataframe tbody tr th {\n",
       "        vertical-align: top;\n",
       "    }\n",
       "\n",
       "    .dataframe thead th {\n",
       "        text-align: right;\n",
       "    }\n",
       "</style>\n",
       "<table border=\"1\" class=\"dataframe\">\n",
       "  <thead>\n",
       "    <tr style=\"text-align: right;\">\n",
       "      <th></th>\n",
       "      <th>sim_0</th>\n",
       "      <th>sim_1</th>\n",
       "      <th>sim_2</th>\n",
       "      <th>sim_3</th>\n",
       "      <th>sim_4</th>\n",
       "      <th>sim_5</th>\n",
       "      <th>sim_6</th>\n",
       "      <th>sim_7</th>\n",
       "      <th>sim_8</th>\n",
       "      <th>sim_9</th>\n",
       "      <th>...</th>\n",
       "      <th>sim_490</th>\n",
       "      <th>sim_491</th>\n",
       "      <th>sim_492</th>\n",
       "      <th>sim_493</th>\n",
       "      <th>sim_494</th>\n",
       "      <th>sim_495</th>\n",
       "      <th>sim_496</th>\n",
       "      <th>sim_497</th>\n",
       "      <th>sim_498</th>\n",
       "      <th>sim_499</th>\n",
       "    </tr>\n",
       "  </thead>\n",
       "  <tbody>\n",
       "    <tr>\n",
       "      <th>0</th>\n",
       "      <td>23.775102</td>\n",
       "      <td>17.159417</td>\n",
       "      <td>26.800972</td>\n",
       "      <td>22.422357</td>\n",
       "      <td>15.280836</td>\n",
       "      <td>15.708442</td>\n",
       "      <td>14.423937</td>\n",
       "      <td>12.370978</td>\n",
       "      <td>18.614653</td>\n",
       "      <td>53.282853</td>\n",
       "      <td>...</td>\n",
       "      <td>34.633485</td>\n",
       "      <td>23.410237</td>\n",
       "      <td>14.563612</td>\n",
       "      <td>16.390086</td>\n",
       "      <td>25.805199</td>\n",
       "      <td>19.991520</td>\n",
       "      <td>16.756274</td>\n",
       "      <td>19.347580</td>\n",
       "      <td>18.271322</td>\n",
       "      <td>18.398523</td>\n",
       "    </tr>\n",
       "    <tr>\n",
       "      <th>1</th>\n",
       "      <td>38.532668</td>\n",
       "      <td>31.431137</td>\n",
       "      <td>38.584246</td>\n",
       "      <td>38.246793</td>\n",
       "      <td>31.995083</td>\n",
       "      <td>32.166519</td>\n",
       "      <td>37.413024</td>\n",
       "      <td>27.994999</td>\n",
       "      <td>35.647565</td>\n",
       "      <td>54.976095</td>\n",
       "      <td>...</td>\n",
       "      <td>42.468225</td>\n",
       "      <td>37.536031</td>\n",
       "      <td>28.110863</td>\n",
       "      <td>29.649545</td>\n",
       "      <td>40.796132</td>\n",
       "      <td>34.399495</td>\n",
       "      <td>30.317053</td>\n",
       "      <td>35.465245</td>\n",
       "      <td>34.733302</td>\n",
       "      <td>35.498782</td>\n",
       "    </tr>\n",
       "    <tr>\n",
       "      <th>2</th>\n",
       "      <td>47.330331</td>\n",
       "      <td>41.299306</td>\n",
       "      <td>45.801231</td>\n",
       "      <td>47.641085</td>\n",
       "      <td>43.410288</td>\n",
       "      <td>43.363406</td>\n",
       "      <td>50.431848</td>\n",
       "      <td>39.737324</td>\n",
       "      <td>46.295450</td>\n",
       "      <td>55.944651</td>\n",
       "      <td>...</td>\n",
       "      <td>47.168271</td>\n",
       "      <td>46.188229</td>\n",
       "      <td>38.117615</td>\n",
       "      <td>39.123197</td>\n",
       "      <td>49.248261</td>\n",
       "      <td>43.784034</td>\n",
       "      <td>39.890797</td>\n",
       "      <td>45.642113</td>\n",
       "      <td>45.283385</td>\n",
       "      <td>46.222594</td>\n",
       "    </tr>\n",
       "    <tr>\n",
       "      <th>3</th>\n",
       "      <td>52.535996</td>\n",
       "      <td>47.866197</td>\n",
       "      <td>50.466572</td>\n",
       "      <td>53.034680</td>\n",
       "      <td>50.416554</td>\n",
       "      <td>50.279530</td>\n",
       "      <td>56.169697</td>\n",
       "      <td>47.531909</td>\n",
       "      <td>52.435002</td>\n",
       "      <td>56.610122</td>\n",
       "      <td>...</td>\n",
       "      <td>50.353372</td>\n",
       "      <td>51.502383</td>\n",
       "      <td>45.149742</td>\n",
       "      <td>45.721321</td>\n",
       "      <td>53.988215</td>\n",
       "      <td>49.776246</td>\n",
       "      <td>46.462673</td>\n",
       "      <td>51.711284</td>\n",
       "      <td>51.574130</td>\n",
       "      <td>52.406317</td>\n",
       "    </tr>\n",
       "    <tr>\n",
       "      <th>4</th>\n",
       "      <td>55.606798</td>\n",
       "      <td>52.164856</td>\n",
       "      <td>53.554215</td>\n",
       "      <td>56.089998</td>\n",
       "      <td>54.533725</td>\n",
       "      <td>54.385821</td>\n",
       "      <td>58.498880</td>\n",
       "      <td>52.443130</td>\n",
       "      <td>55.863110</td>\n",
       "      <td>57.107578</td>\n",
       "      <td>...</td>\n",
       "      <td>52.634199</td>\n",
       "      <td>54.770088</td>\n",
       "      <td>49.984828</td>\n",
       "      <td>50.265504</td>\n",
       "      <td>56.640680</td>\n",
       "      <td>53.570236</td>\n",
       "      <td>50.919017</td>\n",
       "      <td>55.247625</td>\n",
       "      <td>55.217079</td>\n",
       "      <td>55.855151</td>\n",
       "    </tr>\n",
       "  </tbody>\n",
       "</table>\n",
       "<p>5 rows × 500 columns</p>\n",
       "</div>"
      ],
      "text/plain": [
       "       sim_0      sim_1      sim_2      sim_3      sim_4      sim_5  \\\n",
       "0  23.775102  17.159417  26.800972  22.422357  15.280836  15.708442   \n",
       "1  38.532668  31.431137  38.584246  38.246793  31.995083  32.166519   \n",
       "2  47.330331  41.299306  45.801231  47.641085  43.410288  43.363406   \n",
       "3  52.535996  47.866197  50.466572  53.034680  50.416554  50.279530   \n",
       "4  55.606798  52.164856  53.554215  56.089998  54.533725  54.385821   \n",
       "\n",
       "       sim_6      sim_7      sim_8      sim_9  ...    sim_490    sim_491  \\\n",
       "0  14.423937  12.370978  18.614653  53.282853  ...  34.633485  23.410237   \n",
       "1  37.413024  27.994999  35.647565  54.976095  ...  42.468225  37.536031   \n",
       "2  50.431848  39.737324  46.295450  55.944651  ...  47.168271  46.188229   \n",
       "3  56.169697  47.531909  52.435002  56.610122  ...  50.353372  51.502383   \n",
       "4  58.498880  52.443130  55.863110  57.107578  ...  52.634199  54.770088   \n",
       "\n",
       "     sim_492    sim_493    sim_494    sim_495    sim_496    sim_497  \\\n",
       "0  14.563612  16.390086  25.805199  19.991520  16.756274  19.347580   \n",
       "1  28.110863  29.649545  40.796132  34.399495  30.317053  35.465245   \n",
       "2  38.117615  39.123197  49.248261  43.784034  39.890797  45.642113   \n",
       "3  45.149742  45.721321  53.988215  49.776246  46.462673  51.711284   \n",
       "4  49.984828  50.265504  56.640680  53.570236  50.919017  55.247625   \n",
       "\n",
       "     sim_498    sim_499  \n",
       "0  18.271322  18.398523  \n",
       "1  34.733302  35.498782  \n",
       "2  45.283385  46.222594  \n",
       "3  51.574130  52.406317  \n",
       "4  55.217079  55.855151  \n",
       "\n",
       "[5 rows x 500 columns]"
      ]
     },
     "execution_count": 37,
     "metadata": {},
     "output_type": "execute_result"
    }
   ],
   "source": [
    "growth_curve_fit.monte_carlo_dfs['Some mature biomass resource_p70'].head()"
   ]
  },
  {
   "cell_type": "markdown",
   "id": "698f40d1",
   "metadata": {},
   "source": [
    "Get confidence interval around curve"
   ]
  },
  {
   "cell_type": "code",
   "execution_count": 39,
   "id": "d9e23fef",
   "metadata": {},
   "outputs": [],
   "source": [
    "from model_utilities.curve_fitting import GrowthCurveFit\n",
    "from model_utilities.visualization import plotting_ensemble\n",
    "from model_utilities.visualization import plotting_maxs\n",
    "from model_utilities.curve_fitting import ensemble_ci\n",
    "from model_utilities.curve_fitting import extract_ensemble_member"
   ]
  },
  {
   "cell_type": "code",
   "execution_count": 41,
   "id": "715c451f",
   "metadata": {},
   "outputs": [],
   "source": [
    "ensemble_bounded = ensemble_ci(growth_curve_fit)"
   ]
  },
  {
   "cell_type": "markdown",
   "id": "383a77a6",
   "metadata": {},
   "source": [
    "Plot the entire ensemble of curves"
   ]
  },
  {
   "cell_type": "code",
   "execution_count": 42,
   "id": "5f5c2b4f",
   "metadata": {},
   "outputs": [
    {
     "data": {
      "text/plain": [
       "<module 'matplotlib.pyplot' from '/Users/anikastaccone/opt/anaconda3/envs/spatial-env/lib/python3.9/site-packages/matplotlib/pyplot.py'>"
      ]
     },
     "execution_count": 42,
     "metadata": {},
     "output_type": "execute_result"
    },
    {
     "data": {
      "image/png": "[encoded data removed]",
      "text/plain": [
       "<Figure size 1500x500 with 1 Axes>"
      ]
     },
     "metadata": {},
     "output_type": "display_data"
    }
   ],
   "source": [
    "plotting_ensemble(growth_curve_fit, 'Example curve', 100, True)"
   ]
  },
  {
   "cell_type": "markdown",
   "id": "0f54732b",
   "metadata": {},
   "source": [
    "Plot just the single curve for each maximum"
   ]
  },
  {
   "cell_type": "code",
   "execution_count": 43,
   "id": "b9200b15",
   "metadata": {},
   "outputs": [
    {
     "data": {
      "text/plain": [
       "<module 'matplotlib.pyplot' from '/Users/anikastaccone/opt/anaconda3/envs/spatial-env/lib/python3.9/site-packages/matplotlib/pyplot.py'>"
      ]
     },
     "execution_count": 43,
     "metadata": {},
     "output_type": "execute_result"
    },
    {
     "data": {
      "image/png": "[encoded data removed]",
      "text/plain": [
       "<Figure size 1500x500 with 1 Axes>"
      ]
     },
     "metadata": {},
     "output_type": "display_data"
    }
   ],
   "source": [
    "plotting_maxs(growth_curve_fit, 'Example, bounded', 100, True)"
   ]
  },
  {
   "cell_type": "markdown",
   "id": "7e0708b8",
   "metadata": {},
   "source": [
    "Extract an ensemble member that most closely matches the given percentile"
   ]
  },
  {
   "cell_type": "code",
   "execution_count": 45,
   "id": "b3662e44",
   "metadata": {},
   "outputs": [
    {
     "data": {
      "text/plain": [
       "0     35.511441\n",
       "1     44.335845\n",
       "2     49.922842\n",
       "3     53.913123\n",
       "4     56.925031\n",
       "        ...    \n",
       "95    69.999997\n",
       "96    69.999998\n",
       "97    69.999998\n",
       "98    69.999998\n",
       "99    69.999998\n",
       "Name: 501, Length: 100, dtype: float64"
      ]
     },
     "execution_count": 45,
     "metadata": {},
     "output_type": "execute_result"
    }
   ],
   "source": [
    "mod_scenario = extract_ensemble_member(growth_curve_fit, ensemble_bounded, 0.5)\n",
    "mod_scenario"
   ]
  },
  {
   "cell_type": "markdown",
   "id": "f815f7ed",
   "metadata": {},
   "source": [
    "# With set p"
   ]
  },
  {
   "cell_type": "code",
   "execution_count": 18,
   "id": "7f66c275",
   "metadata": {},
   "outputs": [],
   "source": [
    "growth_curve_fit_p = GrowthCurveFit(growth_df=test_df)\n",
    "growth_curve_fit_p.set_maxes(max_df=max_biomass)\n",
    "growth_curve_fit_p.fit_curve(curve_formula='chapman_richards_set_ymax_and_p',\n",
    "                           curve_fit_params=None,\n",
    "                           set_params={'p':3})"
   ]
  },
  {
   "cell_type": "code",
   "execution_count": 19,
   "id": "e9e98872",
   "metadata": {},
   "outputs": [
    {
     "data": {
      "text/plain": [
       "[array([0.88037625]), array([0.67474268]), array([0.55062423])]"
      ]
     },
     "execution_count": 19,
     "metadata": {},
     "output_type": "execute_result"
    }
   ],
   "source": [
    "growth_curve_fit_p.params"
   ]
  },
  {
   "cell_type": "code",
   "execution_count": 20,
   "id": "de877804",
   "metadata": {},
   "outputs": [
    {
     "data": {
      "text/plain": [
       "[array([[0.01057887]]), array([[0.00909217]]), array([[0.00656257]])]"
      ]
     },
     "execution_count": 20,
     "metadata": {},
     "output_type": "execute_result"
    }
   ],
   "source": [
    "growth_curve_fit_p.covars"
   ]
  },
  {
   "cell_type": "code",
   "execution_count": 21,
   "id": "0673f800",
   "metadata": {},
   "outputs": [],
   "source": [
    "growth_curve_fit_p.predictions_with_monte_carlo(years_predict=100, n_mc=500)"
   ]
  },
  {
   "cell_type": "code",
   "execution_count": 26,
   "id": "cbe36a55",
   "metadata": {},
   "outputs": [
    {
     "data": {
      "text/html": [
       "<div>\n",
       "<style scoped>\n",
       "    .dataframe tbody tr th:only-of-type {\n",
       "        vertical-align: middle;\n",
       "    }\n",
       "\n",
       "    .dataframe tbody tr th {\n",
       "        vertical-align: top;\n",
       "    }\n",
       "\n",
       "    .dataframe thead th {\n",
       "        text-align: right;\n",
       "    }\n",
       "</style>\n",
       "<table border=\"1\" class=\"dataframe\">\n",
       "  <thead>\n",
       "    <tr style=\"text-align: right;\">\n",
       "      <th></th>\n",
       "      <th>Age</th>\n",
       "      <th>Some mature biomass resource_p70</th>\n",
       "      <th>Some mature biomass resource_p80</th>\n",
       "      <th>Some mature biomass resource_p90</th>\n",
       "    </tr>\n",
       "  </thead>\n",
       "  <tbody>\n",
       "    <tr>\n",
       "      <th>0</th>\n",
       "      <td>1</td>\n",
       "      <td>12.035097</td>\n",
       "      <td>8.271410</td>\n",
       "      <td>6.072591</td>\n",
       "    </tr>\n",
       "    <tr>\n",
       "      <th>1</th>\n",
       "      <td>2</td>\n",
       "      <td>34.070248</td>\n",
       "      <td>28.437762</td>\n",
       "      <td>23.797434</td>\n",
       "    </tr>\n",
       "    <tr>\n",
       "      <th>2</th>\n",
       "      <td>3</td>\n",
       "      <td>48.062302</td>\n",
       "      <td>45.762890</td>\n",
       "      <td>42.249627</td>\n",
       "    </tr>\n",
       "    <tr>\n",
       "      <th>3</th>\n",
       "      <td>4</td>\n",
       "      <td>54.835794</td>\n",
       "      <td>56.801432</td>\n",
       "      <td>56.297426</td>\n",
       "    </tr>\n",
       "    <tr>\n",
       "      <th>4</th>\n",
       "      <td>5</td>\n",
       "      <td>57.821152</td>\n",
       "      <td>63.048647</td>\n",
       "      <td>65.659141</td>\n",
       "    </tr>\n",
       "    <tr>\n",
       "      <th>...</th>\n",
       "      <td>...</td>\n",
       "      <td>...</td>\n",
       "      <td>...</td>\n",
       "      <td>...</td>\n",
       "    </tr>\n",
       "    <tr>\n",
       "      <th>95</th>\n",
       "      <td>96</td>\n",
       "      <td>60.000000</td>\n",
       "      <td>70.000000</td>\n",
       "      <td>80.000000</td>\n",
       "    </tr>\n",
       "    <tr>\n",
       "      <th>96</th>\n",
       "      <td>97</td>\n",
       "      <td>60.000000</td>\n",
       "      <td>70.000000</td>\n",
       "      <td>80.000000</td>\n",
       "    </tr>\n",
       "    <tr>\n",
       "      <th>97</th>\n",
       "      <td>98</td>\n",
       "      <td>60.000000</td>\n",
       "      <td>70.000000</td>\n",
       "      <td>80.000000</td>\n",
       "    </tr>\n",
       "    <tr>\n",
       "      <th>98</th>\n",
       "      <td>99</td>\n",
       "      <td>60.000000</td>\n",
       "      <td>70.000000</td>\n",
       "      <td>80.000000</td>\n",
       "    </tr>\n",
       "    <tr>\n",
       "      <th>99</th>\n",
       "      <td>100</td>\n",
       "      <td>60.000000</td>\n",
       "      <td>70.000000</td>\n",
       "      <td>80.000000</td>\n",
       "    </tr>\n",
       "  </tbody>\n",
       "</table>\n",
       "<p>100 rows × 4 columns</p>\n",
       "</div>"
      ],
      "text/plain": [
       "    Age  Some mature biomass resource_p70  Some mature biomass resource_p80  \\\n",
       "0     1                         12.035097                          8.271410   \n",
       "1     2                         34.070248                         28.437762   \n",
       "2     3                         48.062302                         45.762890   \n",
       "3     4                         54.835794                         56.801432   \n",
       "4     5                         57.821152                         63.048647   \n",
       "..  ...                               ...                               ...   \n",
       "95   96                         60.000000                         70.000000   \n",
       "96   97                         60.000000                         70.000000   \n",
       "97   98                         60.000000                         70.000000   \n",
       "98   99                         60.000000                         70.000000   \n",
       "99  100                         60.000000                         70.000000   \n",
       "\n",
       "    Some mature biomass resource_p90  \n",
       "0                           6.072591  \n",
       "1                          23.797434  \n",
       "2                          42.249627  \n",
       "3                          56.297426  \n",
       "4                          65.659141  \n",
       "..                               ...  \n",
       "95                         80.000000  \n",
       "96                         80.000000  \n",
       "97                         80.000000  \n",
       "98                         80.000000  \n",
       "99                         80.000000  \n",
       "\n",
       "[100 rows x 4 columns]"
      ]
     },
     "execution_count": 26,
     "metadata": {},
     "output_type": "execute_result"
    }
   ],
   "source": [
    "growth_curve_fit_p.prediction_df"
   ]
  }
 ],
 "metadata": {
  "kernelspec": {
   "display_name": "Python 3 (ipykernel)",
   "language": "python",
   "name": "python3"
  },
  "language_info": {
   "codemirror_mode": {
    "name": "ipython",
    "version": 3
   },
   "file_extension": ".py",
   "mimetype": "text/x-python",
   "name": "python",
   "nbconvert_exporter": "python",
   "pygments_lexer": "ipython3",
   "version": "3.9.13"
  }
 },
 "nbformat": 4,
 "nbformat_minor": 5
}
