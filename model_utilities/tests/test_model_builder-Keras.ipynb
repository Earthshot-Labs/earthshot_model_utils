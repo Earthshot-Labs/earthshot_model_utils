{
 "cells": [
  {
   "cell_type": "markdown",
   "id": "045150a2-ac12-49ff-b8ea-1965c0930679",
   "metadata": {
    "tags": []
   },
   "source": [
    "# Imports"
   ]
  },
  {
   "cell_type": "code",
   "execution_count": 1,
   "id": "464e28de-25f9-449a-8e89-ed9c0efcdee3",
   "metadata": {},
   "outputs": [],
   "source": [
    "import sys\n",
    " \n",
    "# setting path\n",
    "sys.path.append('..')"
   ]
  },
  {
   "cell_type": "code",
   "execution_count": 2,
   "id": "56fe9791-61b6-4336-b447-c5968e1c5e05",
   "metadata": {},
   "outputs": [
    {
     "name": "stderr",
     "output_type": "stream",
     "text": [
      "2022-11-22 11:17:23.451925: I tensorflow/core/platform/cpu_feature_guard.cc:193] This TensorFlow binary is optimized with oneAPI Deep Neural Network Library (oneDNN) to use the following CPU instructions in performance-critical operations:  AVX2 FMA\n",
      "To enable them in other operations, rebuild TensorFlow with the appropriate compiler flags.\n"
     ]
    }
   ],
   "source": [
    "from model_builder import ModelBuilder\n",
    "import matplotlib.pyplot as plt\n",
    "import numpy as np"
   ]
  },
  {
   "cell_type": "markdown",
   "id": "c29ab76f-ffc0-47e0-9ca7-cbb002ebaea5",
   "metadata": {
    "tags": []
   },
   "source": [
    "# Model"
   ]
  },
  {
   "cell_type": "code",
   "execution_count": 3,
   "id": "2f343ed5-dfc8-49fa-8702-cfe65e31d11c",
   "metadata": {},
   "outputs": [],
   "source": [
    "model_builder = ModelBuilder()"
   ]
  },
  {
   "cell_type": "markdown",
   "id": "e9e2f9c0-605d-431e-99b2-e8243ca7a3af",
   "metadata": {
    "tags": []
   },
   "source": [
    "# Create Dataset"
   ]
  },
  {
   "cell_type": "markdown",
   "id": "e3767946-dfcf-4d6f-b472-67444b56f592",
   "metadata": {},
   "source": [
    "We want to predict the deforestation risk using predictors such as terrain information, proximity to roads/pasture/agriculture/urbanization, population density, etc."
   ]
  },
  {
   "cell_type": "code",
   "execution_count": 4,
   "id": "61bd644d-998b-4287-bbf9-8146568c2ec4",
   "metadata": {},
   "outputs": [],
   "source": [
    "response_variable=['Response_Variable_Brazil_Atlantic_Forest_0forest_1deforested']\n",
    "\n",
    "feature_names = ['elevation', 'slope', 'south_america_rivers', 'brazil_roads', 'urban_distance', 'brazil_protected_areas', \n",
    "                 'brazil_surrounding_forest', 'brazil_pasture', 'brazil_agriculture', 'population_density']\n",
    "\n",
    "\n",
    "gcp_bucket = 'eartshot-science-team'\n",
    "gcp_folder_name = 'deforestation_risk'\n",
    "samples_folder_name = f'Brazil_Atlantic_Forest_100km2_grids_samples_csv_scale30_1000numPoints'\n",
    "name_csv_samples_merged_file = '/Users/margauxmforstyhe/Desktop/Brazil_Atlantic_Forest_100km2_grids_samples_csv_scale30_1000numPoints/Brazil_Atlantic_Forest_100km2_grids_samples_csv_scale30_1000numPoints_val_test_set_10km_buffer.csv'\n"
   ]
  },
  {
   "cell_type": "code",
   "execution_count": 5,
   "id": "ce32ca29-a2c6-4399-a956-2740c002f4c3",
   "metadata": {},
   "outputs": [
    {
     "name": "stdout",
     "output_type": "stream",
     "text": [
      "Reading sample csv file: /Users/margauxmforstyhe/Desktop/Brazil_Atlantic_Forest_100km2_grids_samples_csv_scale30_1000numPoints/Brazil_Atlantic_Forest_100km2_grids_samples_csv_scale30_1000numPoints_val_test_set_10km_buffer.csv...\n",
      "We have 2049422 samples\n",
      "Training samples: 1747328\n",
      "Test samples: 154048\n",
      "Validation samples: 100210\n"
     ]
    }
   ],
   "source": [
    "model_builder.train_val_test_split(response_variable=response_variable, \n",
    "                             samples_csv_local=True,\n",
    "                             feature_names=feature_names, \n",
    "                             gcp_bucket=gcp_bucket, \n",
    "                             gcp_folder_name=gcp_folder_name, \n",
    "                             samples_folder_name= samples_folder_name, \n",
    "                             name_csv_samples_merged_file = name_csv_samples_merged_file, \n",
    "                             use_test_val_buffered_sets = True,\n",
    "                             name_test_buffer_column='test_set_5km_buffer', \n",
    "                             name_val_buffer_column='val_set_5km_buffer', \n",
    "                             name_test_no_buffer_column='test_set_no_buffer', \n",
    "                             name_val_no_buffer_column='val_set_no_buffer'\n",
    "                            )"
   ]
  },
  {
   "cell_type": "code",
   "execution_count": 6,
   "id": "5fcb300d-6467-435c-b519-2d4b46a3ad58",
   "metadata": {},
   "outputs": [
    {
     "data": {
      "text/html": [
       "<div>\n",
       "<style scoped>\n",
       "    .dataframe tbody tr th:only-of-type {\n",
       "        vertical-align: middle;\n",
       "    }\n",
       "\n",
       "    .dataframe tbody tr th {\n",
       "        vertical-align: top;\n",
       "    }\n",
       "\n",
       "    .dataframe thead th {\n",
       "        text-align: right;\n",
       "    }\n",
       "</style>\n",
       "<table border=\"1\" class=\"dataframe\">\n",
       "  <thead>\n",
       "    <tr style=\"text-align: right;\">\n",
       "      <th></th>\n",
       "      <th>elevation</th>\n",
       "      <th>slope</th>\n",
       "      <th>south_america_rivers</th>\n",
       "      <th>brazil_roads</th>\n",
       "      <th>urban_distance</th>\n",
       "      <th>brazil_protected_areas</th>\n",
       "      <th>brazil_surrounding_forest</th>\n",
       "      <th>brazil_pasture</th>\n",
       "      <th>brazil_agriculture</th>\n",
       "      <th>population_density</th>\n",
       "    </tr>\n",
       "  </thead>\n",
       "  <tbody>\n",
       "    <tr>\n",
       "      <th>0</th>\n",
       "      <td>869</td>\n",
       "      <td>13</td>\n",
       "      <td>1518.664433</td>\n",
       "      <td>2873.801980</td>\n",
       "      <td>5345.078959</td>\n",
       "      <td>2179.586239</td>\n",
       "      <td>551</td>\n",
       "      <td>410</td>\n",
       "      <td>0</td>\n",
       "      <td>5.704395</td>\n",
       "    </tr>\n",
       "    <tr>\n",
       "      <th>1</th>\n",
       "      <td>721</td>\n",
       "      <td>1</td>\n",
       "      <td>98.310911</td>\n",
       "      <td>2322.053210</td>\n",
       "      <td>4948.878571</td>\n",
       "      <td>14557.519415</td>\n",
       "      <td>264</td>\n",
       "      <td>681</td>\n",
       "      <td>0</td>\n",
       "      <td>10.263613</td>\n",
       "    </tr>\n",
       "    <tr>\n",
       "      <th>2</th>\n",
       "      <td>732</td>\n",
       "      <td>13</td>\n",
       "      <td>1253.784381</td>\n",
       "      <td>1180.367924</td>\n",
       "      <td>1645.039295</td>\n",
       "      <td>8346.471172</td>\n",
       "      <td>489</td>\n",
       "      <td>472</td>\n",
       "      <td>0</td>\n",
       "      <td>7.898481</td>\n",
       "    </tr>\n",
       "    <tr>\n",
       "      <th>3</th>\n",
       "      <td>703</td>\n",
       "      <td>9</td>\n",
       "      <td>9.525783</td>\n",
       "      <td>240.075231</td>\n",
       "      <td>1993.081749</td>\n",
       "      <td>239.931041</td>\n",
       "      <td>223</td>\n",
       "      <td>738</td>\n",
       "      <td>0</td>\n",
       "      <td>10.324286</td>\n",
       "    </tr>\n",
       "    <tr>\n",
       "      <th>4</th>\n",
       "      <td>658</td>\n",
       "      <td>14</td>\n",
       "      <td>642.599781</td>\n",
       "      <td>1198.455174</td>\n",
       "      <td>7399.016408</td>\n",
       "      <td>7515.323787</td>\n",
       "      <td>611</td>\n",
       "      <td>350</td>\n",
       "      <td>0</td>\n",
       "      <td>2.888458</td>\n",
       "    </tr>\n",
       "  </tbody>\n",
       "</table>\n",
       "</div>"
      ],
      "text/plain": [
       "   elevation  slope  south_america_rivers  brazil_roads  urban_distance  \\\n",
       "0        869     13           1518.664433   2873.801980     5345.078959   \n",
       "1        721      1             98.310911   2322.053210     4948.878571   \n",
       "2        732     13           1253.784381   1180.367924     1645.039295   \n",
       "3        703      9              9.525783    240.075231     1993.081749   \n",
       "4        658     14            642.599781   1198.455174     7399.016408   \n",
       "\n",
       "   brazil_protected_areas  brazil_surrounding_forest  brazil_pasture  \\\n",
       "0             2179.586239                        551             410   \n",
       "1            14557.519415                        264             681   \n",
       "2             8346.471172                        489             472   \n",
       "3              239.931041                        223             738   \n",
       "4             7515.323787                        611             350   \n",
       "\n",
       "   brazil_agriculture  population_density  \n",
       "0                   0            5.704395  \n",
       "1                   0           10.263613  \n",
       "2                   0            7.898481  \n",
       "3                   0           10.324286  \n",
       "4                   0            2.888458  "
      ]
     },
     "execution_count": 6,
     "metadata": {},
     "output_type": "execute_result"
    }
   ],
   "source": [
    "model_builder.X_train.head()"
   ]
  },
  {
   "cell_type": "code",
   "execution_count": 7,
   "id": "3f17ad91-53ba-4320-a1ba-02fe83ebb85a",
   "metadata": {},
   "outputs": [
    {
     "data": {
      "text/html": [
       "<div>\n",
       "<style scoped>\n",
       "    .dataframe tbody tr th:only-of-type {\n",
       "        vertical-align: middle;\n",
       "    }\n",
       "\n",
       "    .dataframe tbody tr th {\n",
       "        vertical-align: top;\n",
       "    }\n",
       "\n",
       "    .dataframe thead th {\n",
       "        text-align: right;\n",
       "    }\n",
       "</style>\n",
       "<table border=\"1\" class=\"dataframe\">\n",
       "  <thead>\n",
       "    <tr style=\"text-align: right;\">\n",
       "      <th></th>\n",
       "      <th>Response_Variable_Brazil_Atlantic_Forest_0forest_1deforested</th>\n",
       "    </tr>\n",
       "  </thead>\n",
       "  <tbody>\n",
       "    <tr>\n",
       "      <th>0</th>\n",
       "      <td>0</td>\n",
       "    </tr>\n",
       "    <tr>\n",
       "      <th>1</th>\n",
       "      <td>0</td>\n",
       "    </tr>\n",
       "  </tbody>\n",
       "</table>\n",
       "</div>"
      ],
      "text/plain": [
       "   Response_Variable_Brazil_Atlantic_Forest_0forest_1deforested\n",
       "0                                                  0           \n",
       "1                                                  0           "
      ]
     },
     "execution_count": 7,
     "metadata": {},
     "output_type": "execute_result"
    }
   ],
   "source": [
    "model_builder.y_train.head(2)"
   ]
  },
  {
   "cell_type": "code",
   "execution_count": 8,
   "id": "411d6276-f646-4e13-bb58-7274c371e9cc",
   "metadata": {},
   "outputs": [
    {
     "name": "stdout",
     "output_type": "stream",
     "text": [
      "There are 1493178 forest samples and 254150 deforested samples in training set\n",
      "There are 85599 forest samples and 14611 deforested samples in validation set\n",
      "There are 130743 forest samples and 23305 deforested samples in test set\n"
     ]
    }
   ],
   "source": [
    "nb_forest_samples = model_builder.y_train[model_builder.y_train[response_variable[0]] == 0][response_variable[0]].count()\n",
    "nb_deforested_samples = model_builder.y_train[model_builder.y_train[response_variable[0]] == 1][response_variable[0]].count()\n",
    "print(f'There are {nb_forest_samples} forest samples and {nb_deforested_samples} deforested samples in training set')\n",
    "\n",
    "nb_forest_samples = model_builder.y_val[model_builder.y_val[response_variable[0]] == 0][response_variable[0]].count()\n",
    "nb_deforested_samples = model_builder.y_val[model_builder.y_val[response_variable[0]] == 1][response_variable[0]].count()\n",
    "print(f'There are {nb_forest_samples} forest samples and {nb_deforested_samples} deforested samples in validation set')\n",
    "\n",
    "nb_forest_samples_test = model_builder.y_test[model_builder.y_test[response_variable[0]] == 0][response_variable[0]].count()\n",
    "nb_deforested_samples_test = model_builder.y_test[model_builder.y_test[response_variable[0]] == 1][response_variable[0]].count()\n",
    "print(f'There are {nb_forest_samples_test} forest samples and {nb_deforested_samples_test} deforested samples in test set')\n"
   ]
  },
  {
   "cell_type": "code",
   "execution_count": 9,
   "id": "73963ca7-84d8-40c5-b52f-bca3b63c6cb1",
   "metadata": {},
   "outputs": [
    {
     "data": {
      "text/plain": [
       "(1747328, 10)"
      ]
     },
     "execution_count": 9,
     "metadata": {},
     "output_type": "execute_result"
    }
   ],
   "source": [
    "# Training Predictors samples \n",
    "model_builder.X_train.shape"
   ]
  },
  {
   "cell_type": "code",
   "execution_count": 10,
   "id": "895465ea-3028-400a-a895-78b44981999d",
   "metadata": {},
   "outputs": [
    {
     "data": {
      "text/plain": [
       "(1747328, 1)"
      ]
     },
     "execution_count": 10,
     "metadata": {},
     "output_type": "execute_result"
    }
   ],
   "source": [
    "# Training Response samples \n",
    "model_builder.y_train.shape"
   ]
  },
  {
   "cell_type": "code",
   "execution_count": 11,
   "id": "bc46b4e5-0386-4ac9-aef5-31471ef357d0",
   "metadata": {},
   "outputs": [
    {
     "data": {
      "text/plain": [
       "(154048, 10)"
      ]
     },
     "execution_count": 11,
     "metadata": {},
     "output_type": "execute_result"
    }
   ],
   "source": [
    "# Test Predictors samples \n",
    "model_builder.X_test.shape"
   ]
  },
  {
   "cell_type": "code",
   "execution_count": 12,
   "id": "8cddb68f-b2fd-4853-bde6-bce8a74d5872",
   "metadata": {},
   "outputs": [
    {
     "data": {
      "text/plain": [
       "(154048, 1)"
      ]
     },
     "execution_count": 12,
     "metadata": {},
     "output_type": "execute_result"
    }
   ],
   "source": [
    "# Test Response samples \n",
    "model_builder.y_test.shape"
   ]
  },
  {
   "cell_type": "code",
   "execution_count": 13,
   "id": "061e450b-952b-4a6a-9965-92415d63873d",
   "metadata": {},
   "outputs": [
    {
     "data": {
      "text/plain": [
       "['elevation',\n",
       " 'slope',\n",
       " 'south_america_rivers',\n",
       " 'brazil_roads',\n",
       " 'urban_distance',\n",
       " 'brazil_protected_areas',\n",
       " 'brazil_surrounding_forest',\n",
       " 'brazil_pasture',\n",
       " 'brazil_agriculture',\n",
       " 'population_density']"
      ]
     },
     "execution_count": 13,
     "metadata": {},
     "output_type": "execute_result"
    }
   ],
   "source": [
    "model_builder.feature_names"
   ]
  },
  {
   "cell_type": "code",
   "execution_count": 14,
   "id": "4f48569e-7498-4b38-bf0c-7d9ca7ff1111",
   "metadata": {},
   "outputs": [
    {
     "data": {
      "text/plain": [
       "['Response_Variable_Brazil_Atlantic_Forest_0forest_1deforested']"
      ]
     },
     "execution_count": 14,
     "metadata": {},
     "output_type": "execute_result"
    }
   ],
   "source": [
    "model_builder.response_variable"
   ]
  },
  {
   "cell_type": "markdown",
   "id": "64038099-75a8-4d78-bdd4-d4b9fe5e7503",
   "metadata": {},
   "source": [
    "# Training"
   ]
  },
  {
   "cell_type": "code",
   "execution_count": 15,
   "id": "4ab753a7-989a-4f80-81cf-6ba816217985",
   "metadata": {},
   "outputs": [
    {
     "name": "stderr",
     "output_type": "stream",
     "text": [
      "2022-11-22 11:17:36.282727: I tensorflow/core/platform/cpu_feature_guard.cc:193] This TensorFlow binary is optimized with oneAPI Deep Neural Network Library (oneDNN) to use the following CPU instructions in performance-critical operations:  AVX2 FMA\n",
      "To enable them in other operations, rebuild TensorFlow with the appropriate compiler flags.\n"
     ]
    }
   ],
   "source": [
    "import tensorflow as tf\n",
    "model_builder.initialize_regression_model(model_type='KerasLogisticRegression', \n",
    "                                          optimizer=tf.keras.optimizers.Adam(0.00001), \n",
    "                                          loss='mean_absolute_error')"
   ]
  },
  {
   "cell_type": "code",
   "execution_count": 16,
   "id": "937b3c4d-d7cf-4acf-a4a1-4d2d3373d162",
   "metadata": {},
   "outputs": [
    {
     "name": "stdout",
     "output_type": "stream",
     "text": [
      "Model: \"sequential\"\n",
      "_________________________________________________________________\n",
      " Layer (type)                Output Shape              Param #   \n",
      "=================================================================\n",
      " normalization (Normalizatio  (None, 10)               3         \n",
      " n)                                                              \n",
      "                                                                 \n",
      " dense (Dense)               (None, 1)                 11        \n",
      "                                                                 \n",
      "=================================================================\n",
      "Total params: 14\n",
      "Trainable params: 11\n",
      "Non-trainable params: 3\n",
      "_________________________________________________________________\n"
     ]
    }
   ],
   "source": [
    "model_builder.model.summary()"
   ]
  },
  {
   "cell_type": "code",
   "execution_count": 17,
   "id": "90af0421-6efb-4b14-98d0-1a793c99cbd3",
   "metadata": {},
   "outputs": [],
   "source": [
    "early_stop = tf.keras.callbacks.EarlyStopping(\n",
    "                monitor='val_loss', patience=11, verbose=1,\n",
    "                mode='min', restore_best_weights=True\n",
    "            )\n",
    "reduce_lr = tf.keras.callbacks.ReduceLROnPlateau(monitor='val_loss', mode='min', factor=0.2, patience=5,verbose=1)"
   ]
  },
  {
   "cell_type": "code",
   "execution_count": 18,
   "id": "d8cff219-54ec-440d-a8db-aa30c9994664",
   "metadata": {},
   "outputs": [
    {
     "name": "stdout",
     "output_type": "stream",
     "text": [
      "Epoch 1/50\n",
      "54604/54604 [==============================] - 46s 836us/step - loss: 0.2863 - val_loss: 0.2186 - lr: 1.0000e-05\n",
      "Epoch 2/50\n",
      "54604/54604 [==============================] - 45s 818us/step - loss: 0.1724 - val_loss: 0.1622 - lr: 1.0000e-05\n",
      "Epoch 3/50\n",
      "54604/54604 [==============================] - 47s 865us/step - loss: 0.1507 - val_loss: 0.1495 - lr: 1.0000e-05\n",
      "Epoch 4/50\n",
      "54604/54604 [==============================] - 45s 832us/step - loss: 0.1466 - val_loss: 0.1466 - lr: 1.0000e-05\n",
      "Epoch 5/50\n",
      "54604/54604 [==============================] - 47s 855us/step - loss: 0.1456 - val_loss: 0.1460 - lr: 1.0000e-05\n",
      "Epoch 6/50\n",
      "54604/54604 [==============================] - 45s 818us/step - loss: 0.1455 - val_loss: 0.1459 - lr: 1.0000e-05\n",
      "Epoch 7/50\n",
      "54604/54604 [==============================] - 43s 795us/step - loss: 0.1455 - val_loss: 0.1458 - lr: 1.0000e-05\n",
      "Epoch 8/50\n",
      "54604/54604 [==============================] - 45s 816us/step - loss: 0.1455 - val_loss: 0.1458 - lr: 1.0000e-05\n",
      "Epoch 9/50\n",
      "54604/54604 [==============================] - 44s 797us/step - loss: 0.1455 - val_loss: 0.1458 - lr: 1.0000e-05\n",
      "Epoch 10/50\n",
      "54604/54604 [==============================] - 47s 868us/step - loss: 0.1455 - val_loss: 0.1458 - lr: 1.0000e-05\n",
      "Epoch 11/50\n",
      "54571/54604 [============================>.] - ETA: 0s - loss: 0.1454\n",
      "Epoch 11: ReduceLROnPlateau reducing learning rate to 1.9999999494757505e-06.\n",
      "54604/54604 [==============================] - 46s 838us/step - loss: 0.1455 - val_loss: 0.1458 - lr: 1.0000e-05\n",
      "Epoch 12/50\n",
      "54604/54604 [==============================] - 48s 887us/step - loss: 0.1455 - val_loss: 0.1458 - lr: 2.0000e-06\n",
      "Epoch 13/50\n",
      "54604/54604 [==============================] - 45s 816us/step - loss: 0.1455 - val_loss: 0.1458 - lr: 2.0000e-06\n",
      "Epoch 14/50\n",
      "54604/54604 [==============================] - 46s 845us/step - loss: 0.1455 - val_loss: 0.1458 - lr: 2.0000e-06\n",
      "Epoch 15/50\n",
      "54604/54604 [==============================] - 46s 844us/step - loss: 0.1455 - val_loss: 0.1458 - lr: 2.0000e-06\n",
      "Epoch 16/50\n",
      "54589/54604 [============================>.] - ETA: 0s - loss: 0.1454\n",
      "Epoch 16: ReduceLROnPlateau reducing learning rate to 3.999999989900971e-07.\n",
      "54604/54604 [==============================] - 48s 871us/step - loss: 0.1455 - val_loss: 0.1458 - lr: 2.0000e-06\n",
      "Epoch 17/50\n",
      "54604/54604 [==============================] - 45s 826us/step - loss: 0.1455 - val_loss: 0.1458 - lr: 4.0000e-07\n",
      "Epoch 18/50\n",
      "54604/54604 [==============================] - 46s 841us/step - loss: 0.1455 - val_loss: 0.1458 - lr: 4.0000e-07\n",
      "Epoch 19/50\n",
      "54604/54604 [==============================] - 44s 810us/step - loss: 0.1455 - val_loss: 0.1458 - lr: 4.0000e-07\n",
      "Epoch 20/50\n",
      "54604/54604 [==============================] - 45s 828us/step - loss: 0.1455 - val_loss: 0.1458 - lr: 4.0000e-07\n",
      "Epoch 21/50\n",
      "54568/54604 [============================>.] - ETA: 0s - loss: 0.1454\n",
      "Epoch 21: ReduceLROnPlateau reducing learning rate to 8.00000009348878e-08.\n",
      "54604/54604 [==============================] - 46s 835us/step - loss: 0.1455 - val_loss: 0.1458 - lr: 4.0000e-07\n",
      "Epoch 22/50\n",
      "54604/54604 [==============================] - 50s 907us/step - loss: 0.1455 - val_loss: 0.1458 - lr: 8.0000e-08\n",
      "Epoch 23/50\n",
      "54604/54604 [==============================] - 48s 873us/step - loss: 0.1455 - val_loss: 0.1458 - lr: 8.0000e-08\n",
      "Epoch 24/50\n",
      "54604/54604 [==============================] - 45s 821us/step - loss: 0.1455 - val_loss: 0.1458 - lr: 8.0000e-08\n",
      "Epoch 25/50\n",
      "54604/54604 [==============================] - 45s 828us/step - loss: 0.1455 - val_loss: 0.1458 - lr: 8.0000e-08\n",
      "Epoch 26/50\n",
      "54553/54604 [============================>.] - ETA: 0s - loss: 0.1455\n",
      "Epoch 26: ReduceLROnPlateau reducing learning rate to 1.5999999902760466e-08.\n",
      "54604/54604 [==============================] - 48s 874us/step - loss: 0.1455 - val_loss: 0.1458 - lr: 8.0000e-08\n",
      "Epoch 27/50\n",
      "54604/54604 [==============================] - 47s 863us/step - loss: 0.1455 - val_loss: 0.1458 - lr: 1.6000e-08\n",
      "Epoch 28/50\n",
      "54604/54604 [==============================] - 43s 792us/step - loss: 0.1455 - val_loss: 0.1458 - lr: 1.6000e-08\n",
      "Epoch 29/50\n",
      "54604/54604 [==============================] - 51s 938us/step - loss: 0.1455 - val_loss: 0.1458 - lr: 1.6000e-08\n",
      "Epoch 30/50\n",
      "54604/54604 [==============================] - 45s 830us/step - loss: 0.1455 - val_loss: 0.1458 - lr: 1.6000e-08\n",
      "Epoch 31/50\n",
      "54557/54604 [============================>.] - ETA: 0s - loss: 0.1455\n",
      "Epoch 31: ReduceLROnPlateau reducing learning rate to 3.1999999094978194e-09.\n",
      "54604/54604 [==============================] - 60s 1ms/step - loss: 0.1455 - val_loss: 0.1458 - lr: 1.6000e-08\n",
      "Epoch 32/50\n",
      "54585/54604 [============================>.] - ETA: 0s - loss: 0.1455Restoring model weights from the end of the best epoch: 21.\n",
      "54604/54604 [==============================] - 45s 823us/step - loss: 0.1455 - val_loss: 0.1458 - lr: 3.2000e-09\n",
      "Epoch 32: early stopping\n"
     ]
    }
   ],
   "source": [
    "model_builder.train(epochs=50, callbacks=[early_stop, reduce_lr])"
   ]
  },
  {
   "cell_type": "markdown",
   "id": "f6a926e4-ab00-4d47-92ff-199fa980598b",
   "metadata": {},
   "source": [
    "# Evaluation"
   ]
  },
  {
   "cell_type": "code",
   "execution_count": 19,
   "id": "1088713b-10fc-4359-a59c-0427c57346dd",
   "metadata": {
    "tags": []
   },
   "outputs": [
    {
     "name": "stdout",
     "output_type": "stream",
     "text": [
      "\n",
      "Evaluation...\n",
      "3132/3132 [==============================] - 3s 726us/step\n",
      "\n",
      "\n",
      "\n",
      "Mean Absolute Error (MAE): 0.1458148533426502\n",
      "Mean Squared Error (MSE): 0.14581248409234163\n",
      "Root Mean Squared Error (RMSE): 0.38185400887294824\n",
      "R2: -0.17076087659359462\n"
     ]
    },
    {
     "data": {
      "image/png": "[encoded data removed]",
      "text/plain": [
       "<Figure size 500x500 with 1 Axes>"
      ]
     },
     "metadata": {},
     "output_type": "display_data"
    }
   ],
   "source": [
    "# On validation set\n",
    "y_pred_val, mae_val, mse_val, rmse_val, oob_score_val, r2_val, feature_imp_val = model_builder.evaluate(X_test=model_builder.X_val,\n",
    "                                                                    y_test=model_builder.y_val,\n",
    "                                                                    save_figures=False, saving_base_output_name='testing_val_set')"
   ]
  },
  {
   "cell_type": "code",
   "execution_count": 20,
   "id": "105bb2d2-8b69-450a-85a4-e9c1f9ca66be",
   "metadata": {
    "tags": []
   },
   "outputs": [
    {
     "name": "stdout",
     "output_type": "stream",
     "text": [
      "\n",
      "Evaluation...\n",
      "4814/4814 [==============================] - 3s 531us/step\n",
      "\n",
      "\n",
      "\n",
      "Mean Absolute Error (MAE): 0.1512841992639819\n",
      "Mean Squared Error (MSE): 0.1512839580419382\n",
      "Root Mean Squared Error (RMSE): 0.38895238531462717\n",
      "R2: -0.17825001432336074\n"
     ]
    },
    {
     "data": {
      "image/png": "[encoded data removed]",
      "text/plain": [
       "<Figure size 500x500 with 1 Axes>"
      ]
     },
     "metadata": {},
     "output_type": "display_data"
    }
   ],
   "source": [
    "# On test set\n",
    "y_pred_test, mae_test, mse_test, rmse_test, oob_score_test, r2_test, feature_imp_test = model_builder.evaluate(X_test=model_builder.X_test,\n",
    "                                                                    y_test=model_builder.y_test,\n",
    "                                                                    save_figures=False, saving_base_output_name='testing_test_set')"
   ]
  },
  {
   "cell_type": "code",
   "execution_count": 21,
   "id": "1878799f-760b-48e5-8e24-d650cfedb398",
   "metadata": {},
   "outputs": [
    {
     "data": {
      "image/png": "[encoded data removed]",
      "text/plain": [
       "<Figure size 640x480 with 1 Axes>"
      ]
     },
     "metadata": {},
     "output_type": "display_data"
    }
   ],
   "source": [
    "predictor = 'population_density'\n",
    "plt.scatter(model_builder.X_test[predictor].values, model_builder.y_test, color = 'green')\n",
    "plt.scatter(model_builder.X_test[predictor].values, y_pred_test, color = 'blue')\n",
    "plt.title('Random Forest Regression')\n",
    "plt.xlabel(predictor)\n",
    "plt.ylabel('Deforestation risk')\n",
    "plt.show()"
   ]
  },
  {
   "cell_type": "markdown",
   "id": "3dffac4a-7fe1-45b4-85b0-c150db62b66f",
   "metadata": {
    "tags": []
   },
   "source": [
    "# Inference on tiles"
   ]
  },
  {
   "cell_type": "code",
   "execution_count": 22,
   "id": "a05e4fa1-0e95-42d4-b722-28e694aafe94",
   "metadata": {
    "scrolled": true,
    "tags": []
   },
   "outputs": [],
   "source": [
    "model_builder.inference(mask_band='forest_age', \n",
    "                        tiles_folder_name='Brazil_Deforestation_Risk_inference_200km2_grid_scale30', \n",
    "                        tiles_in_GCP=False,   # Running locally\n",
    "                        RF_output_folder_temp='TEST_Keras_outputs_temp',\n",
    "                        path_to_tiles_local='/Users/margauxmforstyhe/Desktop/Brazil_Deforestation_Risk_inference_200km2_grid_scale30'\n",
    "                       )\n"
   ]
  },
  {
   "cell_type": "code",
   "execution_count": null,
   "id": "2efe8699-9c56-4710-a899-fc76b98e7371",
   "metadata": {},
   "outputs": [],
   "source": []
  }
 ],
 "metadata": {
  "kernelspec": {
   "display_name": "Python 3 (ipykernel)",
   "language": "python",
   "name": "python3"
  },
  "language_info": {
   "codemirror_mode": {
    "name": "ipython",
    "version": 3
   },
   "file_extension": ".py",
   "mimetype": "text/x-python",
   "name": "python",
   "nbconvert_exporter": "python",
   "pygments_lexer": "ipython3",
   "version": "3.10.6"
  }
 },
 "nbformat": 4,
 "nbformat_minor": 5
}
